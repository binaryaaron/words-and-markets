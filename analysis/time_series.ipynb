{
 "metadata": {
  "name": "",
  "signature": "sha256:cc8e4ced67b0bfbfe717d60f07e728888cbee54b65f69370da0ae8f337be615c"
 },
 "nbformat": 3,
 "nbformat_minor": 0,
 "worksheets": [
  {
   "cells": [
    {
     "cell_type": "markdown",
     "metadata": {},
     "source": [
      "# Initial analysis of tweet sentiment data\n",
      "\n",
      "dependencies:\n",
      "* pandas\n",
      "* ggplot\n",
      "* seaborn \n",
      "* statsmodels"
     ]
    },
    {
     "cell_type": "code",
     "collapsed": false,
     "input": [
      "# imports\n",
      "import numpy as np\n",
      "import pandas as pd\n",
      "import matplotlib.pyplot as plt\n",
      "#from ggplot import *\n",
      "from pandas import Series, DataFrame, Panel\n",
      "import seaborn as sns\n",
      "import statsmodels.tsa.api\n",
      "import datetime\n",
      "import pandas.io.data\n",
      "from pandas.tools.plotting import *\n",
      "\n",
      "%pylab qt"
     ],
     "language": "python",
     "metadata": {},
     "outputs": [
      {
       "output_type": "stream",
       "stream": "stdout",
       "text": [
        "Populating the interactive namespace from numpy and matplotlib\n"
       ]
      }
     ],
     "prompt_number": 11
    },
    {
     "cell_type": "code",
     "collapsed": false,
     "input": [
      "# date converter function for pandas time series to add a new, non-indexed column\n",
      "# to the set for ggplot\n",
      "def dateConvert(df):\n",
      "    dt = df.index\n",
      "    df['Date'] = dt\n",
      "    df.reset_index(drop=True)\n",
      "    return df"
     ],
     "language": "python",
     "metadata": {},
     "outputs": [],
     "prompt_number": 4
    },
    {
     "cell_type": "code",
     "collapsed": false,
     "input": [
      "\n",
      "pylab.rcParams['figure.figsize'] = (14, 14.0)\n"
     ],
     "language": "python",
     "metadata": {},
     "outputs": [],
     "prompt_number": 18
    },
    {
     "cell_type": "code",
     "collapsed": false,
     "input": [],
     "language": "python",
     "metadata": {},
     "outputs": [],
     "prompt_number": 0
    },
    {
     "cell_type": "code",
     "collapsed": false,
     "input": [],
     "language": "python",
     "metadata": {},
     "outputs": [],
     "prompt_number": 0
    },
    {
     "cell_type": "code",
     "collapsed": false,
     "input": [],
     "language": "python",
     "metadata": {},
     "outputs": [],
     "prompt_number": 0
    },
    {
     "cell_type": "code",
     "collapsed": false,
     "input": [],
     "language": "python",
     "metadata": {},
     "outputs": [],
     "prompt_number": 0
    },
    {
     "cell_type": "markdown",
     "metadata": {},
     "source": [
      "Here we read the data from our csv file into a data frame, parsing the date column as dates and indexing on dates."
     ]
    },
    {
     "cell_type": "code",
     "collapsed": false,
     "input": [
      "tweet_data = pd.read_csv('tweet_sentiment_scores.csv', parse_dates=[0], index_col=['time'])"
     ],
     "language": "python",
     "metadata": {},
     "outputs": [],
     "prompt_number": 5
    },
    {
     "cell_type": "code",
     "collapsed": false,
     "input": [
      "#sanity check\n",
      "tweet_data.keys()"
     ],
     "language": "python",
     "metadata": {},
     "outputs": [
      {
       "metadata": {},
       "output_type": "pyout",
       "prompt_number": 6,
       "text": [
        "Index([u'total_tweets', u'lsi_words', u'lda_words', u'lsi_score', u'lda_score'], dtype='object')"
       ]
      }
     ],
     "prompt_number": 6
    },
    {
     "cell_type": "code",
     "collapsed": false,
     "input": [],
     "language": "python",
     "metadata": {},
     "outputs": [],
     "prompt_number": 90
    },
    {
     "cell_type": "code",
     "collapsed": false,
     "input": [],
     "language": "python",
     "metadata": {},
     "outputs": [],
     "prompt_number": 5
    },
    {
     "cell_type": "code",
     "collapsed": false,
     "input": [],
     "language": "python",
     "metadata": {},
     "outputs": [
      {
       "metadata": {},
       "output_type": "pyout",
       "prompt_number": 9,
       "text": [
        "Index([u'total_tweets', u'lsi_words', u'lda_words', u'lsi_score', u'lda_score '], dtype='object')"
       ]
      }
     ],
     "prompt_number": 9
    },
    {
     "cell_type": "code",
     "collapsed": false,
     "input": [],
     "language": "python",
     "metadata": {},
     "outputs": [],
     "prompt_number": 5
    },
    {
     "cell_type": "code",
     "collapsed": false,
     "input": [],
     "language": "python",
     "metadata": {},
     "outputs": [],
     "prompt_number": 125
    },
    {
     "cell_type": "code",
     "collapsed": false,
     "input": [],
     "language": "python",
     "metadata": {},
     "outputs": [],
     "prompt_number": 69
    },
    {
     "cell_type": "code",
     "collapsed": false,
     "input": [],
     "language": "python",
     "metadata": {},
     "outputs": [],
     "prompt_number": 125
    },
    {
     "cell_type": "code",
     "collapsed": false,
     "input": [
      "#tweet_data.total_tweets.rolplot()"
     ],
     "language": "python",
     "metadata": {},
     "outputs": [],
     "prompt_number": 4
    },
    {
     "cell_type": "code",
     "collapsed": false,
     "input": [],
     "language": "python",
     "metadata": {},
     "outputs": [],
     "prompt_number": 7
    },
    {
     "cell_type": "code",
     "collapsed": false,
     "input": [],
     "language": "python",
     "metadata": {},
     "outputs": [],
     "prompt_number": 6
    },
    {
     "cell_type": "code",
     "collapsed": false,
     "input": [
      "tweet_dates = dateConvert(tweet_data)\n",
      "tweet_dates.head()\n",
      "tweet_dates = tweet_dates[['Date','lsi_score','lda_score']]\n"
     ],
     "language": "python",
     "metadata": {},
     "outputs": [],
     "prompt_number": 7
    },
    {
     "cell_type": "code",
     "collapsed": false,
     "input": [
      "data = pd.melt(tweet_dates, id_vars='Date').dropna() # Here is the method I use to format the data in the long format. Please note the use of 'Date' as the id_vars.\n",
      "\n",
      "data = data.rename(columns = {'Date':'Date','variable':'index','value':'score'}) # common to rename these columns"
     ],
     "language": "python",
     "metadata": {},
     "outputs": [],
     "prompt_number": 8
    },
    {
     "cell_type": "code",
     "collapsed": false,
     "input": [
      "print data.info()\n",
      "data.head()"
     ],
     "language": "python",
     "metadata": {},
     "outputs": [
      {
       "output_type": "stream",
       "stream": "stdout",
       "text": [
        "<class 'pandas.core.frame.DataFrame'>\n",
        "Int64Index: 698 entries, 0 to 697\n",
        "Data columns (total 3 columns):\n",
        "Date     698 non-null datetime64[ns]\n",
        "index    698 non-null object\n",
        "score    698 non-null float64\n",
        "dtypes: datetime64[ns](1), float64(1), object(1)\n",
        "memory usage: 21.8+ KB\n",
        "None\n"
       ]
      },
      {
       "html": [
        "<div style=\"max-height:1000px;max-width:1500px;overflow:auto;\">\n",
        "<table border=\"1\" class=\"dataframe\">\n",
        "  <thead>\n",
        "    <tr style=\"text-align: right;\">\n",
        "      <th></th>\n",
        "      <th>Date</th>\n",
        "      <th>index</th>\n",
        "      <th>score</th>\n",
        "    </tr>\n",
        "  </thead>\n",
        "  <tbody>\n",
        "    <tr>\n",
        "      <th>0</th>\n",
        "      <td>2014-10-17 08:00:00</td>\n",
        "      <td> lsi_score</td>\n",
        "      <td> 5.480078</td>\n",
        "    </tr>\n",
        "    <tr>\n",
        "      <th>1</th>\n",
        "      <td>2014-10-17 09:00:00</td>\n",
        "      <td> lsi_score</td>\n",
        "      <td> 4.737615</td>\n",
        "    </tr>\n",
        "    <tr>\n",
        "      <th>2</th>\n",
        "      <td>2014-10-17 10:00:00</td>\n",
        "      <td> lsi_score</td>\n",
        "      <td> 5.868986</td>\n",
        "    </tr>\n",
        "    <tr>\n",
        "      <th>3</th>\n",
        "      <td>2014-10-17 11:00:00</td>\n",
        "      <td> lsi_score</td>\n",
        "      <td> 4.136575</td>\n",
        "    </tr>\n",
        "    <tr>\n",
        "      <th>4</th>\n",
        "      <td>2014-10-17 12:00:00</td>\n",
        "      <td> lsi_score</td>\n",
        "      <td> 4.702260</td>\n",
        "    </tr>\n",
        "  </tbody>\n",
        "</table>\n",
        "</div>"
       ],
       "metadata": {},
       "output_type": "pyout",
       "prompt_number": 9,
       "text": [
        "                 Date      index     score\n",
        "0 2014-10-17 08:00:00  lsi_score  5.480078\n",
        "1 2014-10-17 09:00:00  lsi_score  4.737615\n",
        "2 2014-10-17 10:00:00  lsi_score  5.868986\n",
        "3 2014-10-17 11:00:00  lsi_score  4.136575\n",
        "4 2014-10-17 12:00:00  lsi_score  4.702260"
       ]
      }
     ],
     "prompt_number": 9
    },
    {
     "cell_type": "code",
     "collapsed": false,
     "input": [],
     "language": "python",
     "metadata": {},
     "outputs": [
      {
       "output_type": "stream",
       "stream": "stderr",
       "text": [
        "/usr/local/lib/python2.7/site-packages/matplotlib/figure.py:387: UserWarning: matplotlib is currently using a non-GUI backend, so cannot show the figure\n",
        "  \"matplotlib is currently using a non-GUI backend, \"\n"
       ]
      }
     ],
     "prompt_number": 9
    },
    {
     "cell_type": "code",
     "collapsed": false,
     "input": [],
     "language": "python",
     "metadata": {},
     "outputs": [],
     "prompt_number": 10
    },
    {
     "cell_type": "code",
     "collapsed": false,
     "input": [],
     "language": "python",
     "metadata": {},
     "outputs": [
      {
       "html": [
        "<div style=\"max-height:1000px;max-width:1500px;overflow:auto;\">\n",
        "<table border=\"1\" class=\"dataframe\">\n",
        "  <thead>\n",
        "    <tr style=\"text-align: right;\">\n",
        "      <th></th>\n",
        "      <th>AAPL</th>\n",
        "      <th>AMZN</th>\n",
        "      <th>GOOGL</th>\n",
        "      <th>IBM</th>\n",
        "      <th>MSFT</th>\n",
        "    </tr>\n",
        "    <tr>\n",
        "      <th>Date</th>\n",
        "      <th></th>\n",
        "      <th></th>\n",
        "      <th></th>\n",
        "      <th></th>\n",
        "      <th></th>\n",
        "    </tr>\n",
        "  </thead>\n",
        "  <tbody>\n",
        "    <tr>\n",
        "      <th>2010-01-04</th>\n",
        "      <td> 28.95</td>\n",
        "      <td> 133.90</td>\n",
        "      <td> 313.69</td>\n",
        "      <td> 120.37</td>\n",
        "      <td> 27.14</td>\n",
        "    </tr>\n",
        "    <tr>\n",
        "      <th>2010-01-05</th>\n",
        "      <td> 29.00</td>\n",
        "      <td> 134.69</td>\n",
        "      <td> 312.31</td>\n",
        "      <td> 118.92</td>\n",
        "      <td> 27.14</td>\n",
        "    </tr>\n",
        "    <tr>\n",
        "      <th>2010-01-06</th>\n",
        "      <td> 28.54</td>\n",
        "      <td> 132.25</td>\n",
        "      <td> 304.43</td>\n",
        "      <td> 118.14</td>\n",
        "      <td> 26.98</td>\n",
        "    </tr>\n",
        "    <tr>\n",
        "      <th>2010-01-07</th>\n",
        "      <td> 28.49</td>\n",
        "      <td> 130.00</td>\n",
        "      <td> 297.35</td>\n",
        "      <td> 117.74</td>\n",
        "      <td> 26.70</td>\n",
        "    </tr>\n",
        "    <tr>\n",
        "      <th>2010-01-08</th>\n",
        "      <td> 28.68</td>\n",
        "      <td> 133.52</td>\n",
        "      <td> 301.31</td>\n",
        "      <td> 118.92</td>\n",
        "      <td> 26.88</td>\n",
        "    </tr>\n",
        "  </tbody>\n",
        "</table>\n",
        "</div>"
       ],
       "metadata": {},
       "output_type": "pyout",
       "prompt_number": 10,
       "text": [
        "             AAPL    AMZN   GOOGL     IBM   MSFT\n",
        "Date                                            \n",
        "2010-01-04  28.95  133.90  313.69  120.37  27.14\n",
        "2010-01-05  29.00  134.69  312.31  118.92  27.14\n",
        "2010-01-06  28.54  132.25  304.43  118.14  26.98\n",
        "2010-01-07  28.49  130.00  297.35  117.74  26.70\n",
        "2010-01-08  28.68  133.52  301.31  118.92  26.88"
       ]
      }
     ],
     "prompt_number": 10
    },
    {
     "cell_type": "code",
     "collapsed": false,
     "input": [],
     "language": "python",
     "metadata": {},
     "outputs": [],
     "prompt_number": 29
    },
    {
     "cell_type": "code",
     "collapsed": false,
     "input": [],
     "language": "python",
     "metadata": {},
     "outputs": [],
     "prompt_number": 12
    },
    {
     "cell_type": "code",
     "collapsed": false,
     "input": [],
     "language": "python",
     "metadata": {},
     "outputs": [],
     "prompt_number": 13
    },
    {
     "cell_type": "code",
     "collapsed": false,
     "input": [],
     "language": "python",
     "metadata": {},
     "outputs": [],
     "prompt_number": 13
    },
    {
     "cell_type": "code",
     "collapsed": false,
     "input": [
      "rets = df.pct_change()\n"
     ],
     "language": "python",
     "metadata": {},
     "outputs": [
      {
       "ename": "NameError",
       "evalue": "name 'df' is not defined",
       "output_type": "pyerr",
       "traceback": [
        "\u001b[0;31m---------------------------------------------------------------------------\u001b[0m\n\u001b[0;31mNameError\u001b[0m                                 Traceback (most recent call last)",
        "\u001b[0;32m<ipython-input-13-3c3ca3abd7d4>\u001b[0m in \u001b[0;36m<module>\u001b[0;34m()\u001b[0m\n\u001b[0;32m----> 1\u001b[0;31m \u001b[0mrets\u001b[0m \u001b[0;34m=\u001b[0m \u001b[0mdf\u001b[0m\u001b[0;34m.\u001b[0m\u001b[0mpct_change\u001b[0m\u001b[0;34m(\u001b[0m\u001b[0;34m)\u001b[0m\u001b[0;34m\u001b[0m\u001b[0m\n\u001b[0m",
        "\u001b[0;31mNameError\u001b[0m: name 'df' is not defined"
       ]
      }
     ],
     "prompt_number": 13
    },
    {
     "cell_type": "code",
     "collapsed": false,
     "input": [],
     "language": "python",
     "metadata": {},
     "outputs": [
      {
       "metadata": {},
       "output_type": "pyout",
       "prompt_number": 41,
       "text": [
        "<matplotlib.collections.PathCollection at 0x10cd70ad0>"
       ]
      }
     ],
     "prompt_number": 41
    },
    {
     "cell_type": "code",
     "collapsed": false,
     "input": [
      "corr = rets.corr()\n",
      "corr"
     ],
     "language": "python",
     "metadata": {},
     "outputs": [
      {
       "html": [
        "<div style=\"max-height:1000px;max-width:1500px;overflow:auto;\">\n",
        "<table border=\"1\" class=\"dataframe\">\n",
        "  <thead>\n",
        "    <tr style=\"text-align: right;\">\n",
        "      <th></th>\n",
        "      <th>AAPL</th>\n",
        "      <th>AMZN</th>\n",
        "      <th>GOOGL</th>\n",
        "      <th>IBM</th>\n",
        "      <th>MSFT</th>\n",
        "    </tr>\n",
        "  </thead>\n",
        "  <tbody>\n",
        "    <tr>\n",
        "      <th>AAPL</th>\n",
        "      <td> 1.000000</td>\n",
        "      <td> 0.436561</td>\n",
        "      <td> 0.533450</td>\n",
        "      <td> 0.501805</td>\n",
        "      <td> 0.473265</td>\n",
        "    </tr>\n",
        "    <tr>\n",
        "      <th>AMZN</th>\n",
        "      <td> 0.436561</td>\n",
        "      <td> 1.000000</td>\n",
        "      <td> 0.506103</td>\n",
        "      <td> 0.459719</td>\n",
        "      <td> 0.455780</td>\n",
        "    </tr>\n",
        "    <tr>\n",
        "      <th>GOOGL</th>\n",
        "      <td> 0.533450</td>\n",
        "      <td> 0.506103</td>\n",
        "      <td> 1.000000</td>\n",
        "      <td> 0.470790</td>\n",
        "      <td> 0.473066</td>\n",
        "    </tr>\n",
        "    <tr>\n",
        "      <th>IBM</th>\n",
        "      <td> 0.501805</td>\n",
        "      <td> 0.459719</td>\n",
        "      <td> 0.470790</td>\n",
        "      <td> 1.000000</td>\n",
        "      <td> 0.645972</td>\n",
        "    </tr>\n",
        "    <tr>\n",
        "      <th>MSFT</th>\n",
        "      <td> 0.473265</td>\n",
        "      <td> 0.455780</td>\n",
        "      <td> 0.473066</td>\n",
        "      <td> 0.645972</td>\n",
        "      <td> 1.000000</td>\n",
        "    </tr>\n",
        "  </tbody>\n",
        "</table>\n",
        "</div>"
       ],
       "metadata": {},
       "output_type": "pyout",
       "prompt_number": 42,
       "text": [
        "           AAPL      AMZN     GOOGL       IBM      MSFT\n",
        "AAPL   1.000000  0.436561  0.533450  0.501805  0.473265\n",
        "AMZN   0.436561  1.000000  0.506103  0.459719  0.455780\n",
        "GOOGL  0.533450  0.506103  1.000000  0.470790  0.473066\n",
        "IBM    0.501805  0.459719  0.470790  1.000000  0.645972\n",
        "MSFT   0.473265  0.455780  0.473066  0.645972  1.000000"
       ]
      }
     ],
     "prompt_number": 42
    },
    {
     "cell_type": "code",
     "collapsed": false,
     "input": [
      "plt.imshow(corr, cmap = 'hot', interpolation='none')\n",
      "plt.colorbar()\n",
      "plt.xticks(range(len(corr)), corr.columns)\n",
      "plt.yticks(range(len(corr)), corr.columns)\n",
      "plt.show()"
     ],
     "language": "python",
     "metadata": {},
     "outputs": [],
     "prompt_number": 45
    },
    {
     "cell_type": "code",
     "collapsed": false,
     "input": [],
     "language": "python",
     "metadata": {},
     "outputs": []
    },
    {
     "cell_type": "code",
     "collapsed": false,
     "input": [],
     "language": "python",
     "metadata": {},
     "outputs": [],
     "prompt_number": 15
    },
    {
     "cell_type": "code",
     "collapsed": false,
     "input": [],
     "language": "python",
     "metadata": {},
     "outputs": [],
     "prompt_number": 15
    },
    {
     "cell_type": "code",
     "collapsed": false,
     "input": [],
     "language": "python",
     "metadata": {},
     "outputs": [],
     "prompt_number": 15
    },
    {
     "cell_type": "code",
     "collapsed": false,
     "input": [
      "plt.figure()"
     ],
     "language": "python",
     "metadata": {},
     "outputs": [
      {
       "metadata": {},
       "output_type": "pyout",
       "prompt_number": 14,
       "text": [
        "<matplotlib.figure.Figure at 0x10a11cfd0>"
       ]
      }
     ],
     "prompt_number": 14
    },
    {
     "cell_type": "code",
     "collapsed": false,
     "input": [
      "lag_plot(tweet_data.lsi_score)\n",
      "show()"
     ],
     "language": "python",
     "metadata": {},
     "outputs": [],
     "prompt_number": 17
    },
    {
     "cell_type": "code",
     "collapsed": false,
     "input": [
      "lag_plot(tweet_data.lda_score)\n",
      "show()"
     ],
     "language": "python",
     "metadata": {},
     "outputs": [],
     "prompt_number": 18
    },
    {
     "cell_type": "code",
     "collapsed": false,
     "input": [
      "autocorrelation_plot(tweet_data.lsi_score)\n",
      "show()"
     ],
     "language": "python",
     "metadata": {},
     "outputs": [],
     "prompt_number": 19
    },
    {
     "cell_type": "code",
     "collapsed": false,
     "input": [
      "autocorrelation_plot(tweet_data.lda_score)"
     ],
     "language": "python",
     "metadata": {},
     "outputs": [
      {
       "metadata": {},
       "output_type": "pyout",
       "prompt_number": 9,
       "text": [
        "<matplotlib.axes._subplots.AxesSubplot at 0x7fc072460f10>"
       ]
      },
      {
       "metadata": {},
       "output_type": "display_data",
       "png": "[encoded data removed]",
       "text": [
        "<matplotlib.figure.Figure at 0x7fc0715192d0>"
       ]
      }
     ],
     "prompt_number": 9
    },
    {
     "cell_type": "code",
     "collapsed": false,
     "input": [
      "from pandas.tools.plotting import bootstrap_plot\n",
      "bootstrap_plot(tweet_data.lsi_score, size = 50, samples = 300\n",
      "               , color = 'grey')"
     ],
     "language": "python",
     "metadata": {},
     "outputs": [
      {
       "metadata": {},
       "output_type": "pyout",
       "png": "[encoded data removed]",
       "prompt_number": 23,
       "text": [
        "<matplotlib.figure.Figure at 0x7fbd35a0c1d0>"
       ]
      },
      {
       "metadata": {},
       "output_type": "display_data",
       "png": "[encoded data removed]",
       "text": [
        "<matplotlib.figure.Figure at 0x7fbd35a0c1d0>"
       ]
      }
     ],
     "prompt_number": 23
    },
    {
     "cell_type": "code",
     "collapsed": false,
     "input": [
      "mas = pd.rolling_mean(tweet_data.lsi_score, 20)\n",
      "mstd = pd.rolling_std(tweet_data.lsi_score, 20)\n",
      "mad = pd.rolling_mean(tweet_data.lda_score, 20)\n",
      "madst = pd.rolling_std(tweet_data.lda_score, 20)\n",
      "\n",
      "#plt.plot(tweet_data.index, tweet_data.lsi_score, 'k')\n",
      "plt.plot(mas.index, mas)\n",
      "plt.fill_between(mstd.index, mas-mstd, mas+mstd, color = 'b', alpha = 0.1)\n",
      "plt.plot(mad.index, mad)\n",
      "plt.fill_between(madst.index, mad-madst, mad+madst, color = 'g', alpha = 0.1)\n",
      "plt.xticks(rotation=50)\n",
      "plt.legend()\n",
      "show()\n"
     ],
     "language": "python",
     "metadata": {},
     "outputs": [
      {
       "output_type": "stream",
       "stream": "stderr",
       "text": [
        "/usr/local/lib/python2.7/site-packages/matplotlib/axes/_axes.py:476: UserWarning: No labelled objects found. Use label='...' kwarg on individual plots.\n",
        "  warnings.warn(\"No labelled objects found. \"\n"
       ]
      }
     ],
     "prompt_number": 20
    },
    {
     "cell_type": "code",
     "collapsed": false,
     "input": [],
     "language": "python",
     "metadata": {},
     "outputs": [],
     "prompt_number": 35
    },
    {
     "cell_type": "code",
     "collapsed": false,
     "input": [],
     "language": "python",
     "metadata": {},
     "outputs": [],
     "prompt_number": 25
    },
    {
     "cell_type": "code",
     "collapsed": false,
     "input": [
      "stock_data = pd.read_csv('../data/stocks.csv', parse_dates={'Timestamp': ['Date', 'Time']},\n",
      "                    index_col='Timestamp')\n",
      "\n",
      "stock_data = stock_data[['Stockid','Close']]\n",
      "stock_data.head()"
     ],
     "language": "python",
     "metadata": {},
     "outputs": [
      {
       "html": [
        "<div style=\"max-height:1000px;max-width:1500px;overflow:auto;\">\n",
        "<table border=\"1\" class=\"dataframe\">\n",
        "  <thead>\n",
        "    <tr style=\"text-align: right;\">\n",
        "      <th></th>\n",
        "      <th>Stockid</th>\n",
        "      <th>Close</th>\n",
        "    </tr>\n",
        "    <tr>\n",
        "      <th>Timestamp</th>\n",
        "      <th></th>\n",
        "      <th></th>\n",
        "    </tr>\n",
        "  </thead>\n",
        "  <tbody>\n",
        "    <tr>\n",
        "      <th>2014-08-12 16:00:00</th>\n",
        "      <td> msft</td>\n",
        "      <td> 43.071</td>\n",
        "    </tr>\n",
        "    <tr>\n",
        "      <th>2014-08-12 17:00:00</th>\n",
        "      <td> msft</td>\n",
        "      <td> 43.091</td>\n",
        "    </tr>\n",
        "    <tr>\n",
        "      <th>2014-08-12 18:00:00</th>\n",
        "      <td> msft</td>\n",
        "      <td> 43.031</td>\n",
        "    </tr>\n",
        "    <tr>\n",
        "      <th>2014-08-12 19:00:00</th>\n",
        "      <td> msft</td>\n",
        "      <td> 43.086</td>\n",
        "    </tr>\n",
        "    <tr>\n",
        "      <th>2014-08-12 20:00:00</th>\n",
        "      <td> msft</td>\n",
        "      <td> 43.137</td>\n",
        "    </tr>\n",
        "  </tbody>\n",
        "</table>\n",
        "</div>"
       ],
       "metadata": {},
       "output_type": "pyout",
       "prompt_number": 22,
       "text": [
        "                    Stockid   Close\n",
        "Timestamp                          \n",
        "2014-08-12 16:00:00    msft  43.071\n",
        "2014-08-12 17:00:00    msft  43.091\n",
        "2014-08-12 18:00:00    msft  43.031\n",
        "2014-08-12 19:00:00    msft  43.086\n",
        "2014-08-12 20:00:00    msft  43.137"
       ]
      }
     ],
     "prompt_number": 22
    },
    {
     "cell_type": "code",
     "collapsed": false,
     "input": [],
     "language": "python",
     "metadata": {},
     "outputs": [],
     "prompt_number": 13
    },
    {
     "cell_type": "code",
     "collapsed": false,
     "input": [],
     "language": "python",
     "metadata": {},
     "outputs": [
      {
       "metadata": {},
       "output_type": "pyout",
       "prompt_number": 53,
       "text": [
        "pandas.tseries.index.DatetimeIndex"
       ]
      }
     ],
     "prompt_number": 53
    },
    {
     "cell_type": "code",
     "collapsed": false,
     "input": [],
     "language": "python",
     "metadata": {},
     "outputs": [],
     "prompt_number": 31
    },
    {
     "cell_type": "code",
     "collapsed": false,
     "input": [],
     "language": "python",
     "metadata": {},
     "outputs": [],
     "prompt_number": 31
    },
    {
     "cell_type": "code",
     "collapsed": false,
     "input": [],
     "language": "python",
     "metadata": {},
     "outputs": [],
     "prompt_number": 14
    },
    {
     "cell_type": "code",
     "collapsed": false,
     "input": [
      "dateConvert(stock_data);"
     ],
     "language": "python",
     "metadata": {},
     "outputs": [],
     "prompt_number": 54
    },
    {
     "cell_type": "code",
     "collapsed": false,
     "input": [
      "stock_data_pivot = stock_data.pivot(index = 'Date', columns='Stockid', values='Close')\n",
      "stock_data_pivot.head()\n",
      "type(stock_data_pivot.index)"
     ],
     "language": "python",
     "metadata": {},
     "outputs": [
      {
       "metadata": {},
       "output_type": "pyout",
       "prompt_number": 55,
       "text": [
        "pandas.tseries.index.DatetimeIndex"
       ]
      }
     ],
     "prompt_number": 55
    },
    {
     "cell_type": "code",
     "collapsed": false,
     "input": [
      "stock_data_pivot.plot()"
     ],
     "language": "python",
     "metadata": {},
     "outputs": [
      {
       "metadata": {},
       "output_type": "pyout",
       "prompt_number": 56,
       "text": [
        "<matplotlib.axes._subplots.AxesSubplot at 0x1164619d0>"
       ]
      }
     ],
     "prompt_number": 56
    },
    {
     "cell_type": "code",
     "collapsed": false,
     "input": [
      "test = stock_data_pivot\n",
      "test = test.join(tweet_data)\n"
     ],
     "language": "python",
     "metadata": {},
     "outputs": [],
     "prompt_number": 35
    },
    {
     "cell_type": "code",
     "collapsed": false,
     "input": [
      "mas = pd.rolling_mean(tweet_data.lsi_score, 20)\n",
      "mstd = pd.rolling_std(tweet_data.lsi_score, 20)\n",
      "mad = pd.rolling_mean(tweet_data.lda_score, 20)\n",
      "madst = pd.rolling_std(tweet_data.lda_score, 20)\n",
      "\n",
      "#plt.plot(tweet_data.index, tweet_data.lsi_score, 'k')\n",
      "plt.plot(mas.index, mas, label='LSI')\n",
      "plt.fill_between(mstd.index, mas-mstd, mas+mstd, color = 'b', alpha = 0.1)\n",
      "plt.plot(mad.index, mad, label='LDA')\n",
      "plt.fill_between(madst.index, mad-madst, mad+madst, color = 'g', alpha = 0.1)\n",
      "plt.xticks(rotation=50)\n",
      "plt.legend()"
     ],
     "language": "python",
     "metadata": {},
     "outputs": [
      {
       "metadata": {},
       "output_type": "pyout",
       "prompt_number": 57,
       "text": [
        "<matplotlib.legend.Legend at 0x115f65090>"
       ]
      }
     ],
     "prompt_number": 57
    },
    {
     "cell_type": "code",
     "collapsed": false,
     "input": [],
     "language": "python",
     "metadata": {},
     "outputs": [],
     "prompt_number": 71
    },
    {
     "cell_type": "code",
     "collapsed": false,
     "input": [
      "test.keys()\n",
      "testa = test[['aapl', 'amzn', 'fb', 'goog', 'googl', 'msft', 'twtr', 'total_tweets', 'lsi_score', 'lda_score']]"
     ],
     "language": "python",
     "metadata": {},
     "outputs": [],
     "prompt_number": 28
    },
    {
     "cell_type": "code",
     "collapsed": false,
     "input": [
      "from sklearn.preprocessing import scale\n",
      "from sklearn import preprocessing\n",
      "from pandas import DataFrame\n",
      "\n",
      "zscore = lambda x: (x - x.mean()) / x.std()"
     ],
     "language": "python",
     "metadata": {},
     "outputs": [],
     "prompt_number": 58
    },
    {
     "cell_type": "code",
     "collapsed": false,
     "input": [
      "tweet_data.lsi_score.count()\n"
     ],
     "language": "python",
     "metadata": {},
     "outputs": [
      {
       "metadata": {},
       "output_type": "pyout",
       "prompt_number": 59,
       "text": [
        "349"
       ]
      }
     ],
     "prompt_number": 59
    },
    {
     "cell_type": "code",
     "collapsed": false,
     "input": [
      "z_tweets = scale(tweet_data.lsi_score)\n",
      "z_tweets = DataFrame(z_tweets, index=tweet_data.index)\n",
      "z_tweets['tph'] = scale(log(tweet_data.total_tweets))\n",
      "z_tweets.columns = ['lsi_score','tweets_per_hour']\n",
      "z_tweets.plot()\n"
     ],
     "language": "python",
     "metadata": {},
     "outputs": [
      {
       "metadata": {},
       "output_type": "pyout",
       "prompt_number": 60,
       "text": [
        "<matplotlib.axes._subplots.AxesSubplot at 0x1163b24d0>"
       ]
      }
     ],
     "prompt_number": 60
    },
    {
     "cell_type": "code",
     "collapsed": false,
     "input": [
      "\n",
      "stock_data_pivot.amzn.count()\n",
      "stock_data_pivot.amzn = stock_data_pivot.amzn.interpolate()\n",
      "stock_data_pivot.amzn.count()\n"
     ],
     "language": "python",
     "metadata": {},
     "outputs": [
      {
       "metadata": {},
       "output_type": "pyout",
       "prompt_number": 61,
       "text": [
        "447"
       ]
      }
     ],
     "prompt_number": 61
    },
    {
     "cell_type": "code",
     "collapsed": false,
     "input": [
      "z_stock = scale(stock_data_pivot)\n",
      "z_stock = DataFrame(z_stock, index=stock_data_pivot.index)\n"
     ],
     "language": "python",
     "metadata": {},
     "outputs": [],
     "prompt_number": 62
    },
    {
     "cell_type": "code",
     "collapsed": false,
     "input": [
      "z_stock.columns = ['aapl', 'amzn', 'fb', 'goog', 'googl', 'msft', 'twtr']\n",
      "z_stock.plot()"
     ],
     "language": "python",
     "metadata": {},
     "outputs": [
      {
       "metadata": {},
       "output_type": "pyout",
       "prompt_number": 67,
       "text": [
        "<matplotlib.axes._subplots.AxesSubplot at 0x115ef5650>"
       ]
      }
     ],
     "prompt_number": 67
    },
    {
     "cell_type": "code",
     "collapsed": false,
     "input": [
      "test = z_stock\n",
      "test = test.join(z_tweets)\n",
      "\n",
      "test.lsi_score.count()\n",
      "test.interpolate().plot()\n"
     ],
     "language": "python",
     "metadata": {},
     "outputs": [
      {
       "metadata": {},
       "output_type": "pyout",
       "prompt_number": 64,
       "text": [
        "<matplotlib.axes._subplots.AxesSubplot at 0x116287c10>"
       ]
      }
     ],
     "prompt_number": 64
    },
    {
     "cell_type": "code",
     "collapsed": false,
     "input": [
      "test.pct_change().plot()"
     ],
     "language": "python",
     "metadata": {},
     "outputs": [
      {
       "metadata": {},
       "output_type": "pyout",
       "prompt_number": 68,
       "text": [
        "<matplotlib.axes._subplots.AxesSubplot at 0x115dfa850>"
       ]
      }
     ],
     "prompt_number": 68
    },
    {
     "cell_type": "code",
     "collapsed": false,
     "input": [
      "tweet_data.total_tweets.plot()"
     ],
     "language": "python",
     "metadata": {},
     "outputs": [
      {
       "metadata": {},
       "output_type": "pyout",
       "prompt_number": 66,
       "text": [
        "<matplotlib.axes._subplots.AxesSubplot at 0x1160ff710>"
       ]
      }
     ],
     "prompt_number": 66
    },
    {
     "cell_type": "code",
     "collapsed": false,
     "input": [
      "tweet_data.total_tweets.pct_change().plot()"
     ],
     "language": "python",
     "metadata": {},
     "outputs": [
      {
       "metadata": {},
       "output_type": "pyout",
       "prompt_number": 39,
       "text": [
        "<matplotlib.axes._subplots.AxesSubplot at 0x10e7eb750>"
       ]
      },
      {
       "metadata": {},
       "output_type": "display_data",
       "png": "[encoded data removed]",
       "text": [
        "<matplotlib.figure.Figure at 0x10e86a5d0>"
       ]
      }
     ],
     "prompt_number": 39
    },
    {
     "cell_type": "code",
     "collapsed": false,
     "input": [
      "test.lsi_score.pct_change().plot()"
     ],
     "language": "python",
     "metadata": {},
     "outputs": [
      {
       "metadata": {},
       "output_type": "pyout",
       "prompt_number": 69,
       "text": [
        "<matplotlib.axes._subplots.AxesSubplot at 0x1137ea0d0>"
       ]
      }
     ],
     "prompt_number": 69
    },
    {
     "cell_type": "code",
     "collapsed": false,
     "input": [
      "test.lsi_score.interpolate(method='polynomial', order=2).pct_change().plot()"
     ],
     "language": "python",
     "metadata": {},
     "outputs": [
      {
       "metadata": {},
       "output_type": "pyout",
       "prompt_number": 41,
       "text": [
        "<matplotlib.axes._subplots.AxesSubplot at 0x10eaa4210>"
       ]
      },
      {
       "metadata": {},
       "output_type": "display_data",
       "png": "[encoded data removed]",
       "text": [
        "<matplotlib.figure.Figure at 0x10ec30fd0>"
       ]
      }
     ],
     "prompt_number": 41
    },
    {
     "cell_type": "code",
     "collapsed": false,
     "input": [
      "import datetime as dt\n",
      "start = test.index.searchsorted(dt.datetime(2014,10,10))\n",
      "end = test.index.searchsorted(dt.datetime(2014,11,18))"
     ],
     "language": "python",
     "metadata": {},
     "outputs": [],
     "prompt_number": 70
    },
    {
     "cell_type": "code",
     "collapsed": false,
     "input": [
      "small_range = test.ix[start:end]\n"
     ],
     "language": "python",
     "metadata": {},
     "outputs": [],
     "prompt_number": 71
    },
    {
     "cell_type": "code",
     "collapsed": false,
     "input": [
      "small_range.lsi_score.interpolate().plot(label = 'lsi')\n",
      "small_range.goog.plot(label='AAPL')\n",
      "plt.legend()"
     ],
     "language": "python",
     "metadata": {},
     "outputs": [
      {
       "metadata": {},
       "output_type": "pyout",
       "prompt_number": 72,
       "text": [
        "<matplotlib.legend.Legend at 0x115e89f90>"
       ]
      }
     ],
     "prompt_number": 72
    },
    {
     "cell_type": "code",
     "collapsed": false,
     "input": [
      "mvavg = pd.rolling_mean(stock_data_pivot, 60)\n",
      "stock_data_pivot.goog.plot(style = 'k--')\n",
      "pd.rolling_mean(stock_data_pivot.goog, 60).plot(label = 'rmean')\n",
      "pd.ewma(stock_data_pivot.goog, span=60).plot(label = 'ewma')\n",
      "plt.legend()\n"
     ],
     "language": "python",
     "metadata": {},
     "outputs": [
      {
       "metadata": {},
       "output_type": "pyout",
       "prompt_number": 73,
       "text": [
        "<matplotlib.legend.Legend at 0x10f8f6dd0>"
       ]
      }
     ],
     "prompt_number": 73
    },
    {
     "cell_type": "code",
     "collapsed": false,
     "input": [
      "model = statsmodels.tsa.api.VAR(small_range.interpolate(), missing = 'drop')"
     ],
     "language": "python",
     "metadata": {},
     "outputs": [],
     "prompt_number": 74
    },
    {
     "cell_type": "code",
     "collapsed": false,
     "input": [
      "model.select_order(5)\n"
     ],
     "language": "python",
     "metadata": {},
     "outputs": [
      {
       "output_type": "stream",
       "stream": "stdout",
       "text": [
        "                 VAR Order Selection                 \n",
        "=====================================================\n",
        "           aic          bic          fpe         hqic\n",
        "-----------------------------------------------------\n",
        "0       -17.21       -16.99    3.353e-08       -17.12\n",
        "1      -32.61*      -30.44*   6.914e-15*      -31.73*\n",
        "2       -31.86       -27.73    1.503e-14       -30.18\n",
        "3       -31.19       -25.11    3.127e-14       -28.72\n",
        "4       -30.90       -22.86    4.783e-14       -27.63\n",
        "5       -30.38       -20.39    1.006e-13       -26.32\n",
        "=====================================================\n",
        "* Minimum\n",
        "\n"
       ]
      },
      {
       "metadata": {},
       "output_type": "pyout",
       "prompt_number": 75,
       "text": [
        "{'aic': 1, 'bic': 1, 'fpe': 1, 'hqic': 1}"
       ]
      }
     ],
     "prompt_number": 75
    },
    {
     "cell_type": "code",
     "collapsed": false,
     "input": [
      "results = model.fit(1)"
     ],
     "language": "python",
     "metadata": {},
     "outputs": [],
     "prompt_number": 76
    },
    {
     "cell_type": "code",
     "collapsed": false,
     "input": [
      "results.summary()"
     ],
     "language": "python",
     "metadata": {},
     "outputs": [
      {
       "metadata": {},
       "output_type": "pyout",
       "prompt_number": 77,
       "text": [
        "  Summary of Regression Results   \n",
        "==================================\n",
        "Model:                         VAR\n",
        "Method:                        OLS\n",
        "Date:           Sun, 23, Nov, 2014\n",
        "Time:                     23:08:49\n",
        "--------------------------------------------------------------------\n",
        "No. of Equations:         9.00000    BIC:                   -30.4798\n",
        "Nobs:                     117.000    HQIC:                  -31.7420\n",
        "Log likelihood:           503.227    FPE:                6.94443e-15\n",
        "AIC:                     -32.6046    Det(Omega_mle):     3.31953e-15\n",
        "--------------------------------------------------------------------\n",
        "Results for equation aapl\n",
        "=====================================================================================\n",
        "                        coefficient       std. error           t-stat            prob\n",
        "-------------------------------------------------------------------------------------\n",
        "const                      0.315195         0.134918            2.336           0.021\n",
        "L1.aapl                    0.846903         0.071321           11.875           0.000\n",
        "L1.amzn                    0.024485         0.031660            0.773           0.441\n",
        "L1.fb                      0.026706         0.019015            1.404           0.163\n",
        "L1.goog                   -0.395233         0.452136           -0.874           0.384\n",
        "L1.googl                   0.500266         0.465446            1.075           0.285\n",
        "L1.msft                    0.043068         0.043984            0.979           0.330\n",
        "L1.twtr                   -0.058947         0.038797           -1.519           0.132\n",
        "L1.lsi_score              -0.002186         0.011213           -0.195           0.846\n",
        "L1.tweets_per_hour        -0.055787         0.016201           -3.443           0.001\n",
        "=====================================================================================\n",
        "\n",
        "Results for equation amzn\n",
        "=====================================================================================\n",
        "                        coefficient       std. error           t-stat            prob\n",
        "-------------------------------------------------------------------------------------\n",
        "const                     -0.311263         0.200848           -1.550           0.124\n",
        "L1.aapl                    0.048158         0.106172            0.454           0.651\n",
        "L1.amzn                    0.950469         0.047131           20.166           0.000\n",
        "L1.fb                      0.014015         0.028307            0.495           0.622\n",
        "L1.goog                   -0.275807         0.673079           -0.410           0.683\n",
        "L1.googl                   0.159188         0.692892            0.230           0.819\n",
        "L1.msft                   -0.074838         0.065478           -1.143           0.256\n",
        "L1.twtr                   -0.087338         0.057755           -1.512           0.133\n",
        "L1.lsi_score               0.046009         0.016692            2.756           0.007\n",
        "L1.tweets_per_hour         0.017491         0.024118            0.725           0.470\n",
        "=====================================================================================\n",
        "\n",
        "Results for equation fb\n",
        "=====================================================================================\n",
        "                        coefficient       std. error           t-stat            prob\n",
        "-------------------------------------------------------------------------------------\n",
        "const                      0.084447         0.349580            0.242           0.810\n",
        "L1.aapl                    0.059037         0.184796            0.319           0.750\n",
        "L1.amzn                    0.005363         0.082033            0.065           0.948\n",
        "L1.fb                      0.858637         0.049269           17.427           0.000\n",
        "L1.goog                    0.665594         1.171510            0.568           0.571\n",
        "L1.googl                  -0.716217         1.205995           -0.594           0.554\n",
        "L1.msft                    0.029529         0.113966            0.259           0.796\n",
        "L1.twtr                    0.205887         0.100524            2.048           0.043\n",
        "L1.lsi_score               0.016745         0.029053            0.576           0.566\n",
        "L1.tweets_per_hour        -0.006228         0.041978           -0.148           0.882\n",
        "=====================================================================================\n",
        "\n",
        "Results for equation goog\n",
        "=====================================================================================\n",
        "                        coefficient       std. error           t-stat            prob\n",
        "-------------------------------------------------------------------------------------\n",
        "const                     -0.379630         0.126163           -3.009           0.003\n",
        "L1.aapl                    0.176156         0.066692            2.641           0.009\n",
        "L1.amzn                   -0.011537         0.029606           -0.390           0.698\n",
        "L1.fb                      0.022068         0.017781            1.241           0.217\n",
        "L1.goog                    0.355937         0.422795            0.842           0.402\n",
        "L1.googl                   0.499463         0.435241            1.148           0.254\n",
        "L1.msft                   -0.128513         0.041130           -3.125           0.002\n",
        "L1.twtr                   -0.046936         0.036279           -1.294           0.199\n",
        "L1.lsi_score               0.023529         0.010485            2.244           0.027\n",
        "L1.tweets_per_hour         0.008201         0.015150            0.541           0.589\n",
        "=====================================================================================\n",
        "\n",
        "Results for equation googl\n",
        "=====================================================================================\n",
        "                        coefficient       std. error           t-stat            prob\n",
        "-------------------------------------------------------------------------------------\n",
        "const                     -0.426649         0.128622           -3.317           0.001\n",
        "L1.aapl                    0.177996         0.067992            2.618           0.010\n",
        "L1.amzn                   -0.001138         0.030183           -0.038           0.970\n",
        "L1.fb                      0.025819         0.018128            1.424           0.157\n",
        "L1.goog                   -0.332962         0.431036           -0.772           0.442\n",
        "L1.googl                   1.156231         0.443724            2.606           0.010\n",
        "L1.msft                   -0.129262         0.041932           -3.083           0.003\n",
        "L1.twtr                   -0.060197         0.036986           -1.628           0.107\n",
        "L1.lsi_score               0.026780         0.010689            2.505           0.014\n",
        "L1.tweets_per_hour         0.011159         0.015445            0.722           0.472\n",
        "=====================================================================================\n",
        "\n",
        "Results for equation msft\n",
        "=====================================================================================\n",
        "                        coefficient       std. error           t-stat            prob\n",
        "-------------------------------------------------------------------------------------\n",
        "const                     -0.205926         0.153711           -1.340           0.183\n",
        "L1.aapl                    0.151956         0.081255            1.870           0.064\n",
        "L1.amzn                   -0.020681         0.036070           -0.573           0.568\n",
        "L1.fb                     -0.012563         0.021664           -0.580           0.563\n",
        "L1.goog                   -0.572414         0.515116           -1.111           0.269\n",
        "L1.googl                   0.501460         0.530279            0.946           0.346\n",
        "L1.msft                    0.876702         0.050111           17.495           0.000\n",
        "L1.twtr                   -0.017574         0.044201           -0.398           0.692\n",
        "L1.lsi_score               0.007051         0.012774            0.552           0.582\n",
        "L1.tweets_per_hour        -0.020027         0.018458           -1.085           0.280\n",
        "=====================================================================================\n",
        "\n",
        "Results for equation twtr\n",
        "=====================================================================================\n",
        "                        coefficient       std. error           t-stat            prob\n",
        "-------------------------------------------------------------------------------------\n",
        "const                     -0.309898         0.207743           -1.492           0.139\n",
        "L1.aapl                    0.086090         0.109817            0.784           0.435\n",
        "L1.amzn                    0.040369         0.048749            0.828           0.409\n",
        "L1.fb                      0.023996         0.029279            0.820           0.414\n",
        "L1.goog                   -0.381857         0.696185           -0.548           0.584\n",
        "L1.googl                   0.248304         0.716678            0.346           0.730\n",
        "L1.msft                   -0.114636         0.067726           -1.693           0.093\n",
        "L1.twtr                    0.857578         0.059738           14.356           0.000\n",
        "L1.lsi_score               0.006787         0.017265            0.393           0.695\n",
        "L1.tweets_per_hour        -0.032123         0.024946           -1.288           0.201\n",
        "=====================================================================================\n",
        "\n",
        "Results for equation lsi_score\n",
        "=====================================================================================\n",
        "                        coefficient       std. error           t-stat            prob\n",
        "-------------------------------------------------------------------------------------\n",
        "const                     -0.717252         0.843901           -0.850           0.397\n",
        "L1.aapl                    0.672611         0.446104            1.508           0.135\n",
        "L1.amzn                   -0.553207         0.198032           -2.794           0.006\n",
        "L1.fb                     -0.334041         0.118938           -2.809           0.006\n",
        "L1.goog                   -4.548884         2.828075           -1.608           0.111\n",
        "L1.googl                   4.524719         2.911323            1.554           0.123\n",
        "L1.msft                   -0.068838         0.275119           -0.250           0.803\n",
        "L1.twtr                    0.698991         0.242670            2.880           0.005\n",
        "L1.lsi_score               0.704062         0.070134           10.039           0.000\n",
        "L1.tweets_per_hour         0.099298         0.101338            0.980           0.329\n",
        "=====================================================================================\n",
        "\n",
        "Results for equation tweets_per_hour\n",
        "=====================================================================================\n",
        "                        coefficient       std. error           t-stat            prob\n",
        "-------------------------------------------------------------------------------------\n",
        "const                      0.267977         0.781715            0.343           0.732\n",
        "L1.aapl                    0.065735         0.413231            0.159           0.874\n",
        "L1.amzn                    0.275221         0.183439            1.500           0.136\n",
        "L1.fb                      0.074730         0.110173            0.678           0.499\n",
        "L1.goog                   -0.036781         2.619676           -0.014           0.989\n",
        "L1.googl                   0.092873         2.696789            0.034           0.973\n",
        "L1.msft                   -0.062820         0.254845           -0.247           0.806\n",
        "L1.twtr                   -0.236044         0.224788           -1.050           0.296\n",
        "L1.lsi_score              -0.112359         0.064966           -1.730           0.087\n",
        "L1.tweets_per_hour         0.317515         0.093870            3.382           0.001\n",
        "=====================================================================================\n",
        "\n",
        "Correlation matrix of residuals\n",
        "                       aapl      amzn        fb      goog     googl      msft      twtr  lsi_score  tweets_per_hour\n",
        "aapl               1.000000  0.291925  0.273036  0.445520  0.430580  0.276439 -0.041371  -0.052250         0.272346\n",
        "amzn               0.291925  1.000000  0.073104  0.461111  0.450895 -0.165022 -0.057528  -0.210056         0.131603\n",
        "fb                 0.273036  0.073104  1.000000  0.221549  0.237944  0.261687  0.182829  -0.049225         0.092713\n",
        "goog               0.445520  0.461111  0.221549  1.000000  0.989040  0.233486  0.032082  -0.129910         0.082436\n",
        "googl              0.430580  0.450895  0.237944  0.989040  1.000000  0.233940  0.034805  -0.096817         0.087629\n",
        "msft               0.276439 -0.165022  0.261687  0.233486  0.233940  1.000000  0.038612  -0.172910         0.142709\n",
        "twtr              -0.041371 -0.057528  0.182829  0.032082  0.034805  0.038612  1.000000   0.037028        -0.063840\n",
        "lsi_score         -0.052250 -0.210056 -0.049225 -0.129910 -0.096817 -0.172910  0.037028   1.000000        -0.198199\n",
        "tweets_per_hour    0.272346  0.131603  0.092713  0.082436  0.087629  0.142709 -0.063840  -0.198199         1.000000\n",
        "\n"
       ]
      }
     ],
     "prompt_number": 77
    },
    {
     "cell_type": "code",
     "collapsed": false,
     "input": [
      "results.plot()"
     ],
     "language": "python",
     "metadata": {},
     "outputs": [],
     "prompt_number": 78
    },
    {
     "cell_type": "code",
     "collapsed": false,
     "input": [
      "results.plot_acorr()"
     ],
     "language": "python",
     "metadata": {},
     "outputs": [
      {
       "metadata": {},
       "output_type": "display_data",
       "png": "[encoded data removed]",
       "text": [
        "<matplotlib.figure.Figure at 0x10cfe1990>"
       ]
      }
     ],
     "prompt_number": 83
    },
    {
     "cell_type": "code",
     "collapsed": false,
     "input": [
      "mvavg = pd.rolling_mean(small_range, 60)\n",
      "small_range.goog.plot(style = 'k--')\n",
      "pd.rolling_mean(small_range.goog, 60).plot(label = 'rmean')\n",
      "pd.ewma(small_range.goog, span=60).plot(label = 'ewma')\n",
      "plt.legend()\n"
     ],
     "language": "python",
     "metadata": {},
     "outputs": [
      {
       "metadata": {},
       "output_type": "pyout",
       "prompt_number": 79,
       "text": [
        "<matplotlib.legend.Legend at 0x115443290>"
       ]
      }
     ],
     "prompt_number": 79
    },
    {
     "cell_type": "code",
     "collapsed": false,
     "input": [
      "def wmean_plot(data, stock):\n",
      "    mvavg = pd.rolling_mean(data, 60)\n",
      "    data.stock.plot(style = 'k--')\n",
      "    pd.rolling_mean(data.stock, 60).plot(label = 'rmean')\n",
      "    pd.ewma(data.stock, span=60).plot(label = 'ewma')\n",
      "    plt.legend()\n",
      "    "
     ],
     "language": "python",
     "metadata": {},
     "outputs": [],
     "prompt_number": 80
    },
    {
     "cell_type": "code",
     "collapsed": false,
     "input": [],
     "language": "python",
     "metadata": {},
     "outputs": [
      {
       "ename": "AttributeError",
       "evalue": "'DataFrame' object has no attribute 'stock'",
       "output_type": "pyerr",
       "traceback": [
        "\u001b[0;31m---------------------------------------------------------------------------\u001b[0m\n\u001b[0;31mAttributeError\u001b[0m                            Traceback (most recent call last)",
        "\u001b[0;32m<ipython-input-89-2824a395cd94>\u001b[0m in \u001b[0;36m<module>\u001b[0;34m()\u001b[0m\n\u001b[1;32m      4\u001b[0m \u001b[0;34m\u001b[0m\u001b[0m\n\u001b[1;32m      5\u001b[0m     \u001b[0mmvavg\u001b[0m \u001b[0;34m=\u001b[0m \u001b[0mpd\u001b[0m\u001b[0;34m.\u001b[0m\u001b[0mrolling_mean\u001b[0m\u001b[0;34m(\u001b[0m\u001b[0msmall_range\u001b[0m\u001b[0;34m,\u001b[0m \u001b[0;36m60\u001b[0m\u001b[0;34m)\u001b[0m\u001b[0;34m\u001b[0m\u001b[0m\n\u001b[0;32m----> 6\u001b[0;31m     \u001b[0msmall_range\u001b[0m\u001b[0;34m.\u001b[0m\u001b[0mstock\u001b[0m\u001b[0;34m.\u001b[0m\u001b[0mplot\u001b[0m\u001b[0;34m(\u001b[0m\u001b[0mstyle\u001b[0m \u001b[0;34m=\u001b[0m \u001b[0;34m'k--'\u001b[0m\u001b[0;34m)\u001b[0m\u001b[0;34m\u001b[0m\u001b[0m\n\u001b[0m\u001b[1;32m      7\u001b[0m     \u001b[0mpd\u001b[0m\u001b[0;34m.\u001b[0m\u001b[0mrolling_mean\u001b[0m\u001b[0;34m(\u001b[0m\u001b[0msmall_range\u001b[0m\u001b[0;34m.\u001b[0m\u001b[0mstock\u001b[0m\u001b[0;34m,\u001b[0m \u001b[0;36m60\u001b[0m\u001b[0;34m)\u001b[0m\u001b[0;34m.\u001b[0m\u001b[0mplot\u001b[0m\u001b[0;34m(\u001b[0m\u001b[0mlabel\u001b[0m \u001b[0;34m=\u001b[0m \u001b[0;34m'rmean'\u001b[0m\u001b[0;34m)\u001b[0m\u001b[0;34m\u001b[0m\u001b[0m\n\u001b[1;32m      8\u001b[0m     \u001b[0mpd\u001b[0m\u001b[0;34m.\u001b[0m\u001b[0mewma\u001b[0m\u001b[0;34m(\u001b[0m\u001b[0msmall_range\u001b[0m\u001b[0;34m.\u001b[0m\u001b[0mstock\u001b[0m\u001b[0;34m,\u001b[0m \u001b[0mspan\u001b[0m\u001b[0;34m=\u001b[0m\u001b[0;36m60\u001b[0m\u001b[0;34m)\u001b[0m\u001b[0;34m.\u001b[0m\u001b[0mplot\u001b[0m\u001b[0;34m(\u001b[0m\u001b[0mlabel\u001b[0m \u001b[0;34m=\u001b[0m \u001b[0;34m'ewma'\u001b[0m\u001b[0;34m)\u001b[0m\u001b[0;34m\u001b[0m\u001b[0m\n",
        "\u001b[0;32m/usr/local/lib/python2.7/site-packages/pandas/core/generic.pyc\u001b[0m in \u001b[0;36m__getattr__\u001b[0;34m(self, name)\u001b[0m\n\u001b[1;32m   1934\u001b[0m                 \u001b[0;32mreturn\u001b[0m \u001b[0mself\u001b[0m\u001b[0;34m[\u001b[0m\u001b[0mname\u001b[0m\u001b[0;34m]\u001b[0m\u001b[0;34m\u001b[0m\u001b[0m\n\u001b[1;32m   1935\u001b[0m             raise AttributeError(\"'%s' object has no attribute '%s'\" %\n\u001b[0;32m-> 1936\u001b[0;31m                                  (type(self).__name__, name))\n\u001b[0m\u001b[1;32m   1937\u001b[0m \u001b[0;34m\u001b[0m\u001b[0m\n\u001b[1;32m   1938\u001b[0m     \u001b[0;32mdef\u001b[0m \u001b[0m__setattr__\u001b[0m\u001b[0;34m(\u001b[0m\u001b[0mself\u001b[0m\u001b[0;34m,\u001b[0m \u001b[0mname\u001b[0m\u001b[0;34m,\u001b[0m \u001b[0mvalue\u001b[0m\u001b[0;34m)\u001b[0m\u001b[0;34m:\u001b[0m\u001b[0;34m\u001b[0m\u001b[0m\n",
        "\u001b[0;31mAttributeError\u001b[0m: 'DataFrame' object has no attribute 'stock'"
       ]
      }
     ],
     "prompt_number": 89
    },
    {
     "cell_type": "code",
     "collapsed": false,
     "input": [],
     "language": "python",
     "metadata": {},
     "outputs": []
    }
   ],
   "metadata": {}
  }
 ]
}