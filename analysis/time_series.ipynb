{
 "metadata": {
  "name": "",
  "signature": "sha256:7174d5ed89a9ceb556e02a6a950af012849482536cd228a371330428b3a6f7bb"
 },
 "nbformat": 3,
 "nbformat_minor": 0,
 "worksheets": [
  {
   "cells": [
    {
     "cell_type": "markdown",
     "metadata": {},
     "source": [
      "# Initial analysis of tweet sentiment data\n",
      "\n",
      "dependencies:\n",
      "* pandas\n",
      "* ggplot\n",
      "* seaborn \n",
      "* statsmodels"
     ]
    },
    {
     "cell_type": "code",
     "collapsed": false,
     "input": [
      "# imports\n",
      "import numpy as np\n",
      "import pandas as pd\n",
      "import matplotlib.pyplot as plt\n",
      "#from ggplot import *\n",
      "from pandas import Series, DataFrame, Panel\n",
      "import seaborn as sns\n",
      "import statsmodels.tsa.api\n",
      "import datetime\n",
      "import pandas.io.data\n",
      "from pandas.tools.plotting import *\n",
      "\n",
      "%pylab qt"
     ],
     "language": "python",
     "metadata": {},
     "outputs": [
      {
       "output_type": "stream",
       "stream": "stdout",
       "text": [
        "Populating the interactive namespace from numpy and matplotlib\n"
       ]
      },
      {
       "output_type": "stream",
       "stream": "stderr",
       "text": [
        "WARNING: pylab import has clobbered these variables: ['ceil', 'table', 'boxplot']\n",
        "`%matplotlib` prevents importing * from pylab and numpy\n"
       ]
      }
     ],
     "prompt_number": 1
    },
    {
     "cell_type": "code",
     "collapsed": false,
     "input": [
      "# date converter function for pandas time series to add a new, non-indexed column\n",
      "# to the set for ggplot\n",
      "def dateConvert(df):\n",
      "    dt = df.index\n",
      "    df['Date'] = dt\n",
      "    df.reset_index(drop=True)\n",
      "    return df"
     ],
     "language": "python",
     "metadata": {},
     "outputs": [],
     "prompt_number": 2
    },
    {
     "cell_type": "code",
     "collapsed": false,
     "input": [
      "\n",
      "pylab.rcParams['figure.figsize'] = (14, 14.0)\n"
     ],
     "language": "python",
     "metadata": {},
     "outputs": [],
     "prompt_number": 3
    },
    {
     "cell_type": "code",
     "collapsed": false,
     "input": [],
     "language": "python",
     "metadata": {},
     "outputs": []
    },
    {
     "cell_type": "code",
     "collapsed": false,
     "input": [],
     "language": "python",
     "metadata": {},
     "outputs": []
    },
    {
     "cell_type": "code",
     "collapsed": false,
     "input": [],
     "language": "python",
     "metadata": {},
     "outputs": []
    },
    {
     "cell_type": "code",
     "collapsed": false,
     "input": [],
     "language": "python",
     "metadata": {},
     "outputs": []
    },
    {
     "cell_type": "markdown",
     "metadata": {},
     "source": [
      "Here we read the data from our csv file into a data frame, parsing the date column as dates and indexing on dates."
     ]
    },
    {
     "cell_type": "code",
     "collapsed": false,
     "input": [
      "tweet_data = pd.read_csv('tweet_sentiment_scores.csv', parse_dates=[0], index_col=['time'])"
     ],
     "language": "python",
     "metadata": {},
     "outputs": [],
     "prompt_number": 4
    },
    {
     "cell_type": "code",
     "collapsed": false,
     "input": [
      "#sanity check\n",
      "tweet_data.keys()"
     ],
     "language": "python",
     "metadata": {},
     "outputs": [
      {
       "metadata": {},
       "output_type": "pyout",
       "prompt_number": 5,
       "text": [
        "Index([u'total_tweets', u'lsi_words', u'lda_words', u'lsi_score', u'lda_score'], dtype='object')"
       ]
      }
     ],
     "prompt_number": 5
    },
    {
     "cell_type": "code",
     "collapsed": false,
     "input": [
      "\n",
      "words = tweet_data.lsi_words\n",
      "print words['2014-10-20']\n"
     ],
     "language": "python",
     "metadata": {},
     "outputs": [
      {
       "output_type": "stream",
       "stream": "stdout",
       "text": [
        "time\n",
        "2014-10-20 07:00:00    [u'is', u'new', u'ebola', u'facebook', u'poste...\n",
        "2014-10-20 08:00:00    [u'facebook', u'new', u'is', u'posted', u'phot...\n",
        "2014-10-20 09:00:00    [u'is', u'facebook', u'new', u'posted', u'phot...\n",
        "2014-10-20 10:00:00    [u'\\u2713', u'users', u'new', u'follow', u'htt...\n",
        "2014-10-20 11:00:00    [u'is', u'new', u'facebook', u'posted', u'phot...\n",
        "2014-10-20 12:00:00    [u'new', u'is', u'facebook', u'posted', u'vide...\n",
        "2014-10-20 13:00:00    [u'@', u'is', u'big', u'take', u'fan', u'cover...\n",
        "2014-10-20 14:00:00    [u'video', u'liked', u'new', u'music', u'can',...\n",
        "2014-10-20 15:00:00    [u'video', u'@youtube', u'liked', u'new', u'is...\n",
        "2014-10-20 16:00:00    [u'video', u'@youtube', u'liked', u'is', u'new...\n",
        "2014-10-20 17:00:00    [u'now', u'\\u2026', u'subscribe', u'daily', u'...\n",
        "2014-10-20 18:00:00    [u'\\u2026', u'now', u'subscribe', u'daily', u'...\n",
        "2014-10-20 19:00:00    [u'facebook', u'new', u'posted', u'photo', u'r...\n",
        "2014-10-20 20:00:00    [u'facebook', u'new', u'posted', u'photo', u'i...\n",
        "2014-10-20 21:00:00    [u'facebook', u'new', u'posted', u'photo', u'w...\n",
        "2014-10-20 22:00:00    [u'facebook', u'page', u'fan', u'likes', u'$5'...\n",
        "Name: lsi_words, dtype: object\n"
       ]
      }
     ],
     "prompt_number": 105
    },
    {
     "cell_type": "code",
     "collapsed": false,
     "input": [
      "word2 = words['2014-10-31'][0]\n",
      "word2 = word2.split(']')\n",
      "print word2"
     ],
     "language": "python",
     "metadata": {},
     "outputs": [
      {
       "output_type": "stream",
       "stream": "stdout",
       "text": [
        "['[u\\'@youtube\\', u\\'get\\', u\\'people\\', u\\'watch\\', u\\'must\\', u\\'doing\\', u\\'videos.\\', u\\'held\\', u\\'will,\\', u\\'should,\\', u\\'new\\', u\\'facebook\\', u\\'posted\\', u\\'photo\\', u\\'is\\', u\\'video\\', u\\'photos\\', u\\'album\\', u\\'song\\', u\\'are\\', u\\'@youtube\\', u\\'video\\', u\\'liked\\', u\\'is\\', u\\'playlist\\', u\\'added\\', u\\'get\\', u\\'people\\', u\\'held\\', u\\'will,\\', u\\'is\\', u\\'apple\\', u\\'@youtube\\', u\\'video\\', u\\'liked\\', u\\'ebola\\', u\\'tim\\', u\\'are\\', u\\'ceo\\', u\\'google\\', u\\'apple\\', u\\'iphone\\', u\\'is\\', u\\'price\\', u\\'full\\', u\\'read\\', u\\'ebay:\\', u\\'usd\\', u\\'bids)\\', u\\'end\\', u\\'honor\\', u\\'sacrifice\\', u\\'vote!!!\\', u\\'@talbertswan:\\', u\\'http://t.co/ywhb8l0mvt\\', u\\'ancestors,\\', u\\'new\\', u\\'free\\', u\\'google\\', u\\'happy\\', u\\'free\\', u\\'new\\', u\\'happy\\', u\\'halloween\\', u\\'facebook\\', u\\'google\\', u\\'get\\', u\\'is\\', u\\'#news\\', u\\'#youtube\\', u\\'free\\', u\\'new\\', u\\'facebook\\', u\\'tim\\', u\\'#youtube\\', u\\'cook\\', u\\'ceo\\', u\\'#news\\', u\\'#pussy\\', u\\'#pics\\', u\\'happy\\', u\\'halloween\\', u\\'new\\', u\\'free\\', u\\'facebook\\', u\\'are\\', u\\'#news\\', u\\'#youtube\\', u\\'#pics\\', u\\'#pussy\\', u\\'new\\', u\\'facebook\\', u\\'tim\\', u\\'apple\\', u\\'ceo\\', u\\'cook\\', u\\'free\\', u\\'gay\\', u\\'full\\', u\\'price\\', u\\'google\\', u\\'fb\\', u\\'page\\', u\\'ebola\\', u\\'happy\\', u\\'new\\', u\\'are\\', u\\'facebook\\', u\\'halloween\\', u\\'andy\\', u\\'ebola\\', u\\'google\\', u\\'are\\', u\\'look\\', u\\'worried\\', u\\'travel\\', u\\'apple\\', u\\'impact\\', u\\'potential\\', u\\'jal\\', u\\'#news\\', u\\'#youtube\\', u\\'#pussy\\', u\\'#pics\\', u\\'free\\', u\\'win\\', u\\'null\\', u\\'stuff\\', u\\'are\\', u\\'bid!!!\\', u\\'are\\', u\\'ebola\\', u\\'google\\', u\\'apple\\', u\\'halloween\\', u\\'free\\', u\\'youtube\\', u\\'win\\', u\\'null\\', u\\'stuff\\', u\\'apple\\', u\\'tim\\', u\\'\\\\U0001f4f1\\', u\\'iglass\\', u\\'@appieofficiel:\\', u\\'http://t.co/d2vcocotqt\\', u\\'has\\', u\\'are\\', u\\'gay\\', u\\'cook\\', u\\'was\\', u\\'andy\\', u\\'rubin\\', u\\'has\\', u\\'co-founder\\', u\\'fb\\', u\\'tim\\', u\\'leaves\\', u\\'rubin,\\', u\\'android,\\', u\\'get\\', u\\'are\\', u\\'amazon\\', u\\'@youtube\\', u\\'win\\', u\\'null\\', u\\'stuff\\', u\\'video\\', u\\'https://t.co/28l7xxtqnr\\', u\\'bid!!!\\', u\\':\\', u\\'love\\', u\\'get\\', u\\'video\\', u\\'@youtube\\', u\\'are\\', u\\'2014\\', u\\'now\\', u\\'liked\\', u\\'can\\', u\\'youtube\\', u\\'@youtube\\', u\\'video\\', u\\'love\\', u\\'get\\', u\\':\\', u\\'are\\', u\\'amazon\\', u\\'will\\', u\\'facebook\\', u\\'@youtube\\', u\\':\\', u\\'video\\', u\\'love\\', u\\'now\\', u\\'liked\\', u\\'please\\', u\\'was\\', u\\'youtube\\', u\\'will\\', u\\'love\\', u\\'was\\', u\\'google\\', u\\'fb\\', u\\'now\\', u\\'youtube\\', u\\'page\\', u\\'12\\', u\\'6\\', u\\'iphone\\', u\\'now\\', u\\'has\\', u\\'google\\', u\\'please\\', u\\'was\\', u\\'love\\', u\\'youtube\\', u\\'more\\', u\\'6\\', u\\'need\\', u\\'love\\', u\\'youtube\\', u\\'google\\', u\\'@youtube\\', u\\'video\\', u\\'fb\\', u\\'now\\', u\\'page\\', u\\'has\\', u\\'super\\', u\\'youtube\\', u\\'please\\', u\\'facebook\\', u\\'google\\', u\\'photo\\', u\\'need\\', u\\'song\\', u\\'will\\', u\\'talk\\', u\\'was\\', u\\'will\\', u\\'more\\', u\\'has\\', u\\'now\\', u\\'cook\\', u\\'announced\\', u\\'tim\\', u\\'please\\', u\\'can\\', u\"he\\'s\", u\\'will\\', u\\'please\\', u\\'song\\', u\\'youtube\\', u\\'need\\', u\\'more\\', u\\'talk\\', u\\'opinions\\', u\\'a.d\\', u\\'#thanksalot\\', u\\'amazon\\', u\\'get\\', u\\'2014\\', u\\'just\\', u\\'gift\\', u\\'&gt;&gt;&gt;\\', u\\'more\\', u\\'\\\\u2013\\', u\\'has\\', u\\'people\\', u\\'more\\', u\\'now\\', u\\'has\\', u\\'just\\', u\\'was\\', u\\'amazon\\', u\\'can\\', u\\'get\\', u\\'people\\', u\"can\\'t\", u\\'just\\', u\\'more\\', u\\'can\\', u\\'will\\', u\\'2014\\', u\\'was\\', u\\'check\\', u\\'youtube\\', u\\'6\\', u\\'are\\', u\\'2014\\', u\\'liked\\', u\\'added\\', u\\'playlist\\', u\\'amazon\\', u\\'now\\', u\\'will\\', u\\'photo\\', u\\'october\\', u\\'check\\', u\\'liked\\', u\\'added\\', u\\'playlist\\', u\\'has\\', u\\'now\\', u\\'2014\\', u\\'see\\', u\\'can\\', u\\'6\\', u\\'iphone\\', u\\'can\\', u\\'check\\', u\\'has\\', u\\'just\\', u\\'2014\\', u\\'see\\', u\\'added\\', u\\'playlist\\', u\\'liked\\', u\\'google\\', u\\'justcameout\\', u\\'andimsure\\', u\\'youwill\\', u\\'youshould\\', u\\'likeit:)\\', u\\'followme:)myfirstsingle\\', u\\'http://t.co/p9tdr2znc7\\', u\\'heyif\\', u\\'youlike\\', u\\'coldplay\\', u\\'check\\', u\\'see\\', u\\'2014\\', u\\'added\\', u\\'playlist\\', u\\'was\\', u\\'liked\\', u\\'now\\', u\\'photo\\', u\\'just\\', u\\'2014\\', u\\'apple\\', u\\'\\\\U0001f4f1\\', u\\'http://t.co/d2vcocotqt\\', u\\'iglass\\', u\\'@appieofficiel:\\', u\\'iphone\\', u\\'6\\', u\\'was\\', u\\'more\\', u\\'halloween\\', u\\'happy\\', u\\'photo\\', u\\'facebook\\', u\\'2014\\', u\\'posted\\', u\\'added\\', u\\'can\\', u\\'playlist\\', u\\'please\\', u\\'halloween\\', u\\'happy\\', u\\'check\\', u\\'2014\\', u\\'photo\\', u\\'can\\', u\\'facebook\\', u\\'halloween!\\', u\\'posted\\', u\\'day\\', u\\'check\\', u\\'can\\', u\\'now\\', u\\'travel\\', u\\'impact\\', u\\'potential\\', u\\'worried\\', u\\'jal\\', u\\'has\\', u\\'more\\', u\\'can\\', u\\'now\\', u\\'travel\\', u\\'impact\\', u\\'worried\\', u\\'potential\\', u\\'jal\\', u\\'2\\', u\\'check\\', u\\'halloween\\', u\\'2\\', u\\'\\\\u2026\\', u\\'free\\', u\\'amazon\\', u\\'posted\\', u\\'#apple\\', u\\'facebook\\', u\\'win\\', u\\'#itunes\\', u\\'see\\', u\\'2\\', u\\'free\\', u\\'2014\\', u\\'#apple\\', u\\'day\\', u\\'can\\', u\\'#itunes\\', u\\'get\\', u\\'#iphone\\', u\\'check\\', u\\'see\\', u\\'free\\', u\\'day\\', u\\'check\\', u\\'now\\', u\\'#apple\\', u\\'people\\', u\\'6\\', u\\'get\\', u\\'announced\\', u\\'day\\', u\\'best\\', u\\'2\\', u\\'2014\\', u\\'top\\', u\\'\\\\u2013\\', u\\'buy\\', u\\'modi\\', u\\'narendra\\', u\\'days\\', u\\'\\\\u2013\\', u\\'day\\', u\\'top\\', u\\'see\\', u\\'music\\', u\\'buy\\', u\\'has\\', u\\'days\\', u\\'2\\', u\\'100\\', u\\'\\\\u2013\\', u\\'day\\', u\\'top\\', u\\'buy\\', u\\'days\\', u\\'see\\', u\\'check\\', u\\'best\\', u\\'now\\', u\\'book\\', u\\'\\\\u2013\\', u\\'see\\', u\\'day\\', u\\'check\\', u\\'2\\', u\\'narendra\\', u\\'modi\\', u\\'\\\\u2026\\', u\\'prime\\', u\\'minister\\', u\\'see\\', u\\'has\\', u\\'#scarystoriesin5words\\', u\\'#apple\\', u\\'people\\', u\\'lebron\\', u\\'cleveland\\', u\\'#beenrapedneverreported\\', u\\'#unwantedhalloweentreats\\', u\\'westbrook\\', u\\'#apple\\', u\\'#iphone\\', u\\'free\\', u\\'#itunes\\', u\\'germany\\', u\\'book\\', u\\'album\\', u\\'get\\', u\\'photos\\', u\\'amazon\\', u\\'call\\', u\\'credit\\', u\\'counseling\\', u\\'consumer\\', u\\'254-4100\\', u\\'(800)\\', u\\'city\\', u\\'album\\', u\\'photos\\', u\\'1-800-254-4100\\', u\\'album\\', u\\'photos\\', u\\'posted\\', u\\'\\\\u2026\\', u\\'#scarystoriesin5words\\', u\\'lebron\\', u\\'cleveland\\', u\\'westbrook\\', u\\'#beenrapedneverreported\\', u\\'#unwantedhalloweentreats\\', u\\'day\\', u\\'#scarystoriesin5words\\', u\\'lebron\\', u\\'cleveland\\', u\\'westbrook\\', u\\'#beenrapedneverreported\\', u\\'#unwantedhalloweentreats\\', u\\'see\\', u\\'album\\', u\\'check\\', u\\'book\\', u\\'ruin\\', u\\'(the\\', u\\'series\\', u\\'top\\', u\\'part\\', u\\'music\\', u\\'iphone\\', u\\'was\\', u\\'microsoft\\', u\\'best\\', u\\'was\\', u\\'book\\', u\\'iphone\\', u\\'narendra\\', u\\'modi\\', u\\'#apple\\', u\\'6\\', u\\'prime\\', u\\'microsoft\\', u\\'\\\\u2026\\', u\\'2\\', u\\'good\\', u\\'music\\', u\\'microsoft\\', u\\'watch\\', u\\':)\\', u\\'best\\', u\\'album\\', u\\'book\\', u\\'good\\', u\\':)\\', u\\'\\\\u2026\\', u\"don\\'t\", u\\'morning\\', u\\'time\\', u\\'microsoft\\', u\\'day\\', u\"i\\'m\", u\\'know\\', u\\'best\\', u\\'top\\', u\\'album\\', u\\'iphone\\', u\\'6\\', u\\'photos\\', u\\'was\\', u\\'days\\', u\\'music\\', u\\'8\\', u\\'microsoft\\', u\\'song\\', u\\'amazon\\', u\\'please\\', u\\'click\\', u\\'game\\', u\\'lyrics\\', u\\'music\\', u\\'\\\\U0001f496\\', u\\'tyga\\', u\\'microsoft\\', u\\'amazon\\', u\\'ur\\', u\\'take\\', u\\'\\\\u2026\\', u\\'best\\', u\\'game\\', u\\'click\\', u\\'music\\', u\\'big\\', u\\'super\\', u\\'microsoft\\', u\\'music\\', u\\'good\\', u\\'\\\\u2013\\', u\\'message\\', u\\'fans\\', u\"don\\'t\", u\\'want\\', u\\'best\\', u\\'microsoft\\', u\\'ur\\', u\\'take\\', u\\'song\\', u\\'news\\', u\\'neo\\', u\\'neos\\', u\\'#neowhere\\', u\\'@justinbieber:\\', u\\'u?\\', u\\'insects\\', u\\'hum\\', u\\'siles\\', u\"don\\'t\", u\\'music\\', u\\'mix\\', u\\'(\\', u\\'h\\\\u2026\\', u\\'cr\\', u\\'want\\', u\\'music\\', u\\'buy\\', u\\'super\\', u\\'love\\', u\\'message\\', u\\'fans\\', u\\'more\\', u\\'look\\', u\\'official\\', u\"junior\\'s\", u\"don\\'t\", u\\'want\\', u\\':)\\', u\\'good\\', u\\'insects\\', u\\'hum\\', u\\'siles\\', u\\'super\\', u\\'know\\', u\\'buy\\', u\\'world\\', u\\'look\\', u\\'guidelines\\', u\\'first\\', u\\'states\\', u\"here\\'s\", u\\'time\\', u\\'news\\', u\\'click\\', u\\'make\\', u\\'world\\', u\\'music\\', u\\'more\\', u\\'people\\', u\\'make\\', u\\'8\\', u\\'first\\', u\\'worth\\', u\\'great\\', u\\'look\\', u\\'look\\', u\\'8\\', u\\'more\\', u\\'worth\\', u\\'guidelines\\', u\\'stock\\', u\\'hands\\', u\\'execs\\', u\\'$27m\\', u\\'awards\\', u\\'song\\', u\\'lyrics\\', u\\'\\\\U0001f496\\', u\\'https://t.co/h3pb1cmakl\\', u\\'tyga\\', u\\'app\\', u\\'ur\\', u\\'take\\', u\\'6\\', u\\'music\\', u\\'chocolate,\\', u\\'trail\\', u\\'nut\\', u\\'mix,\\', u\\'planters\\', u\\'#3:\\', u\\'(pack\\', u\\'3):\\', u\\'19-oun...\\', u\\'19-ounce\\', u\\'app\\', u\\'look\\', u\\'chocolate,\\', u\\'trail\\', u\\'nut\\', u\\'planters\\', u\\'mix,\\', u\\'world\\', u\\'#app\\', u\\'...\\', u\\'more\\', u\\'look\\', u\\'make\\', u\\'people\\', u\\'first\\', u\\'fb\\', u\\'great\\', u\\'world\\', u\"can\\'t\", u\"he\\'s\", u\\'fb\\', u\\'app\\', u\\'3\\', u\\'6\\', u\"i\\'m\", u\"don\\'t\", u\\'#app\\', u\\'#iphone6\\', u\\'...\\', u\\'was\\', u\\'official\\', u\\'ipas2\\', u\\'time\\', u\\'review\\', u\\'vote\\', u\\'find\\', u\"i\\'m\", u\\'world\\', u\\'first\\', u\\'...\\', u\\'time\\', u\\'ipas2\\', u\\'society\\', u\\'pranking\\', u\\'loins\\', u\\'purged\\', u\\'outrageous\\', u\\'official\\', u\\'vote\\', u\\'world\\', u\\'time\\', u\\'society\\', u\\'pranking\\', u\\'outrageous\\', u\\'purged\\', u\\'loins\\', u\\'first\\', u\\'#ourcitygogo\\', u\\'youtube\\', u\\'world\\', u\\'vote\\', u\\'news\\', u\\'1\\', u\\'click\\', u\"don\\'t\", u\\'app\\', u\\'world\\', u\\'--&gt;\\', u\"i\\'m\", u\\'ceo\\', u\\'@barbjonn:\\', u\\'birthday\\', u\\'doodle\\', u\\'french\\', u\\'saint\\', u\\'celebrates\\', u\\'phalle:\\', u\\'niki\\', u\\'#nikidesaintphalle\\', u\\'84th\\', u\\'...\\', u\\'says\\', u\\'world\\', u\\'5\\', u\\'ipas2\\', u\\'time\\', u\\'developer\\', u\\'jonas\\', u\\'#jonassalk\\', u\\'salk:\\', u\\'5\\', u\\'...\\', u\\'mac\\', u\\'first\\', u\\'buy\\', u\\'please\\', u\\'black\\', u\\'follow\\', u\\'make\\', u\\'need\\', u\\'fb\\', u\\'nurse\\', u\\'ceo\\', u\\'6\\', u\\'apple\\', u\\'bike\\', u\\'#timcook\\', u\\'quarantine\\', u\\'comes\\', u\\'defies\\', u\\'\\\\u2764\\', u\\'\\\\u266b\\', u\\'remix\\', u\\'up\"\\', u\\'#bayarea\\', u\\'\"hold\\', u\\'cdq\\', u\\'(mp3)\\', u\\'#bonthebeat)\\', u\\'(#619saint\\'', '']\n"
       ]
      }
     ],
     "prompt_number": 109
    },
    {
     "cell_type": "code",
     "collapsed": false,
     "input": [],
     "language": "python",
     "metadata": {},
     "outputs": []
    },
    {
     "cell_type": "code",
     "collapsed": false,
     "input": [],
     "language": "python",
     "metadata": {},
     "outputs": []
    },
    {
     "cell_type": "code",
     "collapsed": false,
     "input": [],
     "language": "python",
     "metadata": {},
     "outputs": []
    },
    {
     "cell_type": "code",
     "collapsed": false,
     "input": [],
     "language": "python",
     "metadata": {},
     "outputs": []
    },
    {
     "cell_type": "code",
     "collapsed": false,
     "input": [],
     "language": "python",
     "metadata": {},
     "outputs": []
    },
    {
     "cell_type": "code",
     "collapsed": false,
     "input": [
      "#tweet_data.total_tweets.rolplot()"
     ],
     "language": "python",
     "metadata": {},
     "outputs": []
    },
    {
     "cell_type": "code",
     "collapsed": false,
     "input": [],
     "language": "python",
     "metadata": {},
     "outputs": []
    },
    {
     "cell_type": "code",
     "collapsed": false,
     "input": [],
     "language": "python",
     "metadata": {},
     "outputs": []
    },
    {
     "cell_type": "code",
     "collapsed": false,
     "input": [
      "tweet_dates = dateConvert(tweet_data)\n",
      "tweet_dates.head()\n",
      "tweet_dates = tweet_dates[['Date','lsi_score','lda_score']]\n"
     ],
     "language": "python",
     "metadata": {},
     "outputs": [],
     "prompt_number": 6
    },
    {
     "cell_type": "code",
     "collapsed": false,
     "input": [
      "data = pd.melt(tweet_dates, id_vars='Date').dropna() # Here is the method I use to format the data in the long format. Please note the use of 'Date' as the id_vars.\n",
      "\n",
      "data = data.rename(columns = {'Date':'Date','variable':'index','value':'score'}) # common to rename these columns"
     ],
     "language": "python",
     "metadata": {},
     "outputs": [],
     "prompt_number": 7
    },
    {
     "cell_type": "code",
     "collapsed": false,
     "input": [
      "print data.info()\n",
      "data.head()"
     ],
     "language": "python",
     "metadata": {},
     "outputs": [
      {
       "output_type": "stream",
       "stream": "stdout",
       "text": [
        "<class 'pandas.core.frame.DataFrame'>\n",
        "Int64Index: 698 entries, 0 to 697\n",
        "Data columns (total 3 columns):\n",
        "Date     698 non-null datetime64[ns]\n",
        "index    698 non-null object\n",
        "score    698 non-null float64\n",
        "dtypes: datetime64[ns](1), float64(1), object(1)\n",
        "memory usage: 21.8+ KB\n",
        "None\n"
       ]
      },
      {
       "html": [
        "<div style=\"max-height:1000px;max-width:1500px;overflow:auto;\">\n",
        "<table border=\"1\" class=\"dataframe\">\n",
        "  <thead>\n",
        "    <tr style=\"text-align: right;\">\n",
        "      <th></th>\n",
        "      <th>Date</th>\n",
        "      <th>index</th>\n",
        "      <th>score</th>\n",
        "    </tr>\n",
        "  </thead>\n",
        "  <tbody>\n",
        "    <tr>\n",
        "      <th>0</th>\n",
        "      <td>2014-10-17 08:00:00</td>\n",
        "      <td> lsi_score</td>\n",
        "      <td> 5.480078</td>\n",
        "    </tr>\n",
        "    <tr>\n",
        "      <th>1</th>\n",
        "      <td>2014-10-17 09:00:00</td>\n",
        "      <td> lsi_score</td>\n",
        "      <td> 4.737615</td>\n",
        "    </tr>\n",
        "    <tr>\n",
        "      <th>2</th>\n",
        "      <td>2014-10-17 10:00:00</td>\n",
        "      <td> lsi_score</td>\n",
        "      <td> 5.868986</td>\n",
        "    </tr>\n",
        "    <tr>\n",
        "      <th>3</th>\n",
        "      <td>2014-10-17 11:00:00</td>\n",
        "      <td> lsi_score</td>\n",
        "      <td> 4.136575</td>\n",
        "    </tr>\n",
        "    <tr>\n",
        "      <th>4</th>\n",
        "      <td>2014-10-17 12:00:00</td>\n",
        "      <td> lsi_score</td>\n",
        "      <td> 4.702260</td>\n",
        "    </tr>\n",
        "  </tbody>\n",
        "</table>\n",
        "</div>"
       ],
       "metadata": {},
       "output_type": "pyout",
       "prompt_number": 8,
       "text": [
        "                 Date      index     score\n",
        "0 2014-10-17 08:00:00  lsi_score  5.480078\n",
        "1 2014-10-17 09:00:00  lsi_score  4.737615\n",
        "2 2014-10-17 10:00:00  lsi_score  5.868986\n",
        "3 2014-10-17 11:00:00  lsi_score  4.136575\n",
        "4 2014-10-17 12:00:00  lsi_score  4.702260"
       ]
      }
     ],
     "prompt_number": 8
    },
    {
     "cell_type": "code",
     "collapsed": false,
     "input": [],
     "language": "python",
     "metadata": {},
     "outputs": []
    },
    {
     "cell_type": "code",
     "collapsed": false,
     "input": [],
     "language": "python",
     "metadata": {},
     "outputs": []
    },
    {
     "cell_type": "code",
     "collapsed": false,
     "input": [],
     "language": "python",
     "metadata": {},
     "outputs": []
    },
    {
     "cell_type": "code",
     "collapsed": false,
     "input": [],
     "language": "python",
     "metadata": {},
     "outputs": []
    },
    {
     "cell_type": "code",
     "collapsed": false,
     "input": [],
     "language": "python",
     "metadata": {},
     "outputs": []
    },
    {
     "cell_type": "code",
     "collapsed": false,
     "input": [],
     "language": "python",
     "metadata": {},
     "outputs": []
    },
    {
     "cell_type": "code",
     "collapsed": false,
     "input": [],
     "language": "python",
     "metadata": {},
     "outputs": []
    },
    {
     "cell_type": "code",
     "collapsed": false,
     "input": [
      "rets = df.pct_change()\n"
     ],
     "language": "python",
     "metadata": {},
     "outputs": [
      {
       "ename": "NameError",
       "evalue": "name 'df' is not defined",
       "output_type": "pyerr",
       "traceback": [
        "\u001b[1;31m---------------------------------------------------------------------------\u001b[0m\n\u001b[1;31mNameError\u001b[0m                                 Traceback (most recent call last)",
        "\u001b[1;32m<ipython-input-9-3c3ca3abd7d4>\u001b[0m in \u001b[0;36m<module>\u001b[1;34m()\u001b[0m\n\u001b[1;32m----> 1\u001b[1;33m \u001b[0mrets\u001b[0m \u001b[1;33m=\u001b[0m \u001b[0mdf\u001b[0m\u001b[1;33m.\u001b[0m\u001b[0mpct_change\u001b[0m\u001b[1;33m(\u001b[0m\u001b[1;33m)\u001b[0m\u001b[1;33m\u001b[0m\u001b[0m\n\u001b[0m",
        "\u001b[1;31mNameError\u001b[0m: name 'df' is not defined"
       ]
      }
     ],
     "prompt_number": 9
    },
    {
     "cell_type": "code",
     "collapsed": false,
     "input": [],
     "language": "python",
     "metadata": {},
     "outputs": []
    },
    {
     "cell_type": "code",
     "collapsed": false,
     "input": [
      "corr = rets.corr()\n",
      "corr"
     ],
     "language": "python",
     "metadata": {},
     "outputs": []
    },
    {
     "cell_type": "code",
     "collapsed": false,
     "input": [
      "plt.imshow(corr, cmap = 'hot', interpolation='none')\n",
      "plt.colorbar()\n",
      "plt.xticks(range(len(corr)), corr.columns)\n",
      "plt.yticks(range(len(corr)), corr.columns)\n",
      "plt.show()"
     ],
     "language": "python",
     "metadata": {},
     "outputs": []
    },
    {
     "cell_type": "code",
     "collapsed": false,
     "input": [],
     "language": "python",
     "metadata": {},
     "outputs": []
    },
    {
     "cell_type": "code",
     "collapsed": false,
     "input": [],
     "language": "python",
     "metadata": {},
     "outputs": []
    },
    {
     "cell_type": "code",
     "collapsed": false,
     "input": [],
     "language": "python",
     "metadata": {},
     "outputs": []
    },
    {
     "cell_type": "code",
     "collapsed": false,
     "input": [],
     "language": "python",
     "metadata": {},
     "outputs": []
    },
    {
     "cell_type": "code",
     "collapsed": false,
     "input": [
      "plt.figure()"
     ],
     "language": "python",
     "metadata": {},
     "outputs": []
    },
    {
     "cell_type": "code",
     "collapsed": false,
     "input": [
      "lag_plot(tweet_data.lsi_score)\n",
      "show()"
     ],
     "language": "python",
     "metadata": {},
     "outputs": [],
     "prompt_number": 10
    },
    {
     "cell_type": "code",
     "collapsed": false,
     "input": [
      "lag_plot(tweet_data.lda_score)\n",
      "show()"
     ],
     "language": "python",
     "metadata": {},
     "outputs": []
    },
    {
     "cell_type": "code",
     "collapsed": false,
     "input": [
      "autocorrelation_plot(tweet_data.lsi_score)\n",
      "show()"
     ],
     "language": "python",
     "metadata": {},
     "outputs": [],
     "prompt_number": 11
    },
    {
     "cell_type": "code",
     "collapsed": false,
     "input": [
      "autocorrelation_plot(tweet_data.lda_score)"
     ],
     "language": "python",
     "metadata": {},
     "outputs": []
    },
    {
     "cell_type": "code",
     "collapsed": false,
     "input": [
      "from pandas.tools.plotting import bootstrap_plot\n",
      "bootstrap_plot(tweet_data.lsi_score, size = 50, samples = 300\n",
      "               , color = 'grey')"
     ],
     "language": "python",
     "metadata": {},
     "outputs": [
      {
       "metadata": {},
       "output_type": "pyout",
       "png": "[encoded data removed]",
       "prompt_number": 12,
       "text": [
        "<matplotlib.figure.Figure at 0x7f68d40bd150>"
       ]
      }
     ],
     "prompt_number": 12
    },
    {
     "cell_type": "code",
     "collapsed": false,
     "input": [
      "mas = pd.rolling_mean(tweet_data.lsi_score, 20)\n",
      "mstd = pd.rolling_std(tweet_data.lsi_score, 20)\n",
      "mad = pd.rolling_mean(tweet_data.lda_score, 20)\n",
      "madst = pd.rolling_std(tweet_data.lda_score, 20)\n",
      "\n",
      "#plt.plot(tweet_data.index, tweet_data.lsi_score, 'k')\n",
      "plt.plot(mas.index, mas)\n",
      "plt.fill_between(mstd.index, mas-mstd, mas+mstd, color = 'b', alpha = 0.1)\n",
      "plt.plot(mad.index, mad)\n",
      "plt.fill_between(madst.index, mad-madst, mad+madst, color = 'g', alpha = 0.1)\n",
      "plt.xticks(rotation=50)\n",
      "plt.legend()\n",
      "show()\n"
     ],
     "language": "python",
     "metadata": {},
     "outputs": [
      {
       "output_type": "stream",
       "stream": "stderr",
       "text": [
        "/usr/local/lib/python2.7/dist-packages/matplotlib/axes/_axes.py:476: UserWarning: No labelled objects found. Use label='...' kwarg on individual plots.\n",
        "  warnings.warn(\"No labelled objects found. \"\n"
       ]
      }
     ],
     "prompt_number": 13
    },
    {
     "cell_type": "code",
     "collapsed": false,
     "input": [],
     "language": "python",
     "metadata": {},
     "outputs": []
    },
    {
     "cell_type": "markdown",
     "metadata": {},
     "source": [
      "## Preping the stock data"
     ]
    },
    {
     "cell_type": "code",
     "collapsed": false,
     "input": [
      "stock_data = pd.read_csv('../data/stocks.csv', parse_dates={'Timestamp': ['Date', 'Time']},\n",
      "                    index_col='Timestamp')\n",
      "\n"
     ],
     "language": "python",
     "metadata": {},
     "outputs": [],
     "prompt_number": 42
    },
    {
     "cell_type": "markdown",
     "metadata": {},
     "source": [
      "For our purposes, we only want to use the hourly closing time in our analysis. We may return in the future and use other information from our stock data."
     ]
    },
    {
     "cell_type": "code",
     "collapsed": false,
     "input": [
      "stock_data = stock_data[['Stockid','Close']]\n"
     ],
     "language": "python",
     "metadata": {},
     "outputs": [],
     "prompt_number": 43
    },
    {
     "cell_type": "code",
     "collapsed": false,
     "input": [],
     "language": "python",
     "metadata": {},
     "outputs": []
    },
    {
     "cell_type": "code",
     "collapsed": false,
     "input": [
      "dateConvert(stock_data);"
     ],
     "language": "python",
     "metadata": {},
     "outputs": []
    },
    {
     "cell_type": "code",
     "collapsed": false,
     "input": [],
     "language": "python",
     "metadata": {},
     "outputs": []
    },
    {
     "cell_type": "markdown",
     "metadata": {},
     "source": [
      "here we reshape the data into a 'wide' format using pandas pivot function."
     ]
    },
    {
     "cell_type": "code",
     "collapsed": false,
     "input": [
      "stock_data_pivot = stock_data.pivot(index = 'Date', columns='Stockid', values='Close')\n",
      "stock_data_pivot.head()\n"
     ],
     "language": "python",
     "metadata": {},
     "outputs": [
      {
       "html": [
        "<div style=\"max-height:1000px;max-width:1500px;overflow:auto;\">\n",
        "<table border=\"1\" class=\"dataframe\">\n",
        "  <thead>\n",
        "    <tr style=\"text-align: right;\">\n",
        "      <th>Stockid</th>\n",
        "      <th>aapl</th>\n",
        "      <th>amzn</th>\n",
        "      <th>fb</th>\n",
        "      <th>goog</th>\n",
        "      <th>googl</th>\n",
        "      <th>msft</th>\n",
        "      <th>twtr</th>\n",
        "    </tr>\n",
        "    <tr>\n",
        "      <th>Date</th>\n",
        "      <th></th>\n",
        "      <th></th>\n",
        "      <th></th>\n",
        "      <th></th>\n",
        "      <th></th>\n",
        "      <th></th>\n",
        "      <th></th>\n",
        "    </tr>\n",
        "  </thead>\n",
        "  <tbody>\n",
        "    <tr>\n",
        "      <th>2014-08-12 16:00:00</th>\n",
        "      <td> 96.183</td>\n",
        "      <td> 319.93</td>\n",
        "      <td> 72.990</td>\n",
        "      <td> 565.55</td>\n",
        "      <td> 575.65</td>\n",
        "      <td> 43.071</td>\n",
        "      <td> 44.62</td>\n",
        "    </tr>\n",
        "    <tr>\n",
        "      <th>2014-08-12 17:00:00</th>\n",
        "      <td> 95.934</td>\n",
        "      <td> 319.24</td>\n",
        "      <td> 72.470</td>\n",
        "      <td> 563.02</td>\n",
        "      <td> 572.73</td>\n",
        "      <td> 43.091</td>\n",
        "      <td> 44.12</td>\n",
        "    </tr>\n",
        "    <tr>\n",
        "      <th>2014-08-12 18:00:00</th>\n",
        "      <td> 95.914</td>\n",
        "      <td> 319.04</td>\n",
        "      <td> 72.539</td>\n",
        "      <td> 562.40</td>\n",
        "      <td> 571.38</td>\n",
        "      <td> 43.031</td>\n",
        "      <td> 43.94</td>\n",
        "    </tr>\n",
        "    <tr>\n",
        "      <th>2014-08-12 19:00:00</th>\n",
        "      <td> 95.675</td>\n",
        "      <td> 319.10</td>\n",
        "      <td> 72.640</td>\n",
        "      <td> 562.46</td>\n",
        "      <td> 572.00</td>\n",
        "      <td> 43.086</td>\n",
        "      <td> 44.19</td>\n",
        "    </tr>\n",
        "    <tr>\n",
        "      <th>2014-08-12 20:00:00</th>\n",
        "      <td> 95.751</td>\n",
        "      <td> 318.33</td>\n",
        "      <td> 72.520</td>\n",
        "      <td> 562.20</td>\n",
        "      <td> 571.50</td>\n",
        "      <td> 43.137</td>\n",
        "      <td> 44.10</td>\n",
        "    </tr>\n",
        "  </tbody>\n",
        "</table>\n",
        "</div>"
       ],
       "metadata": {},
       "output_type": "pyout",
       "prompt_number": 45,
       "text": [
        "Stockid                aapl    amzn      fb    goog   googl    msft   twtr\n",
        "Date                                                                      \n",
        "2014-08-12 16:00:00  96.183  319.93  72.990  565.55  575.65  43.071  44.62\n",
        "2014-08-12 17:00:00  95.934  319.24  72.470  563.02  572.73  43.091  44.12\n",
        "2014-08-12 18:00:00  95.914  319.04  72.539  562.40  571.38  43.031  43.94\n",
        "2014-08-12 19:00:00  95.675  319.10  72.640  562.46  572.00  43.086  44.19\n",
        "2014-08-12 20:00:00  95.751  318.33  72.520  562.20  571.50  43.137  44.10"
       ]
      }
     ],
     "prompt_number": 45
    },
    {
     "cell_type": "code",
     "collapsed": false,
     "input": [
      "stock_data_pivot.plot()"
     ],
     "language": "python",
     "metadata": {},
     "outputs": [
      {
       "metadata": {},
       "output_type": "pyout",
       "prompt_number": 46,
       "text": [
        "<matplotlib.axes._subplots.AxesSubplot at 0x7f68bd9e4d10>"
       ]
      }
     ],
     "prompt_number": 46
    },
    {
     "cell_type": "code",
     "collapsed": false,
     "input": [
      "test = stock_data_pivot\n",
      "test = test.join(tweet_data)\n"
     ],
     "language": "python",
     "metadata": {},
     "outputs": []
    },
    {
     "cell_type": "markdown",
     "metadata": {},
     "source": [
      "This shows a comparison of the LDA and LSI scores with two running means, 10 and 24 hours. "
     ]
    },
    {
     "cell_type": "code",
     "collapsed": false,
     "input": [
      "mas10 = pd.rolling_mean(tweet_data.lsi_score, 10)\n",
      "mstd10 = pd.rolling_std(tweet_data.lsi_score, 10)\n",
      "mad10 = pd.rolling_mean(tweet_data.lda_score, 10)\n",
      "madst10 = pd.rolling_std(tweet_data.lda_score, 10)\n",
      "mas24 = pd.rolling_mean(tweet_data.lsi_score, 24)\n",
      "mstd24 = pd.rolling_std(tweet_data.lsi_score, 24)\n",
      "mad24 = pd.rolling_mean(tweet_data.lda_score, 24)\n",
      "madst24 = pd.rolling_std(tweet_data.lda_score, 24)\n",
      "\n",
      "# plot the mean / std dev for 10h rolling mean\n",
      "plt.plot(mas10.index, mas10, label='LSI, 10-hour Rolling Mean')\n",
      "plt.fill_between(mstd10.index, mas10-(mstd10*.5), mas10+(mstd10*.5), color = 'b', alpha = 0.1)\n",
      "plt.plot(mad10.index, mad10, label='LDA, 10-hour Rolling Mean')\n",
      "plt.fill_between(madst10.index, mad10-(0.5*madst10), mad10+(madst10* 0.5), color = 'g', alpha = 0.1)\n",
      "\n",
      "# plot mean/std dev for 24h rolling mean\n",
      "plt.plot(mas24.index, mas24, label='LSI, 24-hour Rolling Mean')\n",
      "plt.fill_between(mstd24.index, mas24-(mstd24*.5), mas24+(mstd24*.5), color = 'r', alpha = 0.1)\n",
      "plt.plot(mad24.index, mad24, label='LDA, 24-hour Rolling Mean')\n",
      "plt.fill_between(madst24.index, mad24-(0.5*madst24), mad24+(madst24* 0.5), color = 'k', alpha = 0.1)\n",
      "\n",
      "# plot options\n",
      "plt.xticks(rotation=50)\n",
      "plt.legend(loc = 2, prop={'size':'20'})\n",
      "plt.title('Comparison of LSI and LDA scores for tweet data', size=24)\n"
     ],
     "language": "python",
     "metadata": {},
     "outputs": [
      {
       "metadata": {},
       "output_type": "pyout",
       "prompt_number": 27,
       "text": [
        "<matplotlib.text.Text at 0x7f68cc054710>"
       ]
      }
     ],
     "prompt_number": 27
    },
    {
     "cell_type": "markdown",
     "metadata": {},
     "source": [
      "For presentation purposes, we'll just use the LSI Scores."
     ]
    },
    {
     "cell_type": "code",
     "collapsed": false,
     "input": [
      "# plot the mean / std dev for 10h rolling mean\n",
      "plt.plot(mas10.index, mas10, label='LSI, 10-hour Rolling Mean', color = 'b')\n",
      "plt.fill_between(mstd10.index, mas10-(mstd10*.5), mas10+(mstd10*.5), color = 'b', alpha = 0.1)\n",
      "\n",
      "# plot mean/std dev for 24h rolling mean\n",
      "plt.plot(mas24.index, mas24, label='LSI, 24-hour Rolling Mean', color = 'r')\n",
      "plt.fill_between(mstd24.index, mas24-(mstd24*.5), mas24+(mstd24*.5), color = 'r', alpha = 0.1)\n",
      "\n",
      "# plot options\n",
      "plt.xticks(rotation=50)\n",
      "plt.legend(loc = 2, prop={'size':'20'})\n",
      "plt.title('LSI score per hour, rolling means', size=24)\n"
     ],
     "language": "python",
     "metadata": {},
     "outputs": [
      {
       "metadata": {},
       "output_type": "pyout",
       "prompt_number": 31,
       "text": [
        "<matplotlib.text.Text at 0x7f68c41d3090>"
       ]
      }
     ],
     "prompt_number": 31
    },
    {
     "cell_type": "code",
     "collapsed": false,
     "input": [
      "test.keys()\n",
      "testa = test[['aapl', 'amzn', 'fb', 'goog', 'googl', 'msft', 'twtr', 'total_tweets', 'lsi_score', 'lda_score']]"
     ],
     "language": "python",
     "metadata": {},
     "outputs": []
    },
    {
     "cell_type": "code",
     "collapsed": false,
     "input": [
      "from sklearn.preprocessing import scale\n",
      "from sklearn import preprocessing\n",
      "from pandas import DataFrame\n",
      "\n",
      "zscore = lambda x: (x - x.mean()) / x.std()"
     ],
     "language": "python",
     "metadata": {},
     "outputs": [],
     "prompt_number": 34
    },
    {
     "cell_type": "code",
     "collapsed": false,
     "input": [
      "tweet_data.lsi_score.count()\n"
     ],
     "language": "python",
     "metadata": {},
     "outputs": [
      {
       "metadata": {},
       "output_type": "pyout",
       "prompt_number": 47,
       "text": [
        "349"
       ]
      }
     ],
     "prompt_number": 47
    },
    {
     "cell_type": "code",
     "collapsed": false,
     "input": [
      "z_tweets = scale(tweet_data.lsi_score)\n",
      "z_tweets = DataFrame(z_tweets, index=tweet_data.index)\n",
      "z_tweets['tph'] = scale(log(tweet_data.total_tweets))\n",
      "z_tweets.columns = ['lsi_score','tweets_per_hour']\n",
      "z_tweets.plot()\n"
     ],
     "language": "python",
     "metadata": {},
     "outputs": [
      {
       "metadata": {},
       "output_type": "pyout",
       "prompt_number": 51,
       "text": [
        "<matplotlib.axes._subplots.AxesSubplot at 0x7f68bc9def50>"
       ]
      }
     ],
     "prompt_number": 51
    },
    {
     "cell_type": "code",
     "collapsed": false,
     "input": [
      "# interpolation\n",
      "print stock_data_pivot.amzn.count()\n",
      "stock_data_pivot.amzn = stock_data_pivot.amzn.interpolate()\n",
      "print stock_data_pivot.amzn.count()\n"
     ],
     "language": "python",
     "metadata": {},
     "outputs": [
      {
       "output_type": "stream",
       "stream": "stdout",
       "text": [
        "447\n",
        "447\n"
       ]
      }
     ],
     "prompt_number": 53
    },
    {
     "cell_type": "code",
     "collapsed": false,
     "input": [
      "z_stock = scale(stock_data_pivot)\n",
      "z_stock = DataFrame(z_stock, index=stock_data_pivot.index)\n"
     ],
     "language": "python",
     "metadata": {},
     "outputs": [],
     "prompt_number": 54
    },
    {
     "cell_type": "code",
     "collapsed": false,
     "input": [
      "z_stock.columns = ['aapl', 'amzn', 'fb', 'goog', 'googl', 'msft', 'twtr']\n",
      "pd.rolling_mean(z_stock, 120).plot()"
     ],
     "language": "python",
     "metadata": {},
     "outputs": [
      {
       "metadata": {},
       "output_type": "pyout",
       "prompt_number": 60,
       "text": [
        "<matplotlib.axes._subplots.AxesSubplot at 0x7f68bc11bdd0>"
       ]
      }
     ],
     "prompt_number": 60
    },
    {
     "cell_type": "code",
     "collapsed": false,
     "input": [
      "test = z_stock\n",
      "test = test.join(z_tweets)\n",
      "\n",
      "print test.lsi_score.count()\n",
      "\n",
      "test = test.interpolate()\n",
      "test.interpolate().plot()"
     ],
     "language": "python",
     "metadata": {},
     "outputs": [
      {
       "output_type": "stream",
       "stream": "stdout",
       "text": [
        "87\n"
       ]
      },
      {
       "metadata": {},
       "output_type": "pyout",
       "prompt_number": 62,
       "text": [
        "<matplotlib.axes._subplots.AxesSubplot at 0x7f68b68bad10>"
       ]
      }
     ],
     "prompt_number": 62
    },
    {
     "cell_type": "code",
     "collapsed": false,
     "input": [
      "#test.pct_change().plot()"
     ],
     "language": "python",
     "metadata": {},
     "outputs": [
      {
       "metadata": {},
       "output_type": "pyout",
       "prompt_number": 63,
       "text": [
        "<matplotlib.axes._subplots.AxesSubplot at 0x7f68bc3cccd0>"
       ]
      }
     ],
     "prompt_number": 63
    },
    {
     "cell_type": "code",
     "collapsed": false,
     "input": [
      "pd.rolling_mean(tweet_data.total_tweets, 24).plot()"
     ],
     "language": "python",
     "metadata": {},
     "outputs": [
      {
       "metadata": {},
       "output_type": "pyout",
       "prompt_number": 65,
       "text": [
        "<matplotlib.axes._subplots.AxesSubplot at 0x7f68b587e250>"
       ]
      }
     ],
     "prompt_number": 65
    },
    {
     "cell_type": "code",
     "collapsed": false,
     "input": [],
     "language": "python",
     "metadata": {},
     "outputs": []
    },
    {
     "cell_type": "code",
     "collapsed": false,
     "input": [],
     "language": "python",
     "metadata": {},
     "outputs": []
    },
    {
     "cell_type": "code",
     "collapsed": false,
     "input": [
      "test.lsi_score.interpolate(method='polynomial', order=2).pct_change().plot()"
     ],
     "language": "python",
     "metadata": {},
     "outputs": [
      {
       "metadata": {},
       "output_type": "pyout",
       "prompt_number": 66,
       "text": [
        "<matplotlib.axes._subplots.AxesSubplot at 0x7f68b57b3750>"
       ]
      }
     ],
     "prompt_number": 66
    },
    {
     "cell_type": "code",
     "collapsed": false,
     "input": [
      "import datetime as dt\n",
      "start = test.index.searchsorted(dt.datetime(2014,10,10))\n",
      "end = test.index.searchsorted(dt.datetime(2014,11,18))"
     ],
     "language": "python",
     "metadata": {},
     "outputs": [],
     "prompt_number": 67
    },
    {
     "cell_type": "code",
     "collapsed": false,
     "input": [
      "small_range = test.ix[start:end]\n"
     ],
     "language": "python",
     "metadata": {},
     "outputs": [],
     "prompt_number": 69
    },
    {
     "cell_type": "code",
     "collapsed": false,
     "input": [
      "small_range.lsi_score.interpolate().plot(label = 'lsi')\n",
      "small_range.goog.plot(label='AAPL')\n",
      "plt.legend()"
     ],
     "language": "python",
     "metadata": {},
     "outputs": [
      {
       "metadata": {},
       "output_type": "pyout",
       "prompt_number": 71,
       "text": [
        "<matplotlib.legend.Legend at 0x7f68b4842410>"
       ]
      }
     ],
     "prompt_number": 71
    },
    {
     "cell_type": "code",
     "collapsed": false,
     "input": [
      "mvavg = pd.rolling_mean(small_range, 60)\n",
      "#pd.rolling_mean(small_range.goog, 60).plot(label = 'rmean')\n",
      "mvavg.plot()\n",
      "plt.legend()\n"
     ],
     "language": "python",
     "metadata": {},
     "outputs": [
      {
       "metadata": {},
       "output_type": "pyout",
       "prompt_number": 79,
       "text": [
        "<matplotlib.legend.Legend at 0x7f68b1d11790>"
       ]
      }
     ],
     "prompt_number": 79
    },
    {
     "cell_type": "code",
     "collapsed": false,
     "input": [
      "model = statsmodels.tsa.api.VAR(small_range.interpolate(), missing = 'drop')"
     ],
     "language": "python",
     "metadata": {},
     "outputs": [],
     "prompt_number": 80
    },
    {
     "cell_type": "code",
     "collapsed": false,
     "input": [
      "model.select_order(5)\n"
     ],
     "language": "python",
     "metadata": {},
     "outputs": [
      {
       "output_type": "stream",
       "stream": "stdout",
       "text": [
        "                 VAR Order Selection                 \n",
        "=====================================================\n",
        "           aic          bic          fpe         hqic\n",
        "-----------------------------------------------------\n",
        "0       -17.21       -16.99    3.353e-08       -17.12\n",
        "1      -32.61*      -30.44*   6.914e-15*      -31.73*\n",
        "2       -31.86       -27.73    1.503e-14       -30.18\n",
        "3       -31.19       -25.11    3.127e-14       -28.72\n",
        "4       -30.90       -22.86    4.783e-14       -27.63\n",
        "5       -30.38       -20.39    1.006e-13       -26.32\n",
        "=====================================================\n",
        "* Minimum\n",
        "\n"
       ]
      },
      {
       "metadata": {},
       "output_type": "pyout",
       "prompt_number": 81,
       "text": [
        "{'aic': 1, 'bic': 1, 'fpe': 1, 'hqic': 1}"
       ]
      }
     ],
     "prompt_number": 81
    },
    {
     "cell_type": "code",
     "collapsed": false,
     "input": [
      "results = model.fit(1)"
     ],
     "language": "python",
     "metadata": {},
     "outputs": [],
     "prompt_number": 82
    },
    {
     "cell_type": "code",
     "collapsed": false,
     "input": [
      "results.summary()"
     ],
     "language": "python",
     "metadata": {},
     "outputs": [
      {
       "metadata": {},
       "output_type": "pyout",
       "prompt_number": 83,
       "text": [
        "  Summary of Regression Results   \n",
        "==================================\n",
        "Model:                         VAR\n",
        "Method:                        OLS\n",
        "Date:           Mon, 24, Nov, 2014\n",
        "Time:                     11:52:33\n",
        "--------------------------------------------------------------------\n",
        "No. of Equations:         9.00000    BIC:                   -30.4798\n",
        "Nobs:                     117.000    HQIC:                  -31.7420\n",
        "Log likelihood:           503.227    FPE:                6.94443e-15\n",
        "AIC:                     -32.6046    Det(Omega_mle):     3.31953e-15\n",
        "--------------------------------------------------------------------\n",
        "Results for equation aapl\n",
        "=====================================================================================\n",
        "                        coefficient       std. error           t-stat            prob\n",
        "-------------------------------------------------------------------------------------\n",
        "const                      0.315195         0.134918            2.336           0.021\n",
        "L1.aapl                    0.846903         0.071321           11.875           0.000\n",
        "L1.amzn                    0.024485         0.031660            0.773           0.441\n",
        "L1.fb                      0.026706         0.019015            1.404           0.163\n",
        "L1.goog                   -0.395233         0.452136           -0.874           0.384\n",
        "L1.googl                   0.500266         0.465446            1.075           0.285\n",
        "L1.msft                    0.043068         0.043984            0.979           0.330\n",
        "L1.twtr                   -0.058947         0.038797           -1.519           0.132\n",
        "L1.lsi_score              -0.002186         0.011213           -0.195           0.846\n",
        "L1.tweets_per_hour        -0.055787         0.016201           -3.443           0.001\n",
        "=====================================================================================\n",
        "\n",
        "Results for equation amzn\n",
        "=====================================================================================\n",
        "                        coefficient       std. error           t-stat            prob\n",
        "-------------------------------------------------------------------------------------\n",
        "const                     -0.311263         0.200848           -1.550           0.124\n",
        "L1.aapl                    0.048158         0.106172            0.454           0.651\n",
        "L1.amzn                    0.950469         0.047131           20.166           0.000\n",
        "L1.fb                      0.014015         0.028307            0.495           0.622\n",
        "L1.goog                   -0.275807         0.673079           -0.410           0.683\n",
        "L1.googl                   0.159188         0.692892            0.230           0.819\n",
        "L1.msft                   -0.074838         0.065478           -1.143           0.256\n",
        "L1.twtr                   -0.087338         0.057755           -1.512           0.133\n",
        "L1.lsi_score               0.046009         0.016692            2.756           0.007\n",
        "L1.tweets_per_hour         0.017491         0.024118            0.725           0.470\n",
        "=====================================================================================\n",
        "\n",
        "Results for equation fb\n",
        "=====================================================================================\n",
        "                        coefficient       std. error           t-stat            prob\n",
        "-------------------------------------------------------------------------------------\n",
        "const                      0.084447         0.349580            0.242           0.810\n",
        "L1.aapl                    0.059037         0.184796            0.319           0.750\n",
        "L1.amzn                    0.005363         0.082033            0.065           0.948\n",
        "L1.fb                      0.858637         0.049269           17.427           0.000\n",
        "L1.goog                    0.665594         1.171510            0.568           0.571\n",
        "L1.googl                  -0.716217         1.205995           -0.594           0.554\n",
        "L1.msft                    0.029529         0.113966            0.259           0.796\n",
        "L1.twtr                    0.205887         0.100524            2.048           0.043\n",
        "L1.lsi_score               0.016745         0.029053            0.576           0.566\n",
        "L1.tweets_per_hour        -0.006228         0.041978           -0.148           0.882\n",
        "=====================================================================================\n",
        "\n",
        "Results for equation goog\n",
        "=====================================================================================\n",
        "                        coefficient       std. error           t-stat            prob\n",
        "-------------------------------------------------------------------------------------\n",
        "const                     -0.379630         0.126163           -3.009           0.003\n",
        "L1.aapl                    0.176156         0.066692            2.641           0.009\n",
        "L1.amzn                   -0.011537         0.029606           -0.390           0.698\n",
        "L1.fb                      0.022068         0.017781            1.241           0.217\n",
        "L1.goog                    0.355937         0.422795            0.842           0.402\n",
        "L1.googl                   0.499463         0.435241            1.148           0.254\n",
        "L1.msft                   -0.128513         0.041130           -3.125           0.002\n",
        "L1.twtr                   -0.046936         0.036279           -1.294           0.199\n",
        "L1.lsi_score               0.023529         0.010485            2.244           0.027\n",
        "L1.tweets_per_hour         0.008201         0.015150            0.541           0.589\n",
        "=====================================================================================\n",
        "\n",
        "Results for equation googl\n",
        "=====================================================================================\n",
        "                        coefficient       std. error           t-stat            prob\n",
        "-------------------------------------------------------------------------------------\n",
        "const                     -0.426649         0.128622           -3.317           0.001\n",
        "L1.aapl                    0.177996         0.067992            2.618           0.010\n",
        "L1.amzn                   -0.001138         0.030183           -0.038           0.970\n",
        "L1.fb                      0.025819         0.018128            1.424           0.157\n",
        "L1.goog                   -0.332962         0.431036           -0.772           0.442\n",
        "L1.googl                   1.156231         0.443724            2.606           0.010\n",
        "L1.msft                   -0.129262         0.041932           -3.083           0.003\n",
        "L1.twtr                   -0.060197         0.036986           -1.628           0.107\n",
        "L1.lsi_score               0.026780         0.010689            2.505           0.014\n",
        "L1.tweets_per_hour         0.011159         0.015445            0.722           0.472\n",
        "=====================================================================================\n",
        "\n",
        "Results for equation msft\n",
        "=====================================================================================\n",
        "                        coefficient       std. error           t-stat            prob\n",
        "-------------------------------------------------------------------------------------\n",
        "const                     -0.205926         0.153711           -1.340           0.183\n",
        "L1.aapl                    0.151956         0.081255            1.870           0.064\n",
        "L1.amzn                   -0.020681         0.036070           -0.573           0.568\n",
        "L1.fb                     -0.012563         0.021664           -0.580           0.563\n",
        "L1.goog                   -0.572414         0.515116           -1.111           0.269\n",
        "L1.googl                   0.501460         0.530279            0.946           0.346\n",
        "L1.msft                    0.876702         0.050111           17.495           0.000\n",
        "L1.twtr                   -0.017574         0.044201           -0.398           0.692\n",
        "L1.lsi_score               0.007051         0.012774            0.552           0.582\n",
        "L1.tweets_per_hour        -0.020027         0.018458           -1.085           0.280\n",
        "=====================================================================================\n",
        "\n",
        "Results for equation twtr\n",
        "=====================================================================================\n",
        "                        coefficient       std. error           t-stat            prob\n",
        "-------------------------------------------------------------------------------------\n",
        "const                     -0.309898         0.207743           -1.492           0.139\n",
        "L1.aapl                    0.086090         0.109817            0.784           0.435\n",
        "L1.amzn                    0.040369         0.048749            0.828           0.409\n",
        "L1.fb                      0.023996         0.029279            0.820           0.414\n",
        "L1.goog                   -0.381857         0.696185           -0.548           0.584\n",
        "L1.googl                   0.248304         0.716678            0.346           0.730\n",
        "L1.msft                   -0.114636         0.067726           -1.693           0.093\n",
        "L1.twtr                    0.857578         0.059738           14.356           0.000\n",
        "L1.lsi_score               0.006787         0.017265            0.393           0.695\n",
        "L1.tweets_per_hour        -0.032123         0.024946           -1.288           0.201\n",
        "=====================================================================================\n",
        "\n",
        "Results for equation lsi_score\n",
        "=====================================================================================\n",
        "                        coefficient       std. error           t-stat            prob\n",
        "-------------------------------------------------------------------------------------\n",
        "const                     -0.717252         0.843901           -0.850           0.397\n",
        "L1.aapl                    0.672611         0.446104            1.508           0.135\n",
        "L1.amzn                   -0.553207         0.198032           -2.794           0.006\n",
        "L1.fb                     -0.334041         0.118938           -2.809           0.006\n",
        "L1.goog                   -4.548884         2.828075           -1.608           0.111\n",
        "L1.googl                   4.524719         2.911323            1.554           0.123\n",
        "L1.msft                   -0.068838         0.275119           -0.250           0.803\n",
        "L1.twtr                    0.698991         0.242670            2.880           0.005\n",
        "L1.lsi_score               0.704062         0.070134           10.039           0.000\n",
        "L1.tweets_per_hour         0.099298         0.101338            0.980           0.329\n",
        "=====================================================================================\n",
        "\n",
        "Results for equation tweets_per_hour\n",
        "=====================================================================================\n",
        "                        coefficient       std. error           t-stat            prob\n",
        "-------------------------------------------------------------------------------------\n",
        "const                      0.267977         0.781715            0.343           0.732\n",
        "L1.aapl                    0.065735         0.413231            0.159           0.874\n",
        "L1.amzn                    0.275221         0.183439            1.500           0.136\n",
        "L1.fb                      0.074730         0.110173            0.678           0.499\n",
        "L1.goog                   -0.036781         2.619676           -0.014           0.989\n",
        "L1.googl                   0.092873         2.696789            0.034           0.973\n",
        "L1.msft                   -0.062820         0.254845           -0.247           0.806\n",
        "L1.twtr                   -0.236044         0.224788           -1.050           0.296\n",
        "L1.lsi_score              -0.112359         0.064966           -1.730           0.087\n",
        "L1.tweets_per_hour         0.317515         0.093870            3.382           0.001\n",
        "=====================================================================================\n",
        "\n",
        "Correlation matrix of residuals\n",
        "                       aapl      amzn        fb      goog     googl      msft      twtr  lsi_score  tweets_per_hour\n",
        "aapl               1.000000  0.291925  0.273036  0.445520  0.430580  0.276439 -0.041371  -0.052250         0.272346\n",
        "amzn               0.291925  1.000000  0.073104  0.461111  0.450895 -0.165022 -0.057528  -0.210056         0.131603\n",
        "fb                 0.273036  0.073104  1.000000  0.221549  0.237944  0.261687  0.182829  -0.049225         0.092713\n",
        "goog               0.445520  0.461111  0.221549  1.000000  0.989040  0.233486  0.032082  -0.129910         0.082436\n",
        "googl              0.430580  0.450895  0.237944  0.989040  1.000000  0.233940  0.034805  -0.096817         0.087629\n",
        "msft               0.276439 -0.165022  0.261687  0.233486  0.233940  1.000000  0.038612  -0.172910         0.142709\n",
        "twtr              -0.041371 -0.057528  0.182829  0.032082  0.034805  0.038612  1.000000   0.037028        -0.063840\n",
        "lsi_score         -0.052250 -0.210056 -0.049225 -0.129910 -0.096817 -0.172910  0.037028   1.000000        -0.198199\n",
        "tweets_per_hour    0.272346  0.131603  0.092713  0.082436  0.087629  0.142709 -0.063840  -0.198199         1.000000\n",
        "\n"
       ]
      }
     ],
     "prompt_number": 83
    },
    {
     "cell_type": "code",
     "collapsed": false,
     "input": [
      "results.plot()"
     ],
     "language": "python",
     "metadata": {},
     "outputs": [],
     "prompt_number": 85
    },
    {
     "cell_type": "code",
     "collapsed": false,
     "input": [
      "results.plot_acorr()"
     ],
     "language": "python",
     "metadata": {},
     "outputs": [],
     "prompt_number": 86
    },
    {
     "cell_type": "code",
     "collapsed": false,
     "input": [],
     "language": "python",
     "metadata": {},
     "outputs": [
      {
       "metadata": {},
       "output_type": "pyout",
       "prompt_number": 87,
       "text": [
        "<matplotlib.legend.Legend at 0x7f68b2c06c90>"
       ]
      }
     ],
     "prompt_number": 87
    },
    {
     "cell_type": "code",
     "collapsed": false,
     "input": [],
     "language": "python",
     "metadata": {},
     "outputs": []
    },
    {
     "cell_type": "code",
     "collapsed": false,
     "input": [],
     "language": "python",
     "metadata": {},
     "outputs": []
    },
    {
     "cell_type": "code",
     "collapsed": false,
     "input": [],
     "language": "python",
     "metadata": {},
     "outputs": []
    }
   ],
   "metadata": {}
  }
 ]
}