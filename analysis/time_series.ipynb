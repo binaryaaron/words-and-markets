{
 "metadata": {
  "name": "",
  "signature": "sha256:8e52d5a1dac5d3c57bcd12a10b9b77d8396bdd21198666133f082691108e49fc"
 },
 "nbformat": 3,
 "nbformat_minor": 0,
 "worksheets": [
  {
   "cells": [
    {
     "cell_type": "markdown",
     "metadata": {},
     "source": [
      "# Initial analysis of tweet sentiment data\n",
      "\n",
      "dependencies:\n",
      "* pandas\n",
      "* ggplot\n",
      "* seaborn \n",
      "* statsmodels"
     ]
    },
    {
     "cell_type": "code",
     "collapsed": false,
     "input": [
      "# imports\n",
      "import numpy as np\n",
      "import pandas as pd\n",
      "import matplotlib.pyplot as plt\n",
      "#from ggplot import *\n",
      "from pandas import Series, DataFrame, Panel\n",
      "import seaborn as sns\n",
      "import statsmodels.tsa.api\n",
      "import datetime\n",
      "import pandas.io.data\n",
      "from pandas.tools.plotting import *\n",
      "\n",
      "%pylab qt"
     ],
     "language": "python",
     "metadata": {},
     "outputs": [
      {
       "output_type": "stream",
       "stream": "stdout",
       "text": [
        "Populating the interactive namespace from numpy and matplotlib\n"
       ]
      },
      {
       "output_type": "stream",
       "stream": "stderr",
       "text": [
        "WARNING: pylab import has clobbered these variables: ['ceil', 'table', 'boxplot']\n",
        "`%matplotlib` prevents importing * from pylab and numpy\n"
       ]
      }
     ],
     "prompt_number": 1
    },
    {
     "cell_type": "code",
     "collapsed": false,
     "input": [
      "# date converter function for pandas time series to add a new, non-indexed column\n",
      "# to the set for ggplot\n",
      "def dateConvert(df):\n",
      "    dt = df.index\n",
      "    df['Date'] = dt\n",
      "    df.reset_index(drop=True)\n",
      "    return df"
     ],
     "language": "python",
     "metadata": {},
     "outputs": [],
     "prompt_number": 2
    },
    {
     "cell_type": "code",
     "collapsed": false,
     "input": [
      "\n",
      "pylab.rcParams['figure.figsize'] = (14, 14.0)\n"
     ],
     "language": "python",
     "metadata": {},
     "outputs": [],
     "prompt_number": 3
    },
    {
     "cell_type": "code",
     "collapsed": false,
     "input": [],
     "language": "python",
     "metadata": {},
     "outputs": [],
     "prompt_number": 3
    },
    {
     "cell_type": "code",
     "collapsed": false,
     "input": [],
     "language": "python",
     "metadata": {},
     "outputs": [],
     "prompt_number": 3
    },
    {
     "cell_type": "code",
     "collapsed": false,
     "input": [],
     "language": "python",
     "metadata": {},
     "outputs": [],
     "prompt_number": 3
    },
    {
     "cell_type": "code",
     "collapsed": false,
     "input": [],
     "language": "python",
     "metadata": {},
     "outputs": [],
     "prompt_number": 3
    },
    {
     "cell_type": "markdown",
     "metadata": {},
     "source": [
      "Here we read the data from our csv file into a data frame, parsing the date column as dates and indexing on dates."
     ]
    },
    {
     "cell_type": "code",
     "collapsed": false,
     "input": [
      "tweet_data = pd.read_csv('tweet_sentiment_scores.csv', parse_dates=[0], index_col=['time'])"
     ],
     "language": "python",
     "metadata": {},
     "outputs": [],
     "prompt_number": 4
    },
    {
     "cell_type": "code",
     "collapsed": false,
     "input": [
      "#sanity check\n",
      "tweet_data.keys()"
     ],
     "language": "python",
     "metadata": {},
     "outputs": [
      {
       "metadata": {},
       "output_type": "pyout",
       "prompt_number": 5,
       "text": [
        "Index([u'total_tweets', u'lsi_words', u'lda_words', u'lsi_score', u'lda_score'], dtype='object')"
       ]
      }
     ],
     "prompt_number": 5
    },
    {
     "cell_type": "code",
     "collapsed": false,
     "input": [
      "\n",
      "words = tweet_data.lsi_words\n",
      "print words['2014-10-20']\n"
     ],
     "language": "python",
     "metadata": {},
     "outputs": [
      {
       "output_type": "stream",
       "stream": "stdout",
       "text": [
        "time\n",
        "2014-10-20 07:00:00    [u'is', u'new', u'ebola', u'facebook', u'poste...\n",
        "2014-10-20 08:00:00    [u'facebook', u'new', u'is', u'posted', u'phot...\n",
        "2014-10-20 09:00:00    [u'is', u'facebook', u'new', u'posted', u'phot...\n",
        "2014-10-20 10:00:00    [u'\\u2713', u'users', u'new', u'follow', u'htt...\n",
        "2014-10-20 11:00:00    [u'is', u'new', u'facebook', u'posted', u'phot...\n",
        "2014-10-20 12:00:00    [u'new', u'is', u'facebook', u'posted', u'vide...\n",
        "2014-10-20 13:00:00    [u'@', u'is', u'big', u'take', u'fan', u'cover...\n",
        "2014-10-20 14:00:00    [u'video', u'liked', u'new', u'music', u'can',...\n",
        "2014-10-20 15:00:00    [u'video', u'@youtube', u'liked', u'new', u'is...\n",
        "2014-10-20 16:00:00    [u'video', u'@youtube', u'liked', u'is', u'new...\n",
        "2014-10-20 17:00:00    [u'now', u'\\u2026', u'subscribe', u'daily', u'...\n",
        "2014-10-20 18:00:00    [u'\\u2026', u'now', u'subscribe', u'daily', u'...\n",
        "2014-10-20 19:00:00    [u'facebook', u'new', u'posted', u'photo', u'r...\n",
        "2014-10-20 20:00:00    [u'facebook', u'new', u'posted', u'photo', u'i...\n",
        "2014-10-20 21:00:00    [u'facebook', u'new', u'posted', u'photo', u'w...\n",
        "2014-10-20 22:00:00    [u'facebook', u'page', u'fan', u'likes', u'$5'...\n",
        "Name: lsi_words, dtype: object\n"
       ]
      }
     ],
     "prompt_number": 6
    },
    {
     "cell_type": "code",
     "collapsed": false,
     "input": [
      "word2 = words['2014-10-31'][0]\n",
      "word2 = word2.split(']')\n",
      "print word2"
     ],
     "language": "python",
     "metadata": {},
     "outputs": [
      {
       "output_type": "stream",
       "stream": "stdout",
       "text": [
        "['[u\\'@youtube\\', u\\'get\\', u\\'people\\', u\\'watch\\', u\\'must\\', u\\'doing\\', u\\'videos.\\', u\\'held\\', u\\'will,\\', u\\'should,\\', u\\'new\\', u\\'facebook\\', u\\'posted\\', u\\'photo\\', u\\'is\\', u\\'video\\', u\\'photos\\', u\\'album\\', u\\'song\\', u\\'are\\', u\\'@youtube\\', u\\'video\\', u\\'liked\\', u\\'is\\', u\\'playlist\\', u\\'added\\', u\\'get\\', u\\'people\\', u\\'held\\', u\\'will,\\', u\\'is\\', u\\'apple\\', u\\'@youtube\\', u\\'video\\', u\\'liked\\', u\\'ebola\\', u\\'tim\\', u\\'are\\', u\\'ceo\\', u\\'google\\', u\\'apple\\', u\\'iphone\\', u\\'is\\', u\\'price\\', u\\'full\\', u\\'read\\', u\\'ebay:\\', u\\'usd\\', u\\'bids)\\', u\\'end\\', u\\'honor\\', u\\'sacrifice\\', u\\'vote!!!\\', u\\'@talbertswan:\\', u\\'http://t.co/ywhb8l0mvt\\', u\\'ancestors,\\', u\\'new\\', u\\'free\\', u\\'google\\', u\\'happy\\', u\\'free\\', u\\'new\\', u\\'happy\\', u\\'halloween\\', u\\'facebook\\', u\\'google\\', u\\'get\\', u\\'is\\', u\\'#news\\', u\\'#youtube\\', u\\'free\\', u\\'new\\', u\\'facebook\\', u\\'tim\\', u\\'#youtube\\', u\\'cook\\', u\\'ceo\\', u\\'#news\\', u\\'#pussy\\', u\\'#pics\\', u\\'happy\\', u\\'halloween\\', u\\'new\\', u\\'free\\', u\\'facebook\\', u\\'are\\', u\\'#news\\', u\\'#youtube\\', u\\'#pics\\', u\\'#pussy\\', u\\'new\\', u\\'facebook\\', u\\'tim\\', u\\'apple\\', u\\'ceo\\', u\\'cook\\', u\\'free\\', u\\'gay\\', u\\'full\\', u\\'price\\', u\\'google\\', u\\'fb\\', u\\'page\\', u\\'ebola\\', u\\'happy\\', u\\'new\\', u\\'are\\', u\\'facebook\\', u\\'halloween\\', u\\'andy\\', u\\'ebola\\', u\\'google\\', u\\'are\\', u\\'look\\', u\\'worried\\', u\\'travel\\', u\\'apple\\', u\\'impact\\', u\\'potential\\', u\\'jal\\', u\\'#news\\', u\\'#youtube\\', u\\'#pussy\\', u\\'#pics\\', u\\'free\\', u\\'win\\', u\\'null\\', u\\'stuff\\', u\\'are\\', u\\'bid!!!\\', u\\'are\\', u\\'ebola\\', u\\'google\\', u\\'apple\\', u\\'halloween\\', u\\'free\\', u\\'youtube\\', u\\'win\\', u\\'null\\', u\\'stuff\\', u\\'apple\\', u\\'tim\\', u\\'\\\\U0001f4f1\\', u\\'iglass\\', u\\'@appieofficiel:\\', u\\'http://t.co/d2vcocotqt\\', u\\'has\\', u\\'are\\', u\\'gay\\', u\\'cook\\', u\\'was\\', u\\'andy\\', u\\'rubin\\', u\\'has\\', u\\'co-founder\\', u\\'fb\\', u\\'tim\\', u\\'leaves\\', u\\'rubin,\\', u\\'android,\\', u\\'get\\', u\\'are\\', u\\'amazon\\', u\\'@youtube\\', u\\'win\\', u\\'null\\', u\\'stuff\\', u\\'video\\', u\\'https://t.co/28l7xxtqnr\\', u\\'bid!!!\\', u\\':\\', u\\'love\\', u\\'get\\', u\\'video\\', u\\'@youtube\\', u\\'are\\', u\\'2014\\', u\\'now\\', u\\'liked\\', u\\'can\\', u\\'youtube\\', u\\'@youtube\\', u\\'video\\', u\\'love\\', u\\'get\\', u\\':\\', u\\'are\\', u\\'amazon\\', u\\'will\\', u\\'facebook\\', u\\'@youtube\\', u\\':\\', u\\'video\\', u\\'love\\', u\\'now\\', u\\'liked\\', u\\'please\\', u\\'was\\', u\\'youtube\\', u\\'will\\', u\\'love\\', u\\'was\\', u\\'google\\', u\\'fb\\', u\\'now\\', u\\'youtube\\', u\\'page\\', u\\'12\\', u\\'6\\', u\\'iphone\\', u\\'now\\', u\\'has\\', u\\'google\\', u\\'please\\', u\\'was\\', u\\'love\\', u\\'youtube\\', u\\'more\\', u\\'6\\', u\\'need\\', u\\'love\\', u\\'youtube\\', u\\'google\\', u\\'@youtube\\', u\\'video\\', u\\'fb\\', u\\'now\\', u\\'page\\', u\\'has\\', u\\'super\\', u\\'youtube\\', u\\'please\\', u\\'facebook\\', u\\'google\\', u\\'photo\\', u\\'need\\', u\\'song\\', u\\'will\\', u\\'talk\\', u\\'was\\', u\\'will\\', u\\'more\\', u\\'has\\', u\\'now\\', u\\'cook\\', u\\'announced\\', u\\'tim\\', u\\'please\\', u\\'can\\', u\"he\\'s\", u\\'will\\', u\\'please\\', u\\'song\\', u\\'youtube\\', u\\'need\\', u\\'more\\', u\\'talk\\', u\\'opinions\\', u\\'a.d\\', u\\'#thanksalot\\', u\\'amazon\\', u\\'get\\', u\\'2014\\', u\\'just\\', u\\'gift\\', u\\'&gt;&gt;&gt;\\', u\\'more\\', u\\'\\\\u2013\\', u\\'has\\', u\\'people\\', u\\'more\\', u\\'now\\', u\\'has\\', u\\'just\\', u\\'was\\', u\\'amazon\\', u\\'can\\', u\\'get\\', u\\'people\\', u\"can\\'t\", u\\'just\\', u\\'more\\', u\\'can\\', u\\'will\\', u\\'2014\\', u\\'was\\', u\\'check\\', u\\'youtube\\', u\\'6\\', u\\'are\\', u\\'2014\\', u\\'liked\\', u\\'added\\', u\\'playlist\\', u\\'amazon\\', u\\'now\\', u\\'will\\', u\\'photo\\', u\\'october\\', u\\'check\\', u\\'liked\\', u\\'added\\', u\\'playlist\\', u\\'has\\', u\\'now\\', u\\'2014\\', u\\'see\\', u\\'can\\', u\\'6\\', u\\'iphone\\', u\\'can\\', u\\'check\\', u\\'has\\', u\\'just\\', u\\'2014\\', u\\'see\\', u\\'added\\', u\\'playlist\\', u\\'liked\\', u\\'google\\', u\\'justcameout\\', u\\'andimsure\\', u\\'youwill\\', u\\'youshould\\', u\\'likeit:)\\', u\\'followme:)myfirstsingle\\', u\\'http://t.co/p9tdr2znc7\\', u\\'heyif\\', u\\'youlike\\', u\\'coldplay\\', u\\'check\\', u\\'see\\', u\\'2014\\', u\\'added\\', u\\'playlist\\', u\\'was\\', u\\'liked\\', u\\'now\\', u\\'photo\\', u\\'just\\', u\\'2014\\', u\\'apple\\', u\\'\\\\U0001f4f1\\', u\\'http://t.co/d2vcocotqt\\', u\\'iglass\\', u\\'@appieofficiel:\\', u\\'iphone\\', u\\'6\\', u\\'was\\', u\\'more\\', u\\'halloween\\', u\\'happy\\', u\\'photo\\', u\\'facebook\\', u\\'2014\\', u\\'posted\\', u\\'added\\', u\\'can\\', u\\'playlist\\', u\\'please\\', u\\'halloween\\', u\\'happy\\', u\\'check\\', u\\'2014\\', u\\'photo\\', u\\'can\\', u\\'facebook\\', u\\'halloween!\\', u\\'posted\\', u\\'day\\', u\\'check\\', u\\'can\\', u\\'now\\', u\\'travel\\', u\\'impact\\', u\\'potential\\', u\\'worried\\', u\\'jal\\', u\\'has\\', u\\'more\\', u\\'can\\', u\\'now\\', u\\'travel\\', u\\'impact\\', u\\'worried\\', u\\'potential\\', u\\'jal\\', u\\'2\\', u\\'check\\', u\\'halloween\\', u\\'2\\', u\\'\\\\u2026\\', u\\'free\\', u\\'amazon\\', u\\'posted\\', u\\'#apple\\', u\\'facebook\\', u\\'win\\', u\\'#itunes\\', u\\'see\\', u\\'2\\', u\\'free\\', u\\'2014\\', u\\'#apple\\', u\\'day\\', u\\'can\\', u\\'#itunes\\', u\\'get\\', u\\'#iphone\\', u\\'check\\', u\\'see\\', u\\'free\\', u\\'day\\', u\\'check\\', u\\'now\\', u\\'#apple\\', u\\'people\\', u\\'6\\', u\\'get\\', u\\'announced\\', u\\'day\\', u\\'best\\', u\\'2\\', u\\'2014\\', u\\'top\\', u\\'\\\\u2013\\', u\\'buy\\', u\\'modi\\', u\\'narendra\\', u\\'days\\', u\\'\\\\u2013\\', u\\'day\\', u\\'top\\', u\\'see\\', u\\'music\\', u\\'buy\\', u\\'has\\', u\\'days\\', u\\'2\\', u\\'100\\', u\\'\\\\u2013\\', u\\'day\\', u\\'top\\', u\\'buy\\', u\\'days\\', u\\'see\\', u\\'check\\', u\\'best\\', u\\'now\\', u\\'book\\', u\\'\\\\u2013\\', u\\'see\\', u\\'day\\', u\\'check\\', u\\'2\\', u\\'narendra\\', u\\'modi\\', u\\'\\\\u2026\\', u\\'prime\\', u\\'minister\\', u\\'see\\', u\\'has\\', u\\'#scarystoriesin5words\\', u\\'#apple\\', u\\'people\\', u\\'lebron\\', u\\'cleveland\\', u\\'#beenrapedneverreported\\', u\\'#unwantedhalloweentreats\\', u\\'westbrook\\', u\\'#apple\\', u\\'#iphone\\', u\\'free\\', u\\'#itunes\\', u\\'germany\\', u\\'book\\', u\\'album\\', u\\'get\\', u\\'photos\\', u\\'amazon\\', u\\'call\\', u\\'credit\\', u\\'counseling\\', u\\'consumer\\', u\\'254-4100\\', u\\'(800)\\', u\\'city\\', u\\'album\\', u\\'photos\\', u\\'1-800-254-4100\\', u\\'album\\', u\\'photos\\', u\\'posted\\', u\\'\\\\u2026\\', u\\'#scarystoriesin5words\\', u\\'lebron\\', u\\'cleveland\\', u\\'westbrook\\', u\\'#beenrapedneverreported\\', u\\'#unwantedhalloweentreats\\', u\\'day\\', u\\'#scarystoriesin5words\\', u\\'lebron\\', u\\'cleveland\\', u\\'westbrook\\', u\\'#beenrapedneverreported\\', u\\'#unwantedhalloweentreats\\', u\\'see\\', u\\'album\\', u\\'check\\', u\\'book\\', u\\'ruin\\', u\\'(the\\', u\\'series\\', u\\'top\\', u\\'part\\', u\\'music\\', u\\'iphone\\', u\\'was\\', u\\'microsoft\\', u\\'best\\', u\\'was\\', u\\'book\\', u\\'iphone\\', u\\'narendra\\', u\\'modi\\', u\\'#apple\\', u\\'6\\', u\\'prime\\', u\\'microsoft\\', u\\'\\\\u2026\\', u\\'2\\', u\\'good\\', u\\'music\\', u\\'microsoft\\', u\\'watch\\', u\\':)\\', u\\'best\\', u\\'album\\', u\\'book\\', u\\'good\\', u\\':)\\', u\\'\\\\u2026\\', u\"don\\'t\", u\\'morning\\', u\\'time\\', u\\'microsoft\\', u\\'day\\', u\"i\\'m\", u\\'know\\', u\\'best\\', u\\'top\\', u\\'album\\', u\\'iphone\\', u\\'6\\', u\\'photos\\', u\\'was\\', u\\'days\\', u\\'music\\', u\\'8\\', u\\'microsoft\\', u\\'song\\', u\\'amazon\\', u\\'please\\', u\\'click\\', u\\'game\\', u\\'lyrics\\', u\\'music\\', u\\'\\\\U0001f496\\', u\\'tyga\\', u\\'microsoft\\', u\\'amazon\\', u\\'ur\\', u\\'take\\', u\\'\\\\u2026\\', u\\'best\\', u\\'game\\', u\\'click\\', u\\'music\\', u\\'big\\', u\\'super\\', u\\'microsoft\\', u\\'music\\', u\\'good\\', u\\'\\\\u2013\\', u\\'message\\', u\\'fans\\', u\"don\\'t\", u\\'want\\', u\\'best\\', u\\'microsoft\\', u\\'ur\\', u\\'take\\', u\\'song\\', u\\'news\\', u\\'neo\\', u\\'neos\\', u\\'#neowhere\\', u\\'@justinbieber:\\', u\\'u?\\', u\\'insects\\', u\\'hum\\', u\\'siles\\', u\"don\\'t\", u\\'music\\', u\\'mix\\', u\\'(\\', u\\'h\\\\u2026\\', u\\'cr\\', u\\'want\\', u\\'music\\', u\\'buy\\', u\\'super\\', u\\'love\\', u\\'message\\', u\\'fans\\', u\\'more\\', u\\'look\\', u\\'official\\', u\"junior\\'s\", u\"don\\'t\", u\\'want\\', u\\':)\\', u\\'good\\', u\\'insects\\', u\\'hum\\', u\\'siles\\', u\\'super\\', u\\'know\\', u\\'buy\\', u\\'world\\', u\\'look\\', u\\'guidelines\\', u\\'first\\', u\\'states\\', u\"here\\'s\", u\\'time\\', u\\'news\\', u\\'click\\', u\\'make\\', u\\'world\\', u\\'music\\', u\\'more\\', u\\'people\\', u\\'make\\', u\\'8\\', u\\'first\\', u\\'worth\\', u\\'great\\', u\\'look\\', u\\'look\\', u\\'8\\', u\\'more\\', u\\'worth\\', u\\'guidelines\\', u\\'stock\\', u\\'hands\\', u\\'execs\\', u\\'$27m\\', u\\'awards\\', u\\'song\\', u\\'lyrics\\', u\\'\\\\U0001f496\\', u\\'https://t.co/h3pb1cmakl\\', u\\'tyga\\', u\\'app\\', u\\'ur\\', u\\'take\\', u\\'6\\', u\\'music\\', u\\'chocolate,\\', u\\'trail\\', u\\'nut\\', u\\'mix,\\', u\\'planters\\', u\\'#3:\\', u\\'(pack\\', u\\'3):\\', u\\'19-oun...\\', u\\'19-ounce\\', u\\'app\\', u\\'look\\', u\\'chocolate,\\', u\\'trail\\', u\\'nut\\', u\\'planters\\', u\\'mix,\\', u\\'world\\', u\\'#app\\', u\\'...\\', u\\'more\\', u\\'look\\', u\\'make\\', u\\'people\\', u\\'first\\', u\\'fb\\', u\\'great\\', u\\'world\\', u\"can\\'t\", u\"he\\'s\", u\\'fb\\', u\\'app\\', u\\'3\\', u\\'6\\', u\"i\\'m\", u\"don\\'t\", u\\'#app\\', u\\'#iphone6\\', u\\'...\\', u\\'was\\', u\\'official\\', u\\'ipas2\\', u\\'time\\', u\\'review\\', u\\'vote\\', u\\'find\\', u\"i\\'m\", u\\'world\\', u\\'first\\', u\\'...\\', u\\'time\\', u\\'ipas2\\', u\\'society\\', u\\'pranking\\', u\\'loins\\', u\\'purged\\', u\\'outrageous\\', u\\'official\\', u\\'vote\\', u\\'world\\', u\\'time\\', u\\'society\\', u\\'pranking\\', u\\'outrageous\\', u\\'purged\\', u\\'loins\\', u\\'first\\', u\\'#ourcitygogo\\', u\\'youtube\\', u\\'world\\', u\\'vote\\', u\\'news\\', u\\'1\\', u\\'click\\', u\"don\\'t\", u\\'app\\', u\\'world\\', u\\'--&gt;\\', u\"i\\'m\", u\\'ceo\\', u\\'@barbjonn:\\', u\\'birthday\\', u\\'doodle\\', u\\'french\\', u\\'saint\\', u\\'celebrates\\', u\\'phalle:\\', u\\'niki\\', u\\'#nikidesaintphalle\\', u\\'84th\\', u\\'...\\', u\\'says\\', u\\'world\\', u\\'5\\', u\\'ipas2\\', u\\'time\\', u\\'developer\\', u\\'jonas\\', u\\'#jonassalk\\', u\\'salk:\\', u\\'5\\', u\\'...\\', u\\'mac\\', u\\'first\\', u\\'buy\\', u\\'please\\', u\\'black\\', u\\'follow\\', u\\'make\\', u\\'need\\', u\\'fb\\', u\\'nurse\\', u\\'ceo\\', u\\'6\\', u\\'apple\\', u\\'bike\\', u\\'#timcook\\', u\\'quarantine\\', u\\'comes\\', u\\'defies\\', u\\'\\\\u2764\\', u\\'\\\\u266b\\', u\\'remix\\', u\\'up\"\\', u\\'#bayarea\\', u\\'\"hold\\', u\\'cdq\\', u\\'(mp3)\\', u\\'#bonthebeat)\\', u\\'(#619saint\\'', '']\n"
       ]
      }
     ],
     "prompt_number": 7
    },
    {
     "cell_type": "code",
     "collapsed": false,
     "input": [],
     "language": "python",
     "metadata": {},
     "outputs": [],
     "prompt_number": 7
    },
    {
     "cell_type": "code",
     "collapsed": false,
     "input": [],
     "language": "python",
     "metadata": {},
     "outputs": [],
     "prompt_number": 7
    },
    {
     "cell_type": "code",
     "collapsed": false,
     "input": [],
     "language": "python",
     "metadata": {},
     "outputs": [],
     "prompt_number": 7
    },
    {
     "cell_type": "code",
     "collapsed": false,
     "input": [],
     "language": "python",
     "metadata": {},
     "outputs": [],
     "prompt_number": 7
    },
    {
     "cell_type": "code",
     "collapsed": false,
     "input": [],
     "language": "python",
     "metadata": {},
     "outputs": [],
     "prompt_number": 7
    },
    {
     "cell_type": "code",
     "collapsed": false,
     "input": [
      "#tweet_data.total_tweets.rolplot()"
     ],
     "language": "python",
     "metadata": {},
     "outputs": [],
     "prompt_number": 8
    },
    {
     "cell_type": "code",
     "collapsed": false,
     "input": [],
     "language": "python",
     "metadata": {},
     "outputs": [],
     "prompt_number": 8
    },
    {
     "cell_type": "code",
     "collapsed": false,
     "input": [],
     "language": "python",
     "metadata": {},
     "outputs": [],
     "prompt_number": 8
    },
    {
     "cell_type": "code",
     "collapsed": false,
     "input": [
      "tweet_dates = dateConvert(tweet_data)\n",
      "tweet_dates.head()\n",
      "tweet_dates = tweet_dates[['Date','lsi_score','lda_score']]\n"
     ],
     "language": "python",
     "metadata": {},
     "outputs": [],
     "prompt_number": 8
    },
    {
     "cell_type": "code",
     "collapsed": false,
     "input": [
      "data = pd.melt(tweet_dates, id_vars='Date').dropna() # Here is the method I use to format the data in the long format. Please note the use of 'Date' as the id_vars.\n",
      "\n",
      "data = data.rename(columns = {'Date':'Date','variable':'index','value':'score'}) # common to rename these columns"
     ],
     "language": "python",
     "metadata": {},
     "outputs": [],
     "prompt_number": 9
    },
    {
     "cell_type": "code",
     "collapsed": false,
     "input": [
      "print data.info()\n",
      "data.head()"
     ],
     "language": "python",
     "metadata": {},
     "outputs": [
      {
       "output_type": "stream",
       "stream": "stdout",
       "text": [
        "<class 'pandas.core.frame.DataFrame'>\n",
        "Int64Index: 698 entries, 0 to 697\n",
        "Data columns (total 3 columns):\n",
        "Date     698 non-null datetime64[ns]\n",
        "index    698 non-null object\n",
        "score    698 non-null float64\n",
        "dtypes: datetime64[ns](1), float64(1), object(1)\n",
        "memory usage: 21.8+ KB\n",
        "None\n"
       ]
      },
      {
       "html": [
        "<div style=\"max-height:1000px;max-width:1500px;overflow:auto;\">\n",
        "<table border=\"1\" class=\"dataframe\">\n",
        "  <thead>\n",
        "    <tr style=\"text-align: right;\">\n",
        "      <th></th>\n",
        "      <th>Date</th>\n",
        "      <th>index</th>\n",
        "      <th>score</th>\n",
        "    </tr>\n",
        "  </thead>\n",
        "  <tbody>\n",
        "    <tr>\n",
        "      <th>0</th>\n",
        "      <td>2014-10-17 08:00:00</td>\n",
        "      <td> lsi_score</td>\n",
        "      <td> 5.480078</td>\n",
        "    </tr>\n",
        "    <tr>\n",
        "      <th>1</th>\n",
        "      <td>2014-10-17 09:00:00</td>\n",
        "      <td> lsi_score</td>\n",
        "      <td> 4.737615</td>\n",
        "    </tr>\n",
        "    <tr>\n",
        "      <th>2</th>\n",
        "      <td>2014-10-17 10:00:00</td>\n",
        "      <td> lsi_score</td>\n",
        "      <td> 5.868986</td>\n",
        "    </tr>\n",
        "    <tr>\n",
        "      <th>3</th>\n",
        "      <td>2014-10-17 11:00:00</td>\n",
        "      <td> lsi_score</td>\n",
        "      <td> 4.136575</td>\n",
        "    </tr>\n",
        "    <tr>\n",
        "      <th>4</th>\n",
        "      <td>2014-10-17 12:00:00</td>\n",
        "      <td> lsi_score</td>\n",
        "      <td> 4.702260</td>\n",
        "    </tr>\n",
        "  </tbody>\n",
        "</table>\n",
        "</div>"
       ],
       "metadata": {},
       "output_type": "pyout",
       "prompt_number": 10,
       "text": [
        "                 Date      index     score\n",
        "0 2014-10-17 08:00:00  lsi_score  5.480078\n",
        "1 2014-10-17 09:00:00  lsi_score  4.737615\n",
        "2 2014-10-17 10:00:00  lsi_score  5.868986\n",
        "3 2014-10-17 11:00:00  lsi_score  4.136575\n",
        "4 2014-10-17 12:00:00  lsi_score  4.702260"
       ]
      }
     ],
     "prompt_number": 10
    },
    {
     "cell_type": "code",
     "collapsed": false,
     "input": [],
     "language": "python",
     "metadata": {},
     "outputs": [],
     "prompt_number": 10
    },
    {
     "cell_type": "code",
     "collapsed": false,
     "input": [],
     "language": "python",
     "metadata": {},
     "outputs": [],
     "prompt_number": 10
    },
    {
     "cell_type": "code",
     "collapsed": false,
     "input": [],
     "language": "python",
     "metadata": {},
     "outputs": [],
     "prompt_number": 10
    },
    {
     "cell_type": "code",
     "collapsed": false,
     "input": [],
     "language": "python",
     "metadata": {},
     "outputs": [],
     "prompt_number": 10
    },
    {
     "cell_type": "code",
     "collapsed": false,
     "input": [],
     "language": "python",
     "metadata": {},
     "outputs": [],
     "prompt_number": 10
    },
    {
     "cell_type": "code",
     "collapsed": false,
     "input": [],
     "language": "python",
     "metadata": {},
     "outputs": [],
     "prompt_number": 10
    },
    {
     "cell_type": "code",
     "collapsed": false,
     "input": [],
     "language": "python",
     "metadata": {},
     "outputs": [],
     "prompt_number": 11
    },
    {
     "cell_type": "code",
     "collapsed": false,
     "input": [
      "rets = df.pct_change()\n"
     ],
     "language": "python",
     "metadata": {},
     "outputs": [
      {
       "ename": "NameError",
       "evalue": "name 'df' is not defined",
       "output_type": "pyerr",
       "traceback": [
        "\u001b[0;31m---------------------------------------------------------------------------\u001b[0m\n\u001b[0;31mNameError\u001b[0m                                 Traceback (most recent call last)",
        "\u001b[0;32m<ipython-input-12-3c3ca3abd7d4>\u001b[0m in \u001b[0;36m<module>\u001b[0;34m()\u001b[0m\n\u001b[0;32m----> 1\u001b[0;31m \u001b[0mrets\u001b[0m \u001b[0;34m=\u001b[0m \u001b[0mdf\u001b[0m\u001b[0;34m.\u001b[0m\u001b[0mpct_change\u001b[0m\u001b[0;34m(\u001b[0m\u001b[0;34m)\u001b[0m\u001b[0;34m\u001b[0m\u001b[0m\n\u001b[0m",
        "\u001b[0;31mNameError\u001b[0m: name 'df' is not defined"
       ]
      }
     ],
     "prompt_number": 12
    },
    {
     "cell_type": "code",
     "collapsed": false,
     "input": [],
     "language": "python",
     "metadata": {},
     "outputs": [],
     "prompt_number": 12
    },
    {
     "cell_type": "code",
     "collapsed": false,
     "input": [
      "corr = rets.corr()\n",
      "corr"
     ],
     "language": "python",
     "metadata": {},
     "outputs": [
      {
       "ename": "NameError",
       "evalue": "name 'rets' is not defined",
       "output_type": "pyerr",
       "traceback": [
        "\u001b[0;31m---------------------------------------------------------------------------\u001b[0m\n\u001b[0;31mNameError\u001b[0m                                 Traceback (most recent call last)",
        "\u001b[0;32m<ipython-input-13-64554e92a6ea>\u001b[0m in \u001b[0;36m<module>\u001b[0;34m()\u001b[0m\n\u001b[0;32m----> 1\u001b[0;31m \u001b[0mcorr\u001b[0m \u001b[0;34m=\u001b[0m \u001b[0mrets\u001b[0m\u001b[0;34m.\u001b[0m\u001b[0mcorr\u001b[0m\u001b[0;34m(\u001b[0m\u001b[0;34m)\u001b[0m\u001b[0;34m\u001b[0m\u001b[0m\n\u001b[0m\u001b[1;32m      2\u001b[0m \u001b[0mcorr\u001b[0m\u001b[0;34m\u001b[0m\u001b[0m\n",
        "\u001b[0;31mNameError\u001b[0m: name 'rets' is not defined"
       ]
      }
     ],
     "prompt_number": 13
    },
    {
     "cell_type": "code",
     "collapsed": false,
     "input": [
      "plt.imshow(corr, cmap = 'hot', interpolation='none')\n",
      "plt.colorbar()\n",
      "plt.xticks(range(len(corr)), corr.columns)\n",
      "plt.yticks(range(len(corr)), corr.columns)\n",
      "plt.show()"
     ],
     "language": "python",
     "metadata": {},
     "outputs": [
      {
       "ename": "NameError",
       "evalue": "name 'corr' is not defined",
       "output_type": "pyerr",
       "traceback": [
        "\u001b[0;31m---------------------------------------------------------------------------\u001b[0m\n\u001b[0;31mNameError\u001b[0m                                 Traceback (most recent call last)",
        "\u001b[0;32m<ipython-input-14-36cca6a6678b>\u001b[0m in \u001b[0;36m<module>\u001b[0;34m()\u001b[0m\n\u001b[0;32m----> 1\u001b[0;31m \u001b[0mplt\u001b[0m\u001b[0;34m.\u001b[0m\u001b[0mimshow\u001b[0m\u001b[0;34m(\u001b[0m\u001b[0mcorr\u001b[0m\u001b[0;34m,\u001b[0m \u001b[0mcmap\u001b[0m \u001b[0;34m=\u001b[0m \u001b[0;34m'hot'\u001b[0m\u001b[0;34m,\u001b[0m \u001b[0minterpolation\u001b[0m\u001b[0;34m=\u001b[0m\u001b[0;34m'none'\u001b[0m\u001b[0;34m)\u001b[0m\u001b[0;34m\u001b[0m\u001b[0m\n\u001b[0m\u001b[1;32m      2\u001b[0m \u001b[0mplt\u001b[0m\u001b[0;34m.\u001b[0m\u001b[0mcolorbar\u001b[0m\u001b[0;34m(\u001b[0m\u001b[0;34m)\u001b[0m\u001b[0;34m\u001b[0m\u001b[0m\n\u001b[1;32m      3\u001b[0m \u001b[0mplt\u001b[0m\u001b[0;34m.\u001b[0m\u001b[0mxticks\u001b[0m\u001b[0;34m(\u001b[0m\u001b[0mrange\u001b[0m\u001b[0;34m(\u001b[0m\u001b[0mlen\u001b[0m\u001b[0;34m(\u001b[0m\u001b[0mcorr\u001b[0m\u001b[0;34m)\u001b[0m\u001b[0;34m)\u001b[0m\u001b[0;34m,\u001b[0m \u001b[0mcorr\u001b[0m\u001b[0;34m.\u001b[0m\u001b[0mcolumns\u001b[0m\u001b[0;34m)\u001b[0m\u001b[0;34m\u001b[0m\u001b[0m\n\u001b[1;32m      4\u001b[0m \u001b[0mplt\u001b[0m\u001b[0;34m.\u001b[0m\u001b[0myticks\u001b[0m\u001b[0;34m(\u001b[0m\u001b[0mrange\u001b[0m\u001b[0;34m(\u001b[0m\u001b[0mlen\u001b[0m\u001b[0;34m(\u001b[0m\u001b[0mcorr\u001b[0m\u001b[0;34m)\u001b[0m\u001b[0;34m)\u001b[0m\u001b[0;34m,\u001b[0m \u001b[0mcorr\u001b[0m\u001b[0;34m.\u001b[0m\u001b[0mcolumns\u001b[0m\u001b[0;34m)\u001b[0m\u001b[0;34m\u001b[0m\u001b[0m\n\u001b[1;32m      5\u001b[0m \u001b[0mplt\u001b[0m\u001b[0;34m.\u001b[0m\u001b[0mshow\u001b[0m\u001b[0;34m(\u001b[0m\u001b[0;34m)\u001b[0m\u001b[0;34m\u001b[0m\u001b[0m\n",
        "\u001b[0;31mNameError\u001b[0m: name 'corr' is not defined"
       ]
      }
     ],
     "prompt_number": 14
    },
    {
     "cell_type": "code",
     "collapsed": false,
     "input": [],
     "language": "python",
     "metadata": {},
     "outputs": [],
     "prompt_number": 14
    },
    {
     "cell_type": "code",
     "collapsed": false,
     "input": [],
     "language": "python",
     "metadata": {},
     "outputs": [],
     "prompt_number": 14
    },
    {
     "cell_type": "code",
     "collapsed": false,
     "input": [],
     "language": "python",
     "metadata": {},
     "outputs": [],
     "prompt_number": 14
    },
    {
     "cell_type": "code",
     "collapsed": false,
     "input": [],
     "language": "python",
     "metadata": {},
     "outputs": [],
     "prompt_number": 14
    },
    {
     "cell_type": "code",
     "collapsed": false,
     "input": [
      "plt.figure()"
     ],
     "language": "python",
     "metadata": {},
     "outputs": [
      {
       "metadata": {},
       "output_type": "pyout",
       "prompt_number": 15,
       "text": [
        "<matplotlib.figure.Figure at 0x10eab5390>"
       ]
      }
     ],
     "prompt_number": 15
    },
    {
     "cell_type": "code",
     "collapsed": false,
     "input": [
      "lag_plot(tweet_data.lsi_score)\n",
      "show()"
     ],
     "language": "python",
     "metadata": {},
     "outputs": [],
     "prompt_number": 16
    },
    {
     "cell_type": "code",
     "collapsed": false,
     "input": [
      "lag_plot(tweet_data.lda_score)\n",
      "show()"
     ],
     "language": "python",
     "metadata": {},
     "outputs": [],
     "prompt_number": 17
    },
    {
     "cell_type": "code",
     "collapsed": false,
     "input": [
      "autocorrelation_plot(tweet_data.lsi_score)\n",
      "show()"
     ],
     "language": "python",
     "metadata": {},
     "outputs": [],
     "prompt_number": 18
    },
    {
     "cell_type": "code",
     "collapsed": false,
     "input": [
      "autocorrelation_plot(tweet_data.lda_score)"
     ],
     "language": "python",
     "metadata": {},
     "outputs": [
      {
       "metadata": {},
       "output_type": "pyout",
       "prompt_number": 14,
       "text": [
        "<matplotlib.axes._subplots.AxesSubplot at 0x10f8ba390>"
       ]
      }
     ],
     "prompt_number": 14
    },
    {
     "cell_type": "code",
     "collapsed": false,
     "input": [
      "from pandas.tools.plotting import bootstrap_plot\n",
      "bootstrap_plot(tweet_data.lsi_score, size = 50, samples = 300\n",
      "               , color = 'grey')"
     ],
     "language": "python",
     "metadata": {},
     "outputs": [
      {
       "metadata": {},
       "output_type": "pyout",
       "png": "[encoded data removed]",
       "prompt_number": 19,
       "text": [
        "<matplotlib.figure.Figure at 0x114a7c2d0>"
       ]
      }
     ],
     "prompt_number": 19
    },
    {
     "cell_type": "code",
     "collapsed": false,
     "input": [
      "mas = pd.rolling_mean(tweet_data.lsi_score, 20)\n",
      "mstd = pd.rolling_std(tweet_data.lsi_score, 20)\n",
      "mad = pd.rolling_mean(tweet_data.lda_score, 20)\n",
      "madst = pd.rolling_std(tweet_data.lda_score, 20)\n",
      "\n",
      "#plt.plot(tweet_data.index, tweet_data.lsi_score, 'k')\n",
      "plt.plot(mas.index, mas)\n",
      "plt.fill_between(mstd.index, mas-mstd, mas+mstd, color = 'b', alpha = 0.1)\n",
      "plt.plot(mad.index, mad)\n",
      "plt.fill_between(madst.index, mad-madst, mad+madst, color = 'g', alpha = 0.1)\n",
      "plt.xticks(rotation=50)\n",
      "plt.legend()\n",
      "show()\n"
     ],
     "language": "python",
     "metadata": {},
     "outputs": [
      {
       "output_type": "stream",
       "stream": "stderr",
       "text": [
        "/usr/local/lib/python2.7/dist-packages/matplotlib/axes/_axes.py:476: UserWarning: No labelled objects found. Use label='...' kwarg on individual plots.\n",
        "  warnings.warn(\"No labelled objects found. \"\n"
       ]
      }
     ],
     "prompt_number": 11
    },
    {
     "cell_type": "code",
     "collapsed": false,
     "input": [],
     "language": "python",
     "metadata": {},
     "outputs": []
    },
    {
     "cell_type": "markdown",
     "metadata": {},
     "source": [
      "## Preping the stock data"
     ]
    },
    {
     "cell_type": "code",
     "collapsed": false,
     "input": [
      "stock_data = pd.read_csv('../data/stocks.csv', parse_dates={'Timestamp': ['Date', 'Time']},\n",
      "                    index_col='Timestamp')\n",
      "\n"
     ],
     "language": "python",
     "metadata": {},
     "outputs": [],
     "prompt_number": 12
    },
    {
     "cell_type": "markdown",
     "metadata": {},
     "source": [
      "For our purposes, we only want to use the hourly closing time in our analysis. We may return in the future and use other information from our stock data."
     ]
    },
    {
     "cell_type": "code",
     "collapsed": false,
     "input": [
      "stock_data = stock_data[['Stockid','Close']]\n"
     ],
     "language": "python",
     "metadata": {},
     "outputs": [],
     "prompt_number": 13
    },
    {
     "cell_type": "code",
     "collapsed": false,
     "input": [],
     "language": "python",
     "metadata": {},
     "outputs": [],
     "prompt_number": 13
    },
    {
     "cell_type": "code",
     "collapsed": false,
     "input": [
      "dateConvert(stock_data);"
     ],
     "language": "python",
     "metadata": {},
     "outputs": [],
     "prompt_number": 14
    },
    {
     "cell_type": "code",
     "collapsed": false,
     "input": [],
     "language": "python",
     "metadata": {},
     "outputs": [],
     "prompt_number": 14
    },
    {
     "cell_type": "markdown",
     "metadata": {},
     "source": [
      "here we reshape the data into a 'wide' format using pandas pivot function."
     ]
    },
    {
     "cell_type": "code",
     "collapsed": false,
     "input": [
      "stock_data_pivot = stock_data.pivot(index = 'Date', columns='Stockid', values='Close')\n",
      "stock_data_pivot.head()\n"
     ],
     "language": "python",
     "metadata": {},
     "outputs": [
      {
       "html": [
        "<div style=\"max-height:1000px;max-width:1500px;overflow:auto;\">\n",
        "<table border=\"1\" class=\"dataframe\">\n",
        "  <thead>\n",
        "    <tr style=\"text-align: right;\">\n",
        "      <th>Stockid</th>\n",
        "      <th>aapl</th>\n",
        "      <th>amzn</th>\n",
        "      <th>fb</th>\n",
        "      <th>goog</th>\n",
        "      <th>googl</th>\n",
        "      <th>msft</th>\n",
        "      <th>twtr</th>\n",
        "    </tr>\n",
        "    <tr>\n",
        "      <th>Date</th>\n",
        "      <th></th>\n",
        "      <th></th>\n",
        "      <th></th>\n",
        "      <th></th>\n",
        "      <th></th>\n",
        "      <th></th>\n",
        "      <th></th>\n",
        "    </tr>\n",
        "  </thead>\n",
        "  <tbody>\n",
        "    <tr>\n",
        "      <th>2014-08-12 16:00:00</th>\n",
        "      <td> 96.183</td>\n",
        "      <td> 319.93</td>\n",
        "      <td> 72.990</td>\n",
        "      <td> 565.55</td>\n",
        "      <td> 575.65</td>\n",
        "      <td> 43.071</td>\n",
        "      <td> 44.62</td>\n",
        "    </tr>\n",
        "    <tr>\n",
        "      <th>2014-08-12 17:00:00</th>\n",
        "      <td> 95.934</td>\n",
        "      <td> 319.24</td>\n",
        "      <td> 72.470</td>\n",
        "      <td> 563.02</td>\n",
        "      <td> 572.73</td>\n",
        "      <td> 43.091</td>\n",
        "      <td> 44.12</td>\n",
        "    </tr>\n",
        "    <tr>\n",
        "      <th>2014-08-12 18:00:00</th>\n",
        "      <td> 95.914</td>\n",
        "      <td> 319.04</td>\n",
        "      <td> 72.539</td>\n",
        "      <td> 562.40</td>\n",
        "      <td> 571.38</td>\n",
        "      <td> 43.031</td>\n",
        "      <td> 43.94</td>\n",
        "    </tr>\n",
        "    <tr>\n",
        "      <th>2014-08-12 19:00:00</th>\n",
        "      <td> 95.675</td>\n",
        "      <td> 319.10</td>\n",
        "      <td> 72.640</td>\n",
        "      <td> 562.46</td>\n",
        "      <td> 572.00</td>\n",
        "      <td> 43.086</td>\n",
        "      <td> 44.19</td>\n",
        "    </tr>\n",
        "    <tr>\n",
        "      <th>2014-08-12 20:00:00</th>\n",
        "      <td> 95.751</td>\n",
        "      <td> 318.33</td>\n",
        "      <td> 72.520</td>\n",
        "      <td> 562.20</td>\n",
        "      <td> 571.50</td>\n",
        "      <td> 43.137</td>\n",
        "      <td> 44.10</td>\n",
        "    </tr>\n",
        "  </tbody>\n",
        "</table>\n",
        "</div>"
       ],
       "metadata": {},
       "output_type": "pyout",
       "prompt_number": 15,
       "text": [
        "Stockid                aapl    amzn      fb    goog   googl    msft   twtr\n",
        "Date                                                                      \n",
        "2014-08-12 16:00:00  96.183  319.93  72.990  565.55  575.65  43.071  44.62\n",
        "2014-08-12 17:00:00  95.934  319.24  72.470  563.02  572.73  43.091  44.12\n",
        "2014-08-12 18:00:00  95.914  319.04  72.539  562.40  571.38  43.031  43.94\n",
        "2014-08-12 19:00:00  95.675  319.10  72.640  562.46  572.00  43.086  44.19\n",
        "2014-08-12 20:00:00  95.751  318.33  72.520  562.20  571.50  43.137  44.10"
       ]
      }
     ],
     "prompt_number": 15
    },
    {
     "cell_type": "code",
     "collapsed": false,
     "input": [
      "stock_data_pivot.plot()"
     ],
     "language": "python",
     "metadata": {},
     "outputs": [
      {
       "metadata": {},
       "output_type": "pyout",
       "prompt_number": 16,
       "text": [
        "<matplotlib.axes._subplots.AxesSubplot at 0x7fcd18083650>"
       ]
      }
     ],
     "prompt_number": 16
    },
    {
     "cell_type": "code",
     "collapsed": false,
     "input": [
      "test = stock_data_pivot\n",
      "test = test.join(tweet_data)\n"
     ],
     "language": "python",
     "metadata": {},
     "outputs": [],
     "prompt_number": 17
    },
    {
     "cell_type": "markdown",
     "metadata": {},
     "source": [
      "This shows a comparison of the LDA and LSI scores with two running means, 10 and 24 hours. "
     ]
    },
    {
     "cell_type": "code",
     "collapsed": false,
     "input": [
      "mas10 = pd.rolling_mean(tweet_data.lsi_score, 10)\n",
      "mstd10 = pd.rolling_std(tweet_data.lsi_score, 10)\n",
      "mad10 = pd.rolling_mean(tweet_data.lda_score, 10)\n",
      "madst10 = pd.rolling_std(tweet_data.lda_score, 10)\n",
      "mas24 = pd.rolling_mean(tweet_data.lsi_score, 24)\n",
      "mstd24 = pd.rolling_std(tweet_data.lsi_score, 24)\n",
      "mad24 = pd.rolling_mean(tweet_data.lda_score, 24)\n",
      "madst24 = pd.rolling_std(tweet_data.lda_score, 24)\n",
      "\n",
      "# plot the mean / std dev for 10h rolling mean\n",
      "plt.plot(mas10.index, mas10, label='LSI, 10-hour Rolling Mean')\n",
      "plt.fill_between(mstd10.index, mas10-(mstd10*.5), mas10+(mstd10*.5), color = 'b', alpha = 0.1)\n",
      "plt.plot(mad10.index, mad10, label='LDA, 10-hour Rolling Mean')\n",
      "plt.fill_between(madst10.index, mad10-(0.5*madst10), mad10+(madst10* 0.5), color = 'g', alpha = 0.1)\n",
      "\n",
      "# plot mean/std dev for 24h rolling mean\n",
      "plt.plot(mas24.index, mas24, label='LSI, 24-hour Rolling Mean')\n",
      "plt.fill_between(mstd24.index, mas24-(mstd24*.5), mas24+(mstd24*.5), color = 'r', alpha = 0.1)\n",
      "plt.plot(mad24.index, mad24, label='LDA, 24-hour Rolling Mean')\n",
      "plt.fill_between(madst24.index, mad24-(0.5*madst24), mad24+(madst24* 0.5), color = 'k', alpha = 0.1)\n",
      "\n",
      "# plot options\n",
      "plt.xticks(rotation=50)\n",
      "plt.legend(loc = 2, prop={'size':'20'})\n",
      "plt.title('Comparison of LSI and LDA scores for tweet data', size=24)\n",
      "plt.tick_params(labelsize=14)"
     ],
     "language": "python",
     "metadata": {},
     "outputs": [],
     "prompt_number": 18
    },
    {
     "cell_type": "markdown",
     "metadata": {},
     "source": [
      "For presentation purposes, we'll just use the LSI Scores."
     ]
    },
    {
     "cell_type": "code",
     "collapsed": false,
     "input": [
      "# plot the mean / std dev for 10h rolling mean\n",
      "plt.plot(mas10.index, mas10, label='LSI, 10-hour Rolling Mean', color = 'b')\n",
      "plt.fill_between(mstd10.index, mas10-(mstd10*.5), mas10+(mstd10*.5), color = 'b', alpha = 0.1)\n",
      "\n",
      "# plot mean/std dev for 24h rolling mean\n",
      "plt.plot(mas24.index, mas24, label='LSI, 24-hour Rolling Mean', color = 'r')\n",
      "plt.fill_between(mstd24.index, mas24-(mstd24*.5), mas24+(mstd24*.5), color = 'r', alpha = 0.1)\n",
      "\n",
      "# plot options\n",
      "plt.xticks(rotation=50)\n",
      "plt.legend(loc = 2, prop={'size':'20'})\n",
      "plt.title('LSI score per hour, rolling means', size=24)\n",
      "plt.tick_params(labelsize=14)"
     ],
     "language": "python",
     "metadata": {},
     "outputs": [],
     "prompt_number": 19
    },
    {
     "cell_type": "code",
     "collapsed": false,
     "input": [
      "print test.keys()\n",
      "testa = test[['aapl', 'amzn', 'fb', 'goog', 'googl', 'msft', 'twtr', 'total_tweets', 'lsi_score', 'lda_score']]"
     ],
     "language": "python",
     "metadata": {},
     "outputs": [
      {
       "output_type": "stream",
       "stream": "stdout",
       "text": [
        "Index([u'aapl', u'amzn', u'fb', u'goog', u'googl', u'msft', u'twtr', u'total_tweets', u'lsi_words', u'lda_words', u'lsi_score', u'lda_score', u'Date'], dtype='object')\n"
       ]
      }
     ],
     "prompt_number": 28
    },
    {
     "cell_type": "code",
     "collapsed": false,
     "input": [
      "from sklearn.preprocessing import scale\n",
      "from sklearn import preprocessing\n",
      "from pandas import DataFrame\n",
      "\n",
      "zscore = lambda x: (x - x.mean()) / x.std()"
     ],
     "language": "python",
     "metadata": {},
     "outputs": [],
     "prompt_number": 29
    },
    {
     "cell_type": "code",
     "collapsed": false,
     "input": [
      "tweet_data.lsi_score.count()\n"
     ],
     "language": "python",
     "metadata": {},
     "outputs": [
      {
       "metadata": {},
       "output_type": "pyout",
       "prompt_number": 30,
       "text": [
        "349"
       ]
      }
     ],
     "prompt_number": 30
    },
    {
     "cell_type": "code",
     "collapsed": false,
     "input": [
      "z_tweets = scale(tweet_data.lsi_score)\n",
      "z_tweets = DataFrame(z_tweets, index=tweet_data.index)\n",
      "z_tweets['tph'] = scale(log(tweet_data.total_tweets))\n",
      "z_tweets.columns = ['lsi_score','tweets_per_hour']\n",
      "z_tweets.plot()\n"
     ],
     "language": "python",
     "metadata": {},
     "outputs": [
      {
       "metadata": {},
       "output_type": "pyout",
       "prompt_number": 31,
       "text": [
        "<matplotlib.axes._subplots.AxesSubplot at 0x7fccfaa58890>"
       ]
      }
     ],
     "prompt_number": 31
    },
    {
     "cell_type": "code",
     "collapsed": false,
     "input": [
      "# interpolation\n",
      "print stock_data_pivot.amzn.count()\n",
      "stock_data_pivot.amzn = stock_data_pivot.amzn.interpolate()\n",
      "print stock_data_pivot.amzn.count()\n"
     ],
     "language": "python",
     "metadata": {},
     "outputs": [
      {
       "output_type": "stream",
       "stream": "stdout",
       "text": [
        "447\n",
        "447\n"
       ]
      }
     ],
     "prompt_number": 32
    },
    {
     "cell_type": "code",
     "collapsed": false,
     "input": [
      "z_stock = scale(stock_data_pivot)\n",
      "z_stock = DataFrame(z_stock, index=stock_data_pivot.index)\n"
     ],
     "language": "python",
     "metadata": {},
     "outputs": [],
     "prompt_number": 33
    },
    {
     "cell_type": "code",
     "collapsed": false,
     "input": [
      "z_stock.columns = ['aapl', 'amzn', 'fb', 'goog', 'googl', 'msft', 'twtr']\n",
      "z_stock = z_stock[['aapl', 'amzn', 'fb', 'goog', 'msft', 'twtr']]\n",
      "pd.rolling_mean(z_stock, 24).plot()"
     ],
     "language": "python",
     "metadata": {},
     "outputs": [
      {
       "metadata": {},
       "output_type": "pyout",
       "prompt_number": 46,
       "text": [
        "<matplotlib.axes._subplots.AxesSubplot at 0x7fcd08855b50>"
       ]
      }
     ],
     "prompt_number": 46
    },
    {
     "cell_type": "code",
     "collapsed": false,
     "input": [
      "test = z_stock\n",
      "test = test.join(z_tweets)\n",
      "\n",
      "print test.lsi_score.count()\n",
      "\n",
      "test = test.interpolate()\n",
      "test.interpolate().plot()"
     ],
     "language": "python",
     "metadata": {},
     "outputs": [
      {
       "output_type": "stream",
       "stream": "stdout",
       "text": [
        "87\n"
       ]
      },
      {
       "metadata": {},
       "output_type": "pyout",
       "prompt_number": 47,
       "text": [
        "<matplotlib.axes._subplots.AxesSubplot at 0x7fcd08704610>"
       ]
      }
     ],
     "prompt_number": 47
    },
    {
     "cell_type": "code",
     "collapsed": false,
     "input": [
      "#test.pct_change().plot()"
     ],
     "language": "python",
     "metadata": {},
     "outputs": []
    },
    {
     "cell_type": "code",
     "collapsed": false,
     "input": [
      "pd.rolling_mean(tweet_data.total_tweets, 1).plot()\n",
      "plt.tick_params(labelsize=14)"
     ],
     "language": "python",
     "metadata": {},
     "outputs": [],
     "prompt_number": 52
    },
    {
     "cell_type": "code",
     "collapsed": false,
     "input": [
      "print tweet_data.mean()\n",
      "print tweet_data.std()"
     ],
     "language": "python",
     "metadata": {},
     "outputs": [
      {
       "output_type": "stream",
       "stream": "stdout",
       "text": [
        "total_tweets    205262.381089\n",
        "lsi_score            4.779961\n",
        "lda_score            0.918338\n",
        "dtype: float64\n",
        "total_tweets    71739.295896\n",
        "lsi_score           1.393843\n",
        "lda_score           0.764332\n",
        "dtype: float64\n"
       ]
      }
     ],
     "prompt_number": 55
    },
    {
     "cell_type": "code",
     "collapsed": false,
     "input": [],
     "language": "python",
     "metadata": {},
     "outputs": []
    },
    {
     "cell_type": "code",
     "collapsed": false,
     "input": [
      "test.lsi_score.interpolate(method='polynomial', order=2).pct_change().plot()"
     ],
     "language": "python",
     "metadata": {},
     "outputs": [
      {
       "metadata": {},
       "output_type": "pyout",
       "prompt_number": 56,
       "text": [
        "<matplotlib.axes._subplots.AxesSubplot at 0x7fccf6c26e10>"
       ]
      }
     ],
     "prompt_number": 56
    },
    {
     "cell_type": "code",
     "collapsed": false,
     "input": [
      "import datetime as dt\n",
      "start = test.index.searchsorted(dt.datetime(2014,10,10))\n",
      "end = test.index.searchsorted(dt.datetime(2014,11,18))"
     ],
     "language": "python",
     "metadata": {},
     "outputs": [],
     "prompt_number": 57
    },
    {
     "cell_type": "code",
     "collapsed": false,
     "input": [
      "small_range = test.ix[start:end]\n"
     ],
     "language": "python",
     "metadata": {},
     "outputs": [],
     "prompt_number": 130
    },
    {
     "cell_type": "code",
     "collapsed": false,
     "input": [
      "small_range.lsi_score.interpolate().plot(label = 'lsi')\n",
      "small_range.goog.plot(label='GOOG')\n",
      "plt.legend()\n",
      "plt.tick_params(labelsize=14)"
     ],
     "language": "python",
     "metadata": {},
     "outputs": [],
     "prompt_number": 131
    },
    {
     "cell_type": "code",
     "collapsed": false,
     "input": [
      "mvavg = pd.rolling_mean(small_range, 60)\n",
      "#pd.rolling_mean(small_range.goog, 60).plot(label = 'rmean')\n",
      "mvavg.plot()\n",
      "plt.legend()\n",
      "plt.tick_params(labelsize=14)"
     ],
     "language": "python",
     "metadata": {},
     "outputs": [],
     "prompt_number": 60
    },
    {
     "cell_type": "code",
     "collapsed": false,
     "input": [
      "model = statsmodels.tsa.api.VAR(small_range.interpolate(), missing = 'drop')"
     ],
     "language": "python",
     "metadata": {},
     "outputs": [],
     "prompt_number": 62
    },
    {
     "cell_type": "code",
     "collapsed": false,
     "input": [
      "model.select_order(5)\n"
     ],
     "language": "python",
     "metadata": {},
     "outputs": [
      {
       "output_type": "stream",
       "stream": "stdout",
       "text": [
        "                 VAR Order Selection                 \n",
        "=====================================================\n",
        "           aic          bic          fpe         hqic\n",
        "-----------------------------------------------------\n",
        "0       -9.584       -9.391    6.880e-05       -9.506\n",
        "1      -24.40*      -22.66*   2.548e-11*      -23.69*\n",
        "2       -23.68       -20.40    5.289e-11       -22.35\n",
        "3       -23.11       -18.28    9.761e-11       -21.15\n",
        "4       -22.76       -16.39    1.496e-10       -20.18\n",
        "5       -22.39       -14.48    2.484e-10       -19.18\n",
        "=====================================================\n",
        "* Minimum\n",
        "\n"
       ]
      },
      {
       "metadata": {},
       "output_type": "pyout",
       "prompt_number": 63,
       "text": [
        "{'aic': 1, 'bic': 1, 'fpe': 1, 'hqic': 1}"
       ]
      }
     ],
     "prompt_number": 63
    },
    {
     "cell_type": "code",
     "collapsed": false,
     "input": [
      "results = model.fit(5,ic='aic')"
     ],
     "language": "python",
     "metadata": {},
     "outputs": [],
     "prompt_number": 64
    },
    {
     "cell_type": "code",
     "collapsed": false,
     "input": [
      "results.summary()"
     ],
     "language": "python",
     "metadata": {},
     "outputs": [
      {
       "metadata": {},
       "output_type": "pyout",
       "prompt_number": 65,
       "text": [
        "  Summary of Regression Results   \n",
        "==================================\n",
        "Model:                         VAR\n",
        "Method:                        OLS\n",
        "Date:           Tue, 02, Dec, 2014\n",
        "Time:                     23:08:15\n",
        "--------------------------------------------------------------------\n",
        "No. of Equations:         8.00000    BIC:                   -22.7006\n",
        "Nobs:                     117.000    HQIC:                  -23.7103\n",
        "Log likelihood:           171.295    FPE:                2.53578e-11\n",
        "AIC:                     -24.4004    Det(Omega_mle):     1.40163e-11\n",
        "--------------------------------------------------------------------\n",
        "Results for equation aapl\n",
        "=====================================================================================\n",
        "                        coefficient       std. error           t-stat            prob\n",
        "-------------------------------------------------------------------------------------\n",
        "const                      0.323345         0.134802            2.399           0.018\n",
        "L1.aapl                    0.823401         0.067935           12.120           0.000\n",
        "L1.amzn                    0.045077         0.025224            1.787           0.077\n",
        "L1.fb                      0.030902         0.018623            1.659           0.100\n",
        "L1.goog                    0.087395         0.052900            1.652           0.101\n",
        "L1.msft                    0.058009         0.041760            1.389           0.168\n",
        "L1.twtr                   -0.068965         0.037687           -1.830           0.070\n",
        "L1.lsi_score               0.002565         0.010312            0.249           0.804\n",
        "L1.tweets_per_hour        -0.053553         0.016079           -3.331           0.001\n",
        "=====================================================================================\n",
        "\n",
        "Results for equation amzn\n",
        "=====================================================================================\n",
        "                        coefficient       std. error           t-stat            prob\n",
        "-------------------------------------------------------------------------------------\n",
        "const                     -0.308669         0.199649           -1.546           0.125\n",
        "L1.aapl                    0.040680         0.100615            0.404           0.687\n",
        "L1.amzn                    0.957021         0.037358           25.618           0.000\n",
        "L1.fb                      0.015350         0.027582            0.557           0.579\n",
        "L1.goog                   -0.122231         0.078348           -1.560           0.122\n",
        "L1.msft                   -0.070083         0.061849           -1.133           0.260\n",
        "L1.twtr                   -0.090526         0.055817           -1.622           0.108\n",
        "L1.lsi_score               0.047521         0.015272            3.112           0.002\n",
        "L1.tweets_per_hour         0.018202         0.023814            0.764           0.446\n",
        "=====================================================================================\n",
        "\n",
        "Results for equation fb\n",
        "=====================================================================================\n",
        "                        coefficient       std. error           t-stat            prob\n",
        "-------------------------------------------------------------------------------------\n",
        "const                      0.072779         0.347980            0.209           0.835\n",
        "L1.aapl                    0.092684         0.175368            0.529           0.598\n",
        "L1.amzn                   -0.024118         0.065113           -0.370           0.712\n",
        "L1.fb                      0.852631         0.048075           17.735           0.000\n",
        "L1.goog                   -0.025372         0.136558           -0.186           0.853\n",
        "L1.msft                    0.008139         0.107800            0.075           0.940\n",
        "L1.twtr                    0.220230         0.097287            2.264           0.026\n",
        "L1.lsi_score               0.009943         0.026619            0.374           0.709\n",
        "L1.tweets_per_hour        -0.009426         0.041507           -0.227           0.821\n",
        "=====================================================================================\n",
        "\n",
        "Results for equation goog\n",
        "=====================================================================================\n",
        "                        coefficient       std. error           t-stat            prob\n",
        "-------------------------------------------------------------------------------------\n",
        "const                     -0.371493         0.126148           -2.945           0.004\n",
        "L1.aapl                    0.152691         0.063574            2.402           0.018\n",
        "L1.amzn                    0.009021         0.023605            0.382           0.703\n",
        "L1.fb                      0.026257         0.017428            1.507           0.135\n",
        "L1.goog                    0.837791         0.049504           16.924           0.000\n",
        "L1.msft                   -0.113596         0.039079           -2.907           0.004\n",
        "L1.twtr                   -0.056938         0.035268           -1.614           0.109\n",
        "L1.lsi_score               0.028273         0.009650            2.930           0.004\n",
        "L1.tweets_per_hour         0.010431         0.015047            0.693           0.490\n",
        "=====================================================================================\n",
        "\n",
        "Results for equation msft\n",
        "=====================================================================================\n",
        "                        coefficient       std. error           t-stat            prob\n",
        "-------------------------------------------------------------------------------------\n",
        "const                     -0.197756         0.153393           -1.289           0.200\n",
        "L1.aapl                    0.128398         0.077304            1.661           0.100\n",
        "L1.amzn                   -0.000040         0.028703           -0.001           0.999\n",
        "L1.fb                     -0.008357         0.021192           -0.394           0.694\n",
        "L1.goog                   -0.088633         0.060196           -1.472           0.144\n",
        "L1.msft                    0.891678         0.047519           18.764           0.000\n",
        "L1.twtr                   -0.027616         0.042885           -0.644           0.521\n",
        "L1.lsi_score               0.011813         0.011734            1.007           0.316\n",
        "L1.tweets_per_hour        -0.017788         0.018297           -0.972           0.333\n",
        "=====================================================================================\n",
        "\n",
        "Results for equation twtr\n",
        "=====================================================================================\n",
        "                        coefficient       std. error           t-stat            prob\n",
        "-------------------------------------------------------------------------------------\n",
        "const                     -0.305853         0.206567           -1.481           0.142\n",
        "L1.aapl                    0.074425         0.104102            0.715           0.476\n",
        "L1.amzn                    0.050590         0.038652            1.309           0.193\n",
        "L1.fb                      0.026078         0.028538            0.914           0.363\n",
        "L1.goog                   -0.142307         0.081063           -1.756           0.082\n",
        "L1.msft                   -0.107220         0.063992           -1.676           0.097\n",
        "L1.twtr                    0.852606         0.057751           14.763           0.000\n",
        "L1.lsi_score               0.009145         0.015802            0.579           0.564\n",
        "L1.tweets_per_hour        -0.031015         0.024639           -1.259           0.211\n",
        "=====================================================================================\n",
        "\n",
        "Results for equation lsi_score\n",
        "=====================================================================================\n",
        "                        coefficient       std. error           t-stat            prob\n",
        "-------------------------------------------------------------------------------------\n",
        "const                     -0.643538         0.848071           -0.759           0.450\n",
        "L1.aapl                    0.460044         0.427394            1.076           0.284\n",
        "L1.amzn                   -0.366964         0.158689           -2.312           0.023\n",
        "L1.fb                     -0.296093         0.117165           -2.527           0.013\n",
        "L1.goog                   -0.183691         0.332809           -0.552           0.582\n",
        "L1.msft                    0.066295         0.262723            0.252           0.801\n",
        "L1.twtr                    0.608378         0.237101            2.566           0.012\n",
        "L1.lsi_score               0.747035         0.064875           11.515           0.000\n",
        "L1.tweets_per_hour         0.119502         0.101157            1.181           0.240\n",
        "=====================================================================================\n",
        "\n",
        "Results for equation tweets_per_hour\n",
        "=====================================================================================\n",
        "                        coefficient       std. error           t-stat            prob\n",
        "-------------------------------------------------------------------------------------\n",
        "const                      0.269490         0.776862            0.347           0.729\n",
        "L1.aapl                    0.061372         0.391508            0.157           0.876\n",
        "L1.amzn                    0.279044         0.145365            1.920           0.058\n",
        "L1.fb                      0.075509         0.107327            0.704           0.483\n",
        "L1.goog                    0.052817         0.304864            0.173           0.863\n",
        "L1.msft                   -0.060046         0.240663           -0.250           0.803\n",
        "L1.twtr                   -0.237904         0.217193           -1.095           0.276\n",
        "L1.lsi_score              -0.111477         0.059427           -1.876           0.063\n",
        "L1.tweets_per_hour         0.317930         0.092663            3.431           0.001\n",
        "=====================================================================================\n",
        "\n",
        "Correlation matrix of residuals\n",
        "                       aapl      amzn        fb      goog      msft      twtr  lsi_score  tweets_per_hour\n",
        "aapl               1.000000  0.292585  0.265203  0.451827  0.283226 -0.037667  -0.036037         0.271231\n",
        "amzn               0.292585  1.000000  0.071693  0.460635 -0.162275 -0.056739  -0.204374         0.131644\n",
        "fb                 0.265203  0.071693  1.000000  0.213516  0.254954  0.180508  -0.057115         0.092370\n",
        "goog               0.451827  0.460635  0.213516  1.000000  0.241137  0.035560  -0.111302         0.082300\n",
        "msft               0.283226 -0.162275  0.254954  0.241137  1.000000  0.041478  -0.156754         0.142419\n",
        "twtr              -0.037667 -0.056739  0.180508  0.035560  0.041478  1.000000   0.041571        -0.063693\n",
        "lsi_score         -0.036037 -0.204374 -0.057115 -0.111302 -0.156754  0.041571   1.000000        -0.195503\n",
        "tweets_per_hour    0.271231  0.131644  0.092370  0.082300  0.142419 -0.063693  -0.195503         1.000000\n",
        "\n"
       ]
      }
     ],
     "prompt_number": 65
    },
    {
     "cell_type": "code",
     "collapsed": false,
     "input": [
      "results.plot()"
     ],
     "language": "python",
     "metadata": {},
     "outputs": [],
     "prompt_number": 240
    },
    {
     "cell_type": "code",
     "collapsed": false,
     "input": [
      "results.plot_acorr()"
     ],
     "language": "python",
     "metadata": {},
     "outputs": [],
     "prompt_number": 239
    },
    {
     "cell_type": "markdown",
     "metadata": {},
     "source": [
      "Impulse Response Analysis allows us to examine the impact of 'shock' to a variable in our model"
     ]
    },
    {
     "cell_type": "code",
     "collapsed": false,
     "input": [
      "irf = results.irf(2)\n",
      "irf.plot(impulse='lsi_score', orth=False)\n",
      "plt.suptitle('Impulse Responses', fontsize = 20)\n",
      "\n",
      "\n"
     ],
     "language": "python",
     "metadata": {},
     "outputs": [
      {
       "metadata": {},
       "output_type": "pyout",
       "prompt_number": 249,
       "text": [
        "<matplotlib.text.Text object at 0x7fccf299bc10>"
       ]
      }
     ],
     "prompt_number": 249
    },
    {
     "cell_type": "code",
     "collapsed": false,
     "input": [],
     "language": "python",
     "metadata": {},
     "outputs": [],
     "prompt_number": 67
    },
    {
     "cell_type": "code",
     "collapsed": false,
     "input": [
      "fevd = results.fevd(10)\n",
      "fevd.plot()"
     ],
     "language": "python",
     "metadata": {},
     "outputs": [],
     "prompt_number": 68
    },
    {
     "cell_type": "code",
     "collapsed": false,
     "input": [
      "for var in results.names:\n",
      "    results.test_causality(var, ['lsi_score'], signif=0.1, kind='f')"
     ],
     "language": "python",
     "metadata": {},
     "outputs": [
      {
       "output_type": "stream",
       "stream": "stdout",
       "text": [
        "Granger causality f-test\n",
        "=============================================================\n",
        "   Test statistic   Critical Value          p-value        df\n",
        "-------------------------------------------------------------\n",
        "         0.061863         2.711355            0.804  (1, 864)\n",
        "=============================================================\n",
        "H_0: ['lsi_score'] do not Granger-cause aapl\n",
        "Conclusion: fail to reject H_0 at 10.00% significance level\n",
        "Granger causality f-test\n",
        "=============================================================\n",
        "   Test statistic   Critical Value          p-value        df\n",
        "-------------------------------------------------------------\n",
        "         9.681784         2.711355            0.002  (1, 864)\n",
        "=============================================================\n",
        "H_0: ['lsi_score'] do not Granger-cause amzn\n",
        "Conclusion: reject H_0 at 10.00% significance level\n",
        "Granger causality f-test\n",
        "=============================================================\n",
        "   Test statistic   Critical Value          p-value        df\n",
        "-------------------------------------------------------------\n",
        "         0.139518         2.711355            0.709  (1, 864)\n",
        "=============================================================\n",
        "H_0: ['lsi_score'] do not Granger-cause fb\n",
        "Conclusion: fail to reject H_0 at 10.00% significance level\n",
        "Granger causality f-test\n",
        "=============================================================\n",
        "   Test statistic   Critical Value          p-value        df\n",
        "-------------------------------------------------------------\n",
        "         8.584039         2.711355            0.003  (1, 864)\n",
        "=============================================================\n",
        "H_0: ['lsi_score'] do not Granger-cause goog\n",
        "Conclusion: reject H_0 at 10.00% significance level\n",
        "Granger causality f-test\n",
        "=============================================================\n",
        "   Test statistic   Critical Value          p-value        df\n",
        "-------------------------------------------------------------\n",
        "         1.013533         2.711355            0.314  (1, 864)\n",
        "=============================================================\n",
        "H_0: ['lsi_score'] do not Granger-cause msft\n",
        "Conclusion: fail to reject H_0 at 10.00% significance level\n",
        "Granger causality f-test\n",
        "=============================================================\n",
        "   Test statistic   Critical Value          p-value        df\n",
        "-------------------------------------------------------------\n",
        "         0.334930         2.711355            0.563  (1, 864)\n",
        "=============================================================\n",
        "H_0: ['lsi_score'] do not Granger-cause twtr\n",
        "Conclusion: fail to reject H_0 at 10.00% significance level\n",
        "Granger causality f-test\n",
        "=============================================================\n",
        "   Test statistic   Critical Value          p-value        df\n",
        "-------------------------------------------------------------\n",
        "       132.596787         2.711355            0.000  (1, 864)\n",
        "=============================================================\n",
        "H_0: ['lsi_score'] do not Granger-cause lsi_score\n",
        "Conclusion: reject H_0 at 10.00% significance level\n",
        "Granger causality f-test\n",
        "=============================================================\n",
        "   Test statistic   Critical Value          p-value        df\n",
        "-------------------------------------------------------------\n",
        "         3.518828         2.711355            0.061  (1, 864)\n",
        "=============================================================\n",
        "H_0: ['lsi_score'] do not Granger-cause tweets_per_hour\n",
        "Conclusion: reject H_0 at 10.00% significance level\n"
       ]
      }
     ],
     "prompt_number": 250
    },
    {
     "cell_type": "code",
     "collapsed": false,
     "input": [
      "results.plotsim()"
     ],
     "language": "python",
     "metadata": {},
     "outputs": [],
     "prompt_number": 69
    },
    {
     "cell_type": "code",
     "collapsed": false,
     "input": [],
     "language": "python",
     "metadata": {},
     "outputs": []
    },
    {
     "cell_type": "code",
     "collapsed": false,
     "input": [],
     "language": "python",
     "metadata": {},
     "outputs": []
    },
    {
     "cell_type": "code",
     "collapsed": false,
     "input": [],
     "language": "python",
     "metadata": {},
     "outputs": []
    },
    {
     "cell_type": "code",
     "collapsed": false,
     "input": [
      "plt.imshow(corr, cmap = 'hot', interpolation='none')\n",
      "plt.colorbar()\n",
      "plt.xticks(range(len(corr)), corr.columns)\n",
      "plt.yticks(range(len(corr)), corr.columns)\n",
      "plt.show()"
     ],
     "language": "python",
     "metadata": {},
     "outputs": [
      {
       "ename": "NameError",
       "evalue": "name 'corr' is not defined",
       "output_type": "pyerr",
       "traceback": [
        "\u001b[1;31m---------------------------------------------------------------------------\u001b[0m\n\u001b[1;31mNameError\u001b[0m                                 Traceback (most recent call last)",
        "\u001b[1;32m<ipython-input-70-36cca6a6678b>\u001b[0m in \u001b[0;36m<module>\u001b[1;34m()\u001b[0m\n\u001b[1;32m----> 1\u001b[1;33m \u001b[0mplt\u001b[0m\u001b[1;33m.\u001b[0m\u001b[0mimshow\u001b[0m\u001b[1;33m(\u001b[0m\u001b[0mcorr\u001b[0m\u001b[1;33m,\u001b[0m \u001b[0mcmap\u001b[0m \u001b[1;33m=\u001b[0m \u001b[1;34m'hot'\u001b[0m\u001b[1;33m,\u001b[0m \u001b[0minterpolation\u001b[0m\u001b[1;33m=\u001b[0m\u001b[1;34m'none'\u001b[0m\u001b[1;33m)\u001b[0m\u001b[1;33m\u001b[0m\u001b[0m\n\u001b[0m\u001b[0;32m      2\u001b[0m \u001b[0mplt\u001b[0m\u001b[1;33m.\u001b[0m\u001b[0mcolorbar\u001b[0m\u001b[1;33m(\u001b[0m\u001b[1;33m)\u001b[0m\u001b[1;33m\u001b[0m\u001b[0m\n\u001b[0;32m      3\u001b[0m \u001b[0mplt\u001b[0m\u001b[1;33m.\u001b[0m\u001b[0mxticks\u001b[0m\u001b[1;33m(\u001b[0m\u001b[0mrange\u001b[0m\u001b[1;33m(\u001b[0m\u001b[0mlen\u001b[0m\u001b[1;33m(\u001b[0m\u001b[0mcorr\u001b[0m\u001b[1;33m)\u001b[0m\u001b[1;33m)\u001b[0m\u001b[1;33m,\u001b[0m \u001b[0mcorr\u001b[0m\u001b[1;33m.\u001b[0m\u001b[0mcolumns\u001b[0m\u001b[1;33m)\u001b[0m\u001b[1;33m\u001b[0m\u001b[0m\n\u001b[0;32m      4\u001b[0m \u001b[0mplt\u001b[0m\u001b[1;33m.\u001b[0m\u001b[0myticks\u001b[0m\u001b[1;33m(\u001b[0m\u001b[0mrange\u001b[0m\u001b[1;33m(\u001b[0m\u001b[0mlen\u001b[0m\u001b[1;33m(\u001b[0m\u001b[0mcorr\u001b[0m\u001b[1;33m)\u001b[0m\u001b[1;33m)\u001b[0m\u001b[1;33m,\u001b[0m \u001b[0mcorr\u001b[0m\u001b[1;33m.\u001b[0m\u001b[0mcolumns\u001b[0m\u001b[1;33m)\u001b[0m\u001b[1;33m\u001b[0m\u001b[0m\n\u001b[0;32m      5\u001b[0m \u001b[0mplt\u001b[0m\u001b[1;33m.\u001b[0m\u001b[0mshow\u001b[0m\u001b[1;33m(\u001b[0m\u001b[1;33m)\u001b[0m\u001b[1;33m\u001b[0m\u001b[0m\n",
        "\u001b[1;31mNameError\u001b[0m: name 'corr' is not defined"
       ]
      }
     ],
     "prompt_number": 70
    },
    {
     "cell_type": "code",
     "collapsed": false,
     "input": [
      "smooth_lsi = small_range.interpolate()\n",
      "smooth_lsi.lsi_score = pd.rolling_mean(smooth_lsi.lsi_score, 24)\n",
      "smooth_lsi.aapl = pd.rolling_mean(smooth_lsi.aapl, 24)\n",
      "smooth_lsi.amzn = pd.rolling_mean(smooth_lsi.amzn, 24)\n",
      "smooth_lsi.fb = pd.rolling_mean(smooth_lsi.fb, 24)\n",
      "smooth_lsi.goog = pd.rolling_mean(smooth_lsi.goog, 24)\n",
      "smooth_lsi.msft = pd.rolling_mean(smooth_lsi.msft, 24)\n",
      "smooth_lsi.twtr = pd.rolling_mean(smooth_lsi.twtr, 24)\n",
      "#smooth_lsi.lsi_score.plot()\n"
     ],
     "language": "python",
     "metadata": {},
     "outputs": [
      {
       "metadata": {},
       "output_type": "pyout",
       "prompt_number": 179,
       "text": [
        "<matplotlib.axes._subplots.AxesSubplot at 0x7fccf377ef10>"
       ]
      }
     ],
     "prompt_number": 179
    },
    {
     "cell_type": "code",
     "collapsed": false,
     "input": [],
     "language": "python",
     "metadata": {},
     "outputs": [],
     "prompt_number": 164
    },
    {
     "cell_type": "code",
     "collapsed": false,
     "input": [
      "fig = plt.figure()\n",
      "ax1 = fig.add_subplot(211)\n",
      "ax1.plot(smooth_lsi.lsi_score.plot(label = 'LSI, 24h rolling mean', color = '#5e402e'))\n",
      "fig.add_subplot(plot(smooth_lsi.aapl, label='Apple, 24h rolling mean', color = '#519e8b'))\n",
      "#pd.rolling_mean(small_range.amzn, 24).plot(label='Amazon, 24h rolling mean', color = '#be5fc1')\n",
      "#pd.rolling_mean(small_range.fb, 24).plot(label='Facebook, 24h rolling mean', color = '#c8803a')\n",
      "#axarr[0].legend()\n",
      "#axarr[1].plot(smooth_lsi.index, smooth_lsi.lsi_score, label = 'LSI, 24h rolling mean', color = '#5e402e')\n",
      "#axarr[1].plot(smooth_lsi.index, fb, label='Facebook, 24h rolling mean', color = '#6574b3')\n",
      "#axarr[1].plot(smooth_lsi.index, smooth_lsi.goog, label='Google, 24h rolling mean', color = '#bb5868')\n",
      "#axarr[1].plot(smooth_lsi.index, smooth_lsi.twtr, label='Twitter, 24h rolling mean', color = '#5da148')\n",
      "#fig.legend()\n",
      "#fig.tick_params(labelsize = 14)\n",
      "plt.show()\n",
      "#p.plot()\n",
      "#plt.legend()\n",
      "#plt.tick_params(labelsize=14)smoo"
     ],
     "language": "python",
     "metadata": {},
     "outputs": [
      {
       "ename": "TypeError",
       "evalue": "float() argument must be a string or a number",
       "output_type": "pyerr",
       "traceback": [
        "\u001b[1;31m---------------------------------------------------------------------------\u001b[0m\n\u001b[1;31mTypeError\u001b[0m                                 Traceback (most recent call last)",
        "\u001b[1;32m<ipython-input-186-f88d5922f5db>\u001b[0m in \u001b[0;36m<module>\u001b[1;34m()\u001b[0m\n\u001b[0;32m      1\u001b[0m \u001b[0mfig\u001b[0m \u001b[1;33m=\u001b[0m \u001b[0mplt\u001b[0m\u001b[1;33m.\u001b[0m\u001b[0mfigure\u001b[0m\u001b[1;33m(\u001b[0m\u001b[1;33m)\u001b[0m\u001b[1;33m\u001b[0m\u001b[0m\n\u001b[0;32m      2\u001b[0m \u001b[0max1\u001b[0m \u001b[1;33m=\u001b[0m \u001b[0mfig\u001b[0m\u001b[1;33m.\u001b[0m\u001b[0madd_subplot\u001b[0m\u001b[1;33m(\u001b[0m\u001b[1;36m211\u001b[0m\u001b[1;33m)\u001b[0m\u001b[1;33m\u001b[0m\u001b[0m\n\u001b[1;32m----> 3\u001b[1;33m \u001b[0max1\u001b[0m\u001b[1;33m.\u001b[0m\u001b[0mplot\u001b[0m\u001b[1;33m(\u001b[0m\u001b[0msmooth_lsi\u001b[0m\u001b[1;33m.\u001b[0m\u001b[0mlsi_score\u001b[0m\u001b[1;33m.\u001b[0m\u001b[0mplot\u001b[0m\u001b[1;33m(\u001b[0m\u001b[0mlabel\u001b[0m \u001b[1;33m=\u001b[0m \u001b[1;34m'LSI, 24h rolling mean'\u001b[0m\u001b[1;33m,\u001b[0m \u001b[0mcolor\u001b[0m \u001b[1;33m=\u001b[0m \u001b[1;34m'#5e402e'\u001b[0m\u001b[1;33m)\u001b[0m\u001b[1;33m)\u001b[0m\u001b[1;33m\u001b[0m\u001b[0m\n\u001b[0m\u001b[0;32m      4\u001b[0m \u001b[0mfig\u001b[0m\u001b[1;33m.\u001b[0m\u001b[0madd_subplot\u001b[0m\u001b[1;33m(\u001b[0m\u001b[0mplot\u001b[0m\u001b[1;33m(\u001b[0m\u001b[0msmooth_lsi\u001b[0m\u001b[1;33m.\u001b[0m\u001b[0maapl\u001b[0m\u001b[1;33m,\u001b[0m \u001b[0mlabel\u001b[0m\u001b[1;33m=\u001b[0m\u001b[1;34m'Apple, 24h rolling mean'\u001b[0m\u001b[1;33m,\u001b[0m \u001b[0mcolor\u001b[0m \u001b[1;33m=\u001b[0m \u001b[1;34m'#519e8b'\u001b[0m\u001b[1;33m)\u001b[0m\u001b[1;33m)\u001b[0m\u001b[1;33m\u001b[0m\u001b[0m\n\u001b[0;32m      5\u001b[0m \u001b[1;31m#pd.rolling_mean(small_range.amzn, 24).plot(label='Amazon, 24h rolling mean', color = '#be5fc1')\u001b[0m\u001b[1;33m\u001b[0m\u001b[1;33m\u001b[0m\u001b[0m\n",
        "\u001b[1;32m/usr/local/lib/python2.7/dist-packages/matplotlib/axes/_axes.pyc\u001b[0m in \u001b[0;36mplot\u001b[1;34m(self, *args, **kwargs)\u001b[0m\n\u001b[0;32m   1373\u001b[0m \u001b[1;33m\u001b[0m\u001b[0m\n\u001b[0;32m   1374\u001b[0m         \u001b[1;32mfor\u001b[0m \u001b[0mline\u001b[0m \u001b[1;32min\u001b[0m \u001b[0mself\u001b[0m\u001b[1;33m.\u001b[0m\u001b[0m_get_lines\u001b[0m\u001b[1;33m(\u001b[0m\u001b[1;33m*\u001b[0m\u001b[0margs\u001b[0m\u001b[1;33m,\u001b[0m \u001b[1;33m**\u001b[0m\u001b[0mkwargs\u001b[0m\u001b[1;33m)\u001b[0m\u001b[1;33m:\u001b[0m\u001b[1;33m\u001b[0m\u001b[0m\n\u001b[1;32m-> 1375\u001b[1;33m             \u001b[0mself\u001b[0m\u001b[1;33m.\u001b[0m\u001b[0madd_line\u001b[0m\u001b[1;33m(\u001b[0m\u001b[0mline\u001b[0m\u001b[1;33m)\u001b[0m\u001b[1;33m\u001b[0m\u001b[0m\n\u001b[0m\u001b[0;32m   1376\u001b[0m             \u001b[0mlines\u001b[0m\u001b[1;33m.\u001b[0m\u001b[0mappend\u001b[0m\u001b[1;33m(\u001b[0m\u001b[0mline\u001b[0m\u001b[1;33m)\u001b[0m\u001b[1;33m\u001b[0m\u001b[0m\n\u001b[0;32m   1377\u001b[0m \u001b[1;33m\u001b[0m\u001b[0m\n",
        "\u001b[1;32m/usr/local/lib/python2.7/dist-packages/matplotlib/axes/_base.pyc\u001b[0m in \u001b[0;36madd_line\u001b[1;34m(self, line)\u001b[0m\n\u001b[0;32m   1484\u001b[0m             \u001b[0mline\u001b[0m\u001b[1;33m.\u001b[0m\u001b[0mset_clip_path\u001b[0m\u001b[1;33m(\u001b[0m\u001b[0mself\u001b[0m\u001b[1;33m.\u001b[0m\u001b[0mpatch\u001b[0m\u001b[1;33m)\u001b[0m\u001b[1;33m\u001b[0m\u001b[0m\n\u001b[0;32m   1485\u001b[0m \u001b[1;33m\u001b[0m\u001b[0m\n\u001b[1;32m-> 1486\u001b[1;33m         \u001b[0mself\u001b[0m\u001b[1;33m.\u001b[0m\u001b[0m_update_line_limits\u001b[0m\u001b[1;33m(\u001b[0m\u001b[0mline\u001b[0m\u001b[1;33m)\u001b[0m\u001b[1;33m\u001b[0m\u001b[0m\n\u001b[0m\u001b[0;32m   1487\u001b[0m         \u001b[1;32mif\u001b[0m \u001b[1;32mnot\u001b[0m \u001b[0mline\u001b[0m\u001b[1;33m.\u001b[0m\u001b[0mget_label\u001b[0m\u001b[1;33m(\u001b[0m\u001b[1;33m)\u001b[0m\u001b[1;33m:\u001b[0m\u001b[1;33m\u001b[0m\u001b[0m\n\u001b[0;32m   1488\u001b[0m             \u001b[0mline\u001b[0m\u001b[1;33m.\u001b[0m\u001b[0mset_label\u001b[0m\u001b[1;33m(\u001b[0m\u001b[1;34m'_line%d'\u001b[0m \u001b[1;33m%\u001b[0m \u001b[0mlen\u001b[0m\u001b[1;33m(\u001b[0m\u001b[0mself\u001b[0m\u001b[1;33m.\u001b[0m\u001b[0mlines\u001b[0m\u001b[1;33m)\u001b[0m\u001b[1;33m)\u001b[0m\u001b[1;33m\u001b[0m\u001b[0m\n",
        "\u001b[1;32m/usr/local/lib/python2.7/dist-packages/matplotlib/axes/_base.pyc\u001b[0m in \u001b[0;36m_update_line_limits\u001b[1;34m(self, line)\u001b[0m\n\u001b[0;32m   1495\u001b[0m         \u001b[0mFigures\u001b[0m \u001b[0mout\u001b[0m \u001b[0mthe\u001b[0m \u001b[0mdata\u001b[0m \u001b[0mlimit\u001b[0m \u001b[0mof\u001b[0m \u001b[0mthe\u001b[0m \u001b[0mgiven\u001b[0m \u001b[0mline\u001b[0m\u001b[1;33m,\u001b[0m \u001b[0mupdating\u001b[0m \u001b[0mself\u001b[0m\u001b[1;33m.\u001b[0m\u001b[0mdataLim\u001b[0m\u001b[1;33m.\u001b[0m\u001b[1;33m\u001b[0m\u001b[0m\n\u001b[0;32m   1496\u001b[0m         \"\"\"\n\u001b[1;32m-> 1497\u001b[1;33m         \u001b[0mpath\u001b[0m \u001b[1;33m=\u001b[0m \u001b[0mline\u001b[0m\u001b[1;33m.\u001b[0m\u001b[0mget_path\u001b[0m\u001b[1;33m(\u001b[0m\u001b[1;33m)\u001b[0m\u001b[1;33m\u001b[0m\u001b[0m\n\u001b[0m\u001b[0;32m   1498\u001b[0m         \u001b[1;32mif\u001b[0m \u001b[0mpath\u001b[0m\u001b[1;33m.\u001b[0m\u001b[0mvertices\u001b[0m\u001b[1;33m.\u001b[0m\u001b[0msize\u001b[0m \u001b[1;33m==\u001b[0m \u001b[1;36m0\u001b[0m\u001b[1;33m:\u001b[0m\u001b[1;33m\u001b[0m\u001b[0m\n\u001b[0;32m   1499\u001b[0m             \u001b[1;32mreturn\u001b[0m\u001b[1;33m\u001b[0m\u001b[0m\n",
        "\u001b[1;32m/usr/local/lib/python2.7/dist-packages/matplotlib/lines.pyc\u001b[0m in \u001b[0;36mget_path\u001b[1;34m(self)\u001b[0m\n\u001b[0;32m    869\u001b[0m         \"\"\"\n\u001b[0;32m    870\u001b[0m         \u001b[1;32mif\u001b[0m \u001b[0mself\u001b[0m\u001b[1;33m.\u001b[0m\u001b[0m_invalidy\u001b[0m \u001b[1;32mor\u001b[0m \u001b[0mself\u001b[0m\u001b[1;33m.\u001b[0m\u001b[0m_invalidx\u001b[0m\u001b[1;33m:\u001b[0m\u001b[1;33m\u001b[0m\u001b[0m\n\u001b[1;32m--> 871\u001b[1;33m             \u001b[0mself\u001b[0m\u001b[1;33m.\u001b[0m\u001b[0mrecache\u001b[0m\u001b[1;33m(\u001b[0m\u001b[1;33m)\u001b[0m\u001b[1;33m\u001b[0m\u001b[0m\n\u001b[0m\u001b[0;32m    872\u001b[0m         \u001b[1;32mreturn\u001b[0m \u001b[0mself\u001b[0m\u001b[1;33m.\u001b[0m\u001b[0m_path\u001b[0m\u001b[1;33m\u001b[0m\u001b[0m\n\u001b[0;32m    873\u001b[0m \u001b[1;33m\u001b[0m\u001b[0m\n",
        "\u001b[1;32m/usr/local/lib/python2.7/dist-packages/matplotlib/lines.pyc\u001b[0m in \u001b[0;36mrecache\u001b[1;34m(self, always)\u001b[0m\n\u001b[0;32m    579\u001b[0m                 \u001b[0my\u001b[0m \u001b[1;33m=\u001b[0m \u001b[0mma\u001b[0m\u001b[1;33m.\u001b[0m\u001b[0masarray\u001b[0m\u001b[1;33m(\u001b[0m\u001b[0myconv\u001b[0m\u001b[1;33m,\u001b[0m \u001b[0mnp\u001b[0m\u001b[1;33m.\u001b[0m\u001b[0mfloat_\u001b[0m\u001b[1;33m)\u001b[0m\u001b[1;33m\u001b[0m\u001b[0m\n\u001b[0;32m    580\u001b[0m             \u001b[1;32melse\u001b[0m\u001b[1;33m:\u001b[0m\u001b[1;33m\u001b[0m\u001b[0m\n\u001b[1;32m--> 581\u001b[1;33m                 \u001b[0my\u001b[0m \u001b[1;33m=\u001b[0m \u001b[0mnp\u001b[0m\u001b[1;33m.\u001b[0m\u001b[0masarray\u001b[0m\u001b[1;33m(\u001b[0m\u001b[0myconv\u001b[0m\u001b[1;33m,\u001b[0m \u001b[0mnp\u001b[0m\u001b[1;33m.\u001b[0m\u001b[0mfloat_\u001b[0m\u001b[1;33m)\u001b[0m\u001b[1;33m\u001b[0m\u001b[0m\n\u001b[0m\u001b[0;32m    582\u001b[0m             \u001b[0my\u001b[0m \u001b[1;33m=\u001b[0m \u001b[0my\u001b[0m\u001b[1;33m.\u001b[0m\u001b[0mravel\u001b[0m\u001b[1;33m(\u001b[0m\u001b[1;33m)\u001b[0m\u001b[1;33m\u001b[0m\u001b[0m\n\u001b[0;32m    583\u001b[0m         \u001b[1;32melse\u001b[0m\u001b[1;33m:\u001b[0m\u001b[1;33m\u001b[0m\u001b[0m\n",
        "\u001b[1;32m/usr/local/lib/python2.7/dist-packages/numpy/core/numeric.pyc\u001b[0m in \u001b[0;36masarray\u001b[1;34m(a, dtype, order)\u001b[0m\n\u001b[0;32m    460\u001b[0m \u001b[1;33m\u001b[0m\u001b[0m\n\u001b[0;32m    461\u001b[0m     \"\"\"\n\u001b[1;32m--> 462\u001b[1;33m     \u001b[1;32mreturn\u001b[0m \u001b[0marray\u001b[0m\u001b[1;33m(\u001b[0m\u001b[0ma\u001b[0m\u001b[1;33m,\u001b[0m \u001b[0mdtype\u001b[0m\u001b[1;33m,\u001b[0m \u001b[0mcopy\u001b[0m\u001b[1;33m=\u001b[0m\u001b[0mFalse\u001b[0m\u001b[1;33m,\u001b[0m \u001b[0morder\u001b[0m\u001b[1;33m=\u001b[0m\u001b[0morder\u001b[0m\u001b[1;33m)\u001b[0m\u001b[1;33m\u001b[0m\u001b[0m\n\u001b[0m\u001b[0;32m    463\u001b[0m \u001b[1;33m\u001b[0m\u001b[0m\n\u001b[0;32m    464\u001b[0m \u001b[1;32mdef\u001b[0m \u001b[0masanyarray\u001b[0m\u001b[1;33m(\u001b[0m\u001b[0ma\u001b[0m\u001b[1;33m,\u001b[0m \u001b[0mdtype\u001b[0m\u001b[1;33m=\u001b[0m\u001b[0mNone\u001b[0m\u001b[1;33m,\u001b[0m \u001b[0morder\u001b[0m\u001b[1;33m=\u001b[0m\u001b[0mNone\u001b[0m\u001b[1;33m)\u001b[0m\u001b[1;33m:\u001b[0m\u001b[1;33m\u001b[0m\u001b[0m\n",
        "\u001b[1;31mTypeError\u001b[0m: float() argument must be a string or a number"
       ]
      }
     ],
     "prompt_number": 186
    },
    {
     "cell_type": "code",
     "collapsed": false,
     "input": [
      "pd.rolling_mean(smooth_lsi, 24).plot(label = 'LSI, 24h rolling mean', color = '#5e402e')\n",
      "pd.rolling_mean(small_range.fb, 24).plot(label='Facebook, 24h rolling mean', color = '#6574b3')\n",
      "pd.rolling_mean(small_range.goog, 24).plot(label='Google, 24h rolling mean', color = '#bb5868')\n",
      "pd.rolling_mean(small_range.twtr, 24).plot(label='Twitter, 24h rolling mean', color = '#5da148')\n",
      "plt.legend()\n",
      "plt.tick_params(labelsize = 14)"
     ],
     "language": "python",
     "metadata": {},
     "outputs": [],
     "prompt_number": 181
    },
    {
     "cell_type": "code",
     "collapsed": false,
     "input": [
      "#smooth_lsi = small_range.lsi_score.interpolate()\n",
      "#smooth_lsi = pd.rolling_mean(smooth_lsi, 24)\n",
      "figure(1)\n",
      "subplot(211)\n",
      "pd.rolling_mean(small_range.lsi_score, 12).plot(label = 'LSI, 12h rolling mean', color = '#5e402e', linewidth = 2.5)\n",
      "pd.rolling_mean(small_range.aapl, 24).plot(label='Apple, 24h rolling mean', color = '#519e8b', linewidth = 2)\n",
      "pd.rolling_mean(small_range.amzn, 24).plot(label='Amazon, 24h rolling mean', color = '#be5fc1', linewidth = 2)\n",
      "pd.rolling_mean(small_range.fb, 24).plot(label='Facebook, 24h rolling mean', color = '#c8803a', linewidth = 2)\n",
      "plt.xlabel('')\n",
      "plt.ylabel('z-scored value')\n",
      "#fig = plt.figure()\n",
      "#ax = fig.add_subplot(111)\n",
      "#ax.grid(True)\n",
      "#ax.set_xticklabels([])\n",
      "plt.tick_params(labelsize = 14)\n",
      "plt.legend()\n",
      "subplot(212)\n",
      "pd.rolling_mean(small_range.lsi_score, 12).plot(label = 'LSI, 12h rolling mean', color = '#5e402e', linewidth = 2.5)\n",
      "#pd.rolling_mean(small_range.lsi_score, 2).plot(label = 'LSI, 24h rolling mean', color = '#5e402e')\n",
      "pd.rolling_mean(small_range.goog, 24).plot(label='Google, 24h rolling mean', color = '#bb5868', linewidth = 2)\n",
      "pd.rolling_mean(small_range.msft, 24).plot(label='Microsoft, 24h rolling mean', color = '#6574b3', linewidth = 2)\n",
      "pd.rolling_mean(small_range.twtr, 24).plot(label='Twitter, 24h rolling mean', color = '#5da148', linewidth = 2)\n",
      "plt.legend()\n",
      "plt.ylabel('z-scored value')\n",
      "plt.tick_params(labelsize = 14)\n",
      "plt.show()\n",
      "\n",
      "\n"
     ],
     "language": "python",
     "metadata": {},
     "outputs": [],
     "prompt_number": 238
    },
    {
     "cell_type": "code",
     "collapsed": false,
     "input": [
      "#smooth_lsi = small_range.lsi_score.interpolate()\n",
      "#smooth_lsi = pd.rolling_mean(smooth_lsi, 24)\n",
      "figure(1)\n",
      "subplot(211)\n",
      "pd.rolling_mean(small_range.lsi_score, 1).plot(label = 'LSI, 12h rolling mean', color = '#5e402e', linewidth = 2.5)\n",
      "pd.rolling_mean(small_range.aapl, 4).plot(label='Apple, 24h rolling mean', color = '#519e8b', linewidth = 2)\n",
      "pd.rolling_mean(small_range.amzn, 4).plot(label='Amazon, 24h rolling mean', color = '#be5fc1', linewidth = 2)\n",
      "pd.rolling_mean(small_range.fb, 4).plot(label='Facebook, 24h rolling mean', color = '#c8803a', linewidth = 2)\n",
      "plt.xlabel('')\n",
      "plt.ylabel('z-scored value')\n",
      "plt.title('Detail of October 28th - October 30th ', fontsize = 22)\n",
      "#fig = plt.figure()\n",
      "#ax = fig.add_subplot(111)\n",
      "#ax.grid(True)\n",
      "#ax.set_xticklabels([])\n",
      "plt.tick_params(labelsize = 14)\n",
      "plt.legend()\n",
      "subplot(212)\n",
      "pd.rolling_mean(small_range.lsi_score, 1).plot(label = 'LSI, 12h rolling mean', color = '#5e402e', linewidth = 2.5)\n",
      "#pd.rolling_mean(small_range.lsi_score, 2).plot(label = 'LSI, 24h rolling mean', color = '#5e402e')\n",
      "pd.rolling_mean(small_range.goog, 4).plot(label='Google, 24h rolling mean', color = '#bb5868', linewidth = 2)\n",
      "pd.rolling_mean(small_range.msft, 4).plot(label='Microsoft, 24h rolling mean', color = '#6574b3', linewidth = 2)\n",
      "pd.rolling_mean(small_range.twtr, 4).plot(label='Twitter, 24h rolling mean', color = '#5da148', linewidth = 2)\n",
      "plt.legend()\n",
      "plt.ylabel('z-scored value')\n",
      "plt.tick_params(labelsize = 14)\n",
      "plt.show()\n",
      "\n",
      "\n"
     ],
     "language": "python",
     "metadata": {},
     "outputs": [],
     "prompt_number": 237
    },
    {
     "cell_type": "code",
     "collapsed": false,
     "input": [
      "pd.rolling_mean(smooth_lsi, 24).plot(label = 'LSI, 24h rolling mean')\n",
      "pd.rolling_mean(small_range.msft, 24).plot(label='GOOG, 24h rolling mean')\n",
      "plt.legend()\n",
      "plt.tick_params(labelsize=14)"
     ],
     "language": "python",
     "metadata": {},
     "outputs": [],
     "prompt_number": 88
    },
    {
     "cell_type": "code",
     "collapsed": false,
     "input": [
      "pd.rolling_mean(smooth_lsi, 24).plot(label = 'LSI, 24h rolling mean')\n",
      "pd.rolling_mean(small_range.twtr, 24).plot(label='Twitter, 24h rolling mean')\n",
      "plt.legend()\n",
      "plt.tick_params(labelsize=14)"
     ],
     "language": "python",
     "metadata": {},
     "outputs": [],
     "prompt_number": 89
    },
    {
     "cell_type": "code",
     "collapsed": false,
     "input": [],
     "language": "python",
     "metadata": {},
     "outputs": []
    }
   ],
   "metadata": {}
  }
 ]
}